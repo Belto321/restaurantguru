{
 "cells": [
  {
   "cell_type": "markdown",
   "metadata": {},
   "source": [
    "# EDA"
   ]
  },
  {
   "cell_type": "markdown",
   "metadata": {},
   "source": [
    "EDA Propuesto:\n",
    "\n",
    "a) Revisar la tabla reviews.CSV:\n",
    "\n",
    "Comprobar el contenido de las columnas, dimensiones, y valores nulos.\n",
    "\n",
    "Verificar la cantidad y longitud de las reseñas (text).\n",
    "\n",
    "Evaluar la distribución de las calificaciones (rating).\n",
    "\n",
    "Identificar cuántas reseñas tienen texto frente a cuántas solo tienen calificaciones.\n"
   ]
  },
  {
   "cell_type": "code",
   "execution_count": 60,
   "metadata": {},
   "outputs": [],
   "source": [
    "import pandas as pd\n",
    "import matplotlib.pyplot as plt\n",
    "import seaborn as sns"
   ]
  },
  {
   "cell_type": "markdown",
   "metadata": {},
   "source": [
    "# EDA reviews.CSV"
   ]
  },
  {
   "cell_type": "markdown",
   "metadata": {},
   "source": [
    "Este análisis inicial incluirá:\n",
    "\n",
    "Cargar y explorar los datos:\n",
    "\n",
    "Examinar las dimensiones y columnas.\n",
    "\n",
    "Analizar valores nulos o inconsistentes.\n",
    "\n",
    "Revisar el contenido textual (text) y las calificaciones (rating).\n",
    "\n",
    "Distribución de las calificaciones y texto.\n"
   ]
  },
  {
   "cell_type": "code",
   "execution_count": 61,
   "metadata": {},
   "outputs": [
    {
     "name": "stdout",
     "output_type": "stream",
     "text": [
      "   Unnamed: 0  id_user                            id_business  rating  \\\n",
      "0           0        1  0x8894b5a7a7909725:0xe4687299fd288188       5   \n",
      "1           3        2  0x8894b5a7a7909725:0xe4687299fd288188       1   \n",
      "2           6        3  0x8894b5a7a7909725:0xe4687299fd288188       5   \n",
      "3           9        4  0x8894b5a7a7909725:0xe4687299fd288188       5   \n",
      "4          12        5  0x8894b5a7a7909725:0xe4687299fd288188       5   \n",
      "\n",
      "                                                text                     date  \\\n",
      "0  The salads were lackluster though with well wr...  2018-09-17 14:51:08.022   \n",
      "1  Love this place. Great little restaurant, with...  2018-09-20 00:12:47.631   \n",
      "2  A classy restaurant to match the charm of the ...  2018-08-22 11:13:16.392   \n",
      "3                     Great atmosphere and good food  2019-04-17 01:25:32.274   \n",
      "4                                          Good food  2019-05-20 22:42:50.993   \n",
      "\n",
      "   id  \n",
      "0   1  \n",
      "1   2  \n",
      "2   3  \n",
      "3   4  \n",
      "4   5  \n"
     ]
    }
   ],
   "source": [
    "# Cargar el archivo con el delimitador correcto\n",
    "reviews_df = pd.read_csv('reviews.CSV', delimiter=';')\n",
    "\n",
    "# Verificar las primeras filas nuevamente\n",
    "print(reviews_df.head())\n"
   ]
  },
  {
   "cell_type": "code",
   "execution_count": 62,
   "metadata": {},
   "outputs": [],
   "source": [
    "reviews_df = reviews_df.drop(columns=['Unnamed: 0'])"
   ]
  },
  {
   "cell_type": "code",
   "execution_count": 63,
   "metadata": {},
   "outputs": [
    {
     "name": "stdout",
     "output_type": "stream",
     "text": [
      "   id_user                            id_business  rating  \\\n",
      "0        1  0x8894b5a7a7909725:0xe4687299fd288188       5   \n",
      "1        2  0x8894b5a7a7909725:0xe4687299fd288188       1   \n",
      "2        3  0x8894b5a7a7909725:0xe4687299fd288188       5   \n",
      "3        4  0x8894b5a7a7909725:0xe4687299fd288188       5   \n",
      "4        5  0x8894b5a7a7909725:0xe4687299fd288188       5   \n",
      "\n",
      "                                                text                     date  \\\n",
      "0  The salads were lackluster though with well wr...  2018-09-17 14:51:08.022   \n",
      "1  Love this place. Great little restaurant, with...  2018-09-20 00:12:47.631   \n",
      "2  A classy restaurant to match the charm of the ...  2018-08-22 11:13:16.392   \n",
      "3                     Great atmosphere and good food  2019-04-17 01:25:32.274   \n",
      "4                                          Good food  2019-05-20 22:42:50.993   \n",
      "\n",
      "   id  \n",
      "0   1  \n",
      "1   2  \n",
      "2   3  \n",
      "3   4  \n",
      "4   5  \n"
     ]
    }
   ],
   "source": [
    "print(reviews_df.head())"
   ]
  },
  {
   "cell_type": "markdown",
   "metadata": {},
   "source": [
    "Exploracion inicial"
   ]
  },
  {
   "cell_type": "code",
   "execution_count": 64,
   "metadata": {},
   "outputs": [
    {
     "name": "stdout",
     "output_type": "stream",
     "text": [
      "Dimensiones del DataFrame: (2459709, 6)\n"
     ]
    }
   ],
   "source": [
    "# Verificar dimensiones del DataFrame\n",
    "print(\"Dimensiones del DataFrame:\", reviews_df.shape)"
   ]
  },
  {
   "cell_type": "code",
   "execution_count": 65,
   "metadata": {},
   "outputs": [
    {
     "name": "stdout",
     "output_type": "stream",
     "text": [
      "Primeras filas del DataFrame:\n",
      "   id_user                            id_business  rating  \\\n",
      "0        1  0x8894b5a7a7909725:0xe4687299fd288188       5   \n",
      "1        2  0x8894b5a7a7909725:0xe4687299fd288188       1   \n",
      "2        3  0x8894b5a7a7909725:0xe4687299fd288188       5   \n",
      "3        4  0x8894b5a7a7909725:0xe4687299fd288188       5   \n",
      "4        5  0x8894b5a7a7909725:0xe4687299fd288188       5   \n",
      "\n",
      "                                                text                     date  \\\n",
      "0  The salads were lackluster though with well wr...  2018-09-17 14:51:08.022   \n",
      "1  Love this place. Great little restaurant, with...  2018-09-20 00:12:47.631   \n",
      "2  A classy restaurant to match the charm of the ...  2018-08-22 11:13:16.392   \n",
      "3                     Great atmosphere and good food  2019-04-17 01:25:32.274   \n",
      "4                                          Good food  2019-05-20 22:42:50.993   \n",
      "\n",
      "   id  \n",
      "0   1  \n",
      "1   2  \n",
      "2   3  \n",
      "3   4  \n",
      "4   5  \n",
      "Últimas filas del DataFrame:\n",
      "         id_user                            id_business  rating        text  \\\n",
      "2459704  1412628  0x884d69bfbc74c06d:0x7c606b655fc10508       5  Just GREAT   \n",
      "2459705  1412629  0x884d69bfbc74c06d:0x7c606b655fc10508       5         NaN   \n",
      "2459706  1412630  0x884d69bfbc74c06d:0x7c606b655fc10508       5         NaN   \n",
      "2459707  1412631  0x884d69bfbc74c06d:0x7c606b655fc10508       3         NaN   \n",
      "2459708  1412632  0x884d69bfbc74c06d:0x7c606b655fc10508       5         NaN   \n",
      "\n",
      "                            date       id  \n",
      "2459704  2018-09-08 17:07:58.851  2459705  \n",
      "2459705  2021-05-24 10:01:01.212  2459706  \n",
      "2459706  2020-11-07 01:15:26.076  2459707  \n",
      "2459707  2021-04-23 23:59:17.890  2459708  \n",
      "2459708  2018-07-26 18:43:06.445  2459709  \n"
     ]
    }
   ],
   "source": [
    "# Inspeccionar las primeras y últimas filas\n",
    "\n",
    "# Primeras filas\n",
    "print(\"Primeras filas del DataFrame:\")\n",
    "print(reviews_df.head())\n",
    "\n",
    "# Últimas filas\n",
    "print(\"Últimas filas del DataFrame:\")\n",
    "print(reviews_df.tail())"
   ]
  },
  {
   "cell_type": "code",
   "execution_count": 66,
   "metadata": {},
   "outputs": [
    {
     "name": "stdout",
     "output_type": "stream",
     "text": [
      "Información del DataFrame:\n",
      "<class 'pandas.core.frame.DataFrame'>\n",
      "RangeIndex: 2459709 entries, 0 to 2459708\n",
      "Data columns (total 6 columns):\n",
      " #   Column       Dtype \n",
      "---  ------       ----- \n",
      " 0   id_user      int64 \n",
      " 1   id_business  object\n",
      " 2   rating       int64 \n",
      " 3   text         object\n",
      " 4   date         object\n",
      " 5   id           int64 \n",
      "dtypes: int64(3), object(3)\n",
      "memory usage: 112.6+ MB\n",
      "None\n"
     ]
    }
   ],
   "source": [
    "# Revisar el tipo de datos de cada columna\n",
    "\n",
    "# Tipo de datos y resumen\n",
    "print(\"Información del DataFrame:\")\n",
    "print(reviews_df.info())\n"
   ]
  },
  {
   "cell_type": "code",
   "execution_count": 67,
   "metadata": {},
   "outputs": [
    {
     "name": "stdout",
     "output_type": "stream",
     "text": [
      "Estadísticas descriptivas:\n",
      "             id_user                            id_business        rating  \\\n",
      "count   2.459709e+06                                2459709  2.459709e+06   \n",
      "unique           NaN                                  46641           NaN   \n",
      "top              NaN  0x88e77c4f6fd3334b:0x7ddfab24aa1a94c4           NaN   \n",
      "freq             NaN                                   2925           NaN   \n",
      "mean    7.135016e+05                                    NaN  4.219284e+00   \n",
      "std     3.952896e+05                                    NaN  1.155458e+00   \n",
      "min     1.000000e+00                                    NaN  1.000000e+00   \n",
      "25%     3.972880e+05                                    NaN  4.000000e+00   \n",
      "50%     6.920150e+05                                    NaN  5.000000e+00   \n",
      "75%     1.059105e+06                                    NaN  5.000000e+00   \n",
      "max     1.436043e+06                                    NaN  5.000000e+00   \n",
      "\n",
      "             text                     date            id  \n",
      "count     1465888                  2459709  2.459709e+06  \n",
      "unique    1248409                  2433979           NaN  \n",
      "top     Good food  2011-01-01 00:00:00.000           NaN  \n",
      "freq         8833                       87           NaN  \n",
      "mean          NaN                      NaN  1.229855e+06  \n",
      "std           NaN                      NaN  7.100570e+05  \n",
      "min           NaN                      NaN  1.000000e+00  \n",
      "25%           NaN                      NaN  6.149280e+05  \n",
      "50%           NaN                      NaN  1.229855e+06  \n",
      "75%           NaN                      NaN  1.844782e+06  \n",
      "max           NaN                      NaN  2.459709e+06  \n"
     ]
    }
   ],
   "source": [
    "# Resumen estadístico\n",
    "\n",
    "# Estadísticas descriptivas\n",
    "print(\"Estadísticas descriptivas:\")\n",
    "print(reviews_df.describe(include='all'))"
   ]
  },
  {
   "cell_type": "markdown",
   "metadata": {},
   "source": [
    "Análisis inicial: \n",
    "\n",
    "Columna date:\n",
    "Es de tipo object. Se recomienda convertirla a datetime para facilitar el análisis.\n",
    "La fecha más frecuente es 2011-01-01, con 87 ocurrencias. Esto podría ser un dato por defecto o un valor atípico.\n",
    "\n",
    "Columna text:\n",
    "Hay 1,465,888 valores no nulos, lo que implica que aproximadamente el 40.4% de las reseñas no tienen texto.\n",
    "\n",
    "Columna rating:\n",
    "Las calificaciones oscilan entre 1 y 5, con una media de 4.22. Esto sugiere que las calificaciones tienden a ser positivas.\n",
    "\n",
    "Columna id_business:\n",
    "Hay 46,641 negocios únicos, siendo el negocio más frecuentado registrado 2,925 veces.\n",
    "\n",
    "Columna id_user:\n",
    "El número máximo de usuarios únicos es 1,436,043, lo que sugiere que algunos usuarios han publicado múltiples reseñas."
   ]
  },
  {
   "cell_type": "markdown",
   "metadata": {},
   "source": [
    "Convertir la columna date a datetime. Esto permitirá trabajar con filtros y análisis temporales:"
   ]
  },
  {
   "cell_type": "code",
   "execution_count": 68,
   "metadata": {},
   "outputs": [
    {
     "name": "stdout",
     "output_type": "stream",
     "text": [
      "Columna 'date' convertida a datetime.\n"
     ]
    }
   ],
   "source": [
    "# Convertir la columna 'date' a tipo datetime\n",
    "reviews_df['date'] = pd.to_datetime(reviews_df['date'])\n",
    "print(\"Columna 'date' convertida a datetime.\")"
   ]
  },
  {
   "cell_type": "markdown",
   "metadata": {},
   "source": [
    "Explorar la distribución de fechas. Esto ayuda a verificar si hay valores atípicos o datos inconsistentes:"
   ]
  },
  {
   "cell_type": "code",
   "execution_count": 69,
   "metadata": {},
   "outputs": [
    {
     "name": "stdout",
     "output_type": "stream",
     "text": [
      "Rango de fechas:\n",
      "1990-12-31 00:00:00 a 2021-09-08 19:10:36.560000\n"
     ]
    }
   ],
   "source": [
    "# Rango de fechas\n",
    "print(\"Rango de fechas:\")\n",
    "print(reviews_df['date'].min(), \"a\", reviews_df['date'].max())"
   ]
  },
  {
   "cell_type": "markdown",
   "metadata": {},
   "source": [
    "El rango de fechas es amplio: 1990-12-31 a 2021-09-08.\n",
    "\n",
    "Las fechas anteriores al año 2000 podrían ser valores atípicos, ya que la mayoría de las plataformas de reseñas no existían en esa época. Esto podría indicar datos erróneos o un problema de registro."
   ]
  },
  {
   "cell_type": "markdown",
   "metadata": {},
   "source": [
    "Inspeccionar la cantidad de datos antiguos para decidir si eliminarlos:"
   ]
  },
  {
   "cell_type": "code",
   "execution_count": 70,
   "metadata": {},
   "outputs": [
    {
     "name": "stdout",
     "output_type": "stream",
     "text": [
      "Cantidad de reseñas previas al 2000: 34\n"
     ]
    }
   ],
   "source": [
    "# Filtrar datos previos al 2000\n",
    "old_reviews = reviews_df[reviews_df['date'] < '2000-01-01']\n",
    "print(f\"Cantidad de reseñas previas al 2000: {len(old_reviews)}\")"
   ]
  },
  {
   "cell_type": "code",
   "execution_count": 71,
   "metadata": {},
   "outputs": [
    {
     "name": "stdout",
     "output_type": "stream",
     "text": [
      "Datos restantes después de filtrar: (2459675, 6)\n"
     ]
    }
   ],
   "source": [
    "# Eliminar fechas anteriores al 2000\n",
    "reviews_df = reviews_df[reviews_df['date'] >= '2000-01-01']\n",
    "print(f\"Datos restantes después de filtrar: {reviews_df.shape}\")"
   ]
  },
  {
   "cell_type": "markdown",
   "metadata": {},
   "source": [
    "Analizar los valores nulos en text:"
   ]
  },
  {
   "cell_type": "code",
   "execution_count": 72,
   "metadata": {},
   "outputs": [
    {
     "name": "stdout",
     "output_type": "stream",
     "text": [
      "Porcentaje de valores nulos en 'text': 40.40%\n"
     ]
    }
   ],
   "source": [
    "# Porcentaje de valores nulos en 'text'\n",
    "missing_text_percentage = reviews_df['text'].isnull().mean() * 100\n",
    "print(f\"Porcentaje de valores nulos en 'text': {missing_text_percentage:.2f}%\")"
   ]
  },
  {
   "cell_type": "markdown",
   "metadata": {},
   "source": [
    "El 40.40% de los textos están vacíos.El análisis depende principalmente del contenido textual (análisis de sentimientos), es recomendable eliminarlos."
   ]
  },
  {
   "cell_type": "code",
   "execution_count": 73,
   "metadata": {},
   "outputs": [
    {
     "name": "stdout",
     "output_type": "stream",
     "text": [
      "Datos con texto: (1465863, 6)\n"
     ]
    }
   ],
   "source": [
    "# Eliminar reseñas sin texto\n",
    "reviews_textual = reviews_df.dropna(subset=['text'])\n",
    "print(f\"Datos con texto: {reviews_textual.shape}\")"
   ]
  },
  {
   "cell_type": "code",
   "execution_count": 74,
   "metadata": {},
   "outputs": [
    {
     "name": "stdout",
     "output_type": "stream",
     "text": [
      "Distribución de calificaciones:\n",
      "rating\n",
      "5    0.580053\n",
      "4    0.219686\n",
      "3    0.100428\n",
      "1    0.060673\n",
      "2    0.039160\n",
      "Name: proportion, dtype: float64\n"
     ]
    }
   ],
   "source": [
    "# Distribución de calificaciones\n",
    "print(\"Distribución de calificaciones:\")\n",
    "print(reviews_df['rating'].value_counts(normalize=True))"
   ]
  },
  {
   "cell_type": "markdown",
   "metadata": {},
   "source": [
    "El 58% de las calificaciones son 5 estrellas, lo que indica una tendencia hacia valoraciones positivas. \n",
    "Las calificaciones de 1 y 2 estrellas representan aproximadamente el 10% del total.\n",
    "\n",
    "Visualizar la distribución para confirmar la concentración y estudiar tendencias por tiempo o negocios:"
   ]
  },
  {
   "cell_type": "code",
   "execution_count": 75,
   "metadata": {},
   "outputs": [
    {
     "data": {
      "image/png": "[encoded data removed]",
      "text/plain": [
       "<Figure size 800x500 with 1 Axes>"
      ]
     },
     "metadata": {},
     "output_type": "display_data"
    }
   ],
   "source": [
    "# Visualizar distribución de calificaciones\n",
    "plt.figure(figsize=(8, 5))\n",
    "sns.countplot(data=reviews_df, x='rating')\n",
    "plt.title(\"Distribución de Calificaciones\")\n",
    "plt.xlabel(\"Calificación\")\n",
    "plt.ylabel(\"Cantidad\")\n",
    "plt.show()"
   ]
  },
  {
   "cell_type": "markdown",
   "metadata": {},
   "source": [
    "Explorar la columna id_business. Identifica negocios más frecuentados y su proporción respecto al total:"
   ]
  },
  {
   "cell_type": "code",
   "execution_count": 76,
   "metadata": {},
   "outputs": [
    {
     "name": "stdout",
     "output_type": "stream",
     "text": [
      "Negocios más frecuentados:\n",
      "id_business\n",
      "0x88e77c4f6fd3334b:0x7ddfab24aa1a94c4    2925\n",
      "0x89c80362b0cdd237:0xabf9a07da455e2b3    2345\n",
      "0x88f540c675a2dc29:0xb33ef6d21124a2b4    2266\n",
      "0x89c258bc949d5913:0xff63bd615e49b786    2136\n",
      "0x88dafd498b6d2845:0x96668ee40c965d73    1978\n",
      "0x89c81d1c03746c37:0xf304365eb9933c9f    1945\n",
      "0x88e77074501f989b:0x8967d587a146eec9    1888\n",
      "0x88dd473e41176501:0x9c4ec699dff0ec2c    1872\n",
      "0x88541c2fc456489b:0x263dc64a613e1e0f    1770\n",
      "0x88c29a8e0ba3882f:0xc224c8d6504ee594    1681\n",
      "Name: count, dtype: int64\n"
     ]
    }
   ],
   "source": [
    "# Negocios más frecuentados\n",
    "top_businesses = reviews_df['id_business'].value_counts().head(10)\n",
    "print(\"Negocios más frecuentados:\")\n",
    "print(top_businesses)"
   ]
  },
  {
   "cell_type": "markdown",
   "metadata": {},
   "source": [
    "Los 10 negocios más frecuentados tienen entre 1,681 y 2,925 reseñas cada uno.\n",
    "\n",
    "Esto podría ser útil para identificar patrones de popularidad y análisis detallado de estos negocios.\n",
    "\n",
    "Crear un subconjunto con los negocios más frecuentados para análisis en profundidad:\n"
   ]
  },
  {
   "cell_type": "markdown",
   "metadata": {},
   "source": [
    "Análisis Temporal"
   ]
  },
  {
   "cell_type": "code",
   "execution_count": 78,
   "metadata": {},
   "outputs": [
    {
     "data": {
      "text/plain": [
       "<Axes: title={'center': 'Promedio de Calificaciones por Año'}, xlabel='year'>"
      ]
     },
     "execution_count": 78,
     "metadata": {},
     "output_type": "execute_result"
    },
    {
     "data": {
      "image/png": "[encoded data removed]",
      "text/plain": [
       "<Figure size 640x480 with 1 Axes>"
      ]
     },
     "metadata": {},
     "output_type": "display_data"
    }
   ],
   "source": [
    "# Agregar columna 'year' para análisis temporal\n",
    "reviews_textual = reviews_textual.copy()\n",
    "reviews_textual['year'] = pd.to_datetime(reviews_textual['date']).dt.year\n",
    "# Agrupar calificaciones por año\n",
    "ratings_by_year = reviews_textual.groupby('year')['rating'].mean()\n",
    "ratings_by_year.plot(title=\"Promedio de Calificaciones por Año\", marker='o')\n"
   ]
  },
  {
   "cell_type": "markdown",
   "metadata": {},
   "source": [
    "Análisis y Visualización"
   ]
  },
  {
   "cell_type": "code",
   "execution_count": 79,
   "metadata": {},
   "outputs": [
    {
     "name": "stdout",
     "output_type": "stream",
     "text": [
      "year\n",
      "2003    3.000000\n",
      "2004    3.900000\n",
      "2005    3.969231\n",
      "2006    3.757282\n",
      "2007    3.895349\n",
      "2008    3.696774\n",
      "2009    3.861702\n",
      "2010    3.815217\n",
      "2011    3.859347\n",
      "2012    3.935435\n",
      "2013    3.925326\n",
      "2014    3.840441\n",
      "2015    3.880559\n",
      "2016    4.010810\n",
      "2017    4.131544\n",
      "2018    4.166106\n",
      "2019    4.210742\n",
      "2020    4.269006\n",
      "2021    4.270536\n",
      "Name: rating, dtype: float64\n"
     ]
    }
   ],
   "source": [
    "# Calificaciones promedio por año:Agrupar los datos por año y calcular la media de las calificaciones.\n",
    "ratings_by_year = reviews_textual.groupby('year')['rating'].mean()\n",
    "print(ratings_by_year)\n"
   ]
  },
  {
   "cell_type": "code",
   "execution_count": 80,
   "metadata": {},
   "outputs": [
    {
     "name": "stdout",
     "output_type": "stream",
     "text": [
      "year\n",
      "2003         2\n",
      "2004        30\n",
      "2005        65\n",
      "2006       103\n",
      "2007        86\n",
      "2008       155\n",
      "2009       188\n",
      "2010       736\n",
      "2011      2268\n",
      "2012      3934\n",
      "2013      5745\n",
      "2014      6988\n",
      "2015     16820\n",
      "2016     73265\n",
      "2017    193358\n",
      "2018    313480\n",
      "2019    411309\n",
      "2020    254065\n",
      "2021    183266\n",
      "dtype: int64\n"
     ]
    }
   ],
   "source": [
    "# Cantidad de reseñas por año: Identificar patrones de actividad en el tiempo.\n",
    "reviews_count_by_year = reviews_textual.groupby('year').size()\n",
    "print(reviews_count_by_year)\n"
   ]
  },
  {
   "cell_type": "markdown",
   "metadata": {},
   "source": [
    "Análisis de los Resultados:\n",
    "\n",
    "1. Promedio de Calificaciones por Año\n",
    "\n",
    "Observaciones:\n",
    "\n",
    "Entre 2003 y 2008, el promedio de calificaciones se mantuvo cercano o ligeramente inferior a 4.\n",
    "A partir de 2016, hay un aumento notable en el promedio de calificaciones, alcanzando su punto más alto en 2021 (4.27).\n",
    "Este aumento podría reflejar mejoras en la calidad del servicio, sesgo en las calificaciones (usuarios más propensos a dejar opiniones positivas), o cambios en las políticas de calificación de las plataformas.\n",
    "\n",
    "2. Cantidad de Reseñas por Año\n",
    "\n",
    "Observaciones:\n",
    "\n",
    "Hay un aumento exponencial en la cantidad de reseñas desde 2010. Este cambio podría estar relacionado con:\n",
    "\n",
    "Mayor adopción de plataformas digitales.\n",
    "Incremento en el uso de smartphones y acceso a internet.\n",
    "Cambios en la política de incentivos para dejar reseñas.\n",
    "En 2020, la cantidad de reseñas disminuye significativamente, posiblemente debido al impacto de la pandemia de COVID-19.\n",
    "Aunque 2021 tiene menos reseñas que años anteriores, sigue mostrando una recuperación en comparación con 2020."
   ]
  },
  {
   "cell_type": "markdown",
   "metadata": {},
   "source": [
    "Visualización de los Datos:"
   ]
  },
  {
   "cell_type": "code",
   "execution_count": 81,
   "metadata": {},
   "outputs": [
    {
     "data": {
      "text/plain": [
       "<Axes: title={'center': 'Cantidad de reseñas por año'}, xlabel='Año', ylabel='Cantidad de reseñas'>"
      ]
     },
     "execution_count": 81,
     "metadata": {},
     "output_type": "execute_result"
    },
    {
     "data": {
      "image/png": "[encoded data removed]",
      "text/plain": [
       "<Figure size 1200x600 with 1 Axes>"
      ]
     },
     "metadata": {},
     "output_type": "display_data"
    }
   ],
   "source": [
    "# Gráfico de la cantidad de reseñas por año:\n",
    "reviews_textual['year'].value_counts().sort_index().plot(\n",
    "    kind='bar',\n",
    "    figsize=(12, 6),\n",
    "    title='Cantidad de reseñas por año',\n",
    "    xlabel='Año',\n",
    "    ylabel='Cantidad de reseñas',\n",
    "    color='skyblue'\n",
    ")\n"
   ]
  },
  {
   "cell_type": "code",
   "execution_count": 82,
   "metadata": {},
   "outputs": [
    {
     "data": {
      "text/plain": [
       "<Axes: title={'center': 'Promedio de calificaciones por año'}, xlabel='Año', ylabel='Promedio de calificación'>"
      ]
     },
     "execution_count": 82,
     "metadata": {},
     "output_type": "execute_result"
    },
    {
     "data": {
      "image/png": "[encoded data removed]",
      "text/plain": [
       "<Figure size 1200x600 with 1 Axes>"
      ]
     },
     "metadata": {},
     "output_type": "display_data"
    }
   ],
   "source": [
    "# Gráfico del promedio de calificaciones por año:\n",
    "reviews_textual.groupby('year')['rating'].mean().plot(\n",
    "    kind='line',\n",
    "    figsize=(12, 6),\n",
    "    title='Promedio de calificaciones por año',\n",
    "    xlabel='Año',\n",
    "    ylabel='Promedio de calificación',\n",
    "    marker='o',\n",
    "    color='green'\n",
    ")"
   ]
  },
  {
   "cell_type": "code",
   "execution_count": 83,
   "metadata": {},
   "outputs": [
    {
     "name": "stdout",
     "output_type": "stream",
     "text": [
      "Archivo limpio guardado como: reviews_cleaned.csv\n"
     ]
    }
   ],
   "source": [
    "\n",
    "# Supongamos que el DataFrame limpio se llama `reviews_textual`\n",
    "\n",
    "# 1. Eliminar columnas irrelevantes (si las hay)\n",
    "# Por ejemplo, si `pics` o `resp` no son útiles, las eliminamos\n",
    "columns_to_drop = ['pics', 'resp']\n",
    "reviews_textual.drop(columns=columns_to_drop, inplace=True, errors='ignore')\n",
    "\n",
    "# 2. Asegurarse de que las fechas estén en formato correcto\n",
    "reviews_textual['date'] = pd.to_datetime(reviews_textual['date'], errors='coerce')\n",
    "\n",
    "# 3. Asegurarse de que las calificaciones sean numéricas y estén en el rango 1-5\n",
    "reviews_textual = reviews_textual[(reviews_textual['rating'] >= 1) & (reviews_textual['rating'] <= 5)]\n",
    "\n",
    "# 4. Revisar texto vacío o irrelevante\n",
    "# Filtrar reseñas que tienen texto válido\n",
    "reviews_textual = reviews_textual[reviews_textual['text'].notnull() & (reviews_textual['text'].str.strip() != '')]\n",
    "\n",
    "# 5. Agregar columna 'year' para facilitar análisis temporal\n",
    "reviews_textual['year'] = reviews_textual['date'].dt.year\n",
    "\n",
    "# 6. Renombrar columnas para consistencia (opcional)\n",
    "reviews_textual.rename(columns={\n",
    "    'user_id': 'user_id',\n",
    "    'name': 'business_name',\n",
    "    'text': 'review_text',\n",
    "    'date': 'review_date',\n",
    "    'rating': 'review_rating'\n",
    "}, inplace=True)\n",
    "\n",
    "# 7. Verificar duplicados y eliminarlos (si aplica)\n",
    "reviews_textual.drop_duplicates(inplace=True)\n",
    "\n",
    "# 8. Guardar el archivo limpio\n",
    "output_path = 'reviews_cleaned.csv'\n",
    "reviews_textual.to_csv(output_path, index=False)\n",
    "\n",
    "print(f\"Archivo limpio guardado como: {output_path}\")\n"
   ]
  }
 ],
 "metadata": {
  "kernelspec": {
   "display_name": "proyectoML",
   "language": "python",
   "name": "python3"
  },
  "language_info": {
   "codemirror_mode": {
    "name": "ipython",
    "version": 3
   },
   "file_extension": ".py",
   "mimetype": "text/x-python",
   "name": "python",
   "nbconvert_exporter": "python",
   "pygments_lexer": "ipython3",
   "version": "3.11.11"
  }
 },
 "nbformat": 4,
 "nbformat_minor": 2
}
