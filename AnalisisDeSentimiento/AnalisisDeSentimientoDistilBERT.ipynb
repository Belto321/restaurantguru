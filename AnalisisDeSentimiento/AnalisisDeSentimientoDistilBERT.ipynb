{
 "cells": [
  {
   "cell_type": "markdown",
   "metadata": {},
   "source": [
    "# Análisis de Sentimiento "
   ]
  },
  {
   "cell_type": "markdown",
   "metadata": {},
   "source": [
    "# Instalar Dependencias Necesarias\n",
    "\n",
    "- Verificación del entorno y librerías instaladas:\n",
    "\n",
    "Paquetes clave para análisis de datos:\n",
    "\n",
    "pandas: 2.2.3 (actualizado y funcional).\n",
    "\n",
    "numpy: 1.26.4 (última versión compatible).\n",
    "\n",
    "scikit-learn: 1.5.2 (apropiado para machine learning).\n",
    "\n",
    "matplotlib y seaborn: 3.9.2 y 0.13.2 respectivamente, para visualización de datos.\n",
    "\n",
    "- Frameworks para machine learning y deep learning:\n",
    "\n",
    "torch: 2.5.1+cu124 (versión con soporte CUDA 12.4).\n",
    "\n",
    "transformers: 4.47.1, para modelado de lenguaje y análisis avanzado.\n",
    "\n",
    "tokenizers: 0.21.0, optimizado para procesamiento de texto.\n",
    "\n",
    "- PyTorch:\n",
    "\n",
    "Versión instalada: 2.5.1+cu124.\n",
    "Soporte CUDA: Indicado como compatible con la versión 12.4, pero actualmente no detecta acceso a GPU (torch.cuda.is_available() devuelve False).\n",
    "\n",
    "- Librerías adicionales para análisis de texto:\n",
    "\n",
    "nltk: Instalado correctamente (versión 3.9.1), utilizable para procesamiento de texto clásico.\n",
    "\n",
    "huggingface-hub: Puede facilitar la gestión de modelos preentrenados para tareas de NLP."
   ]
  },
  {
   "cell_type": "markdown",
   "metadata": {},
   "source": [
    "# DistilBERT"
   ]
  },
  {
   "cell_type": "markdown",
   "metadata": {},
   "source": [
    "Características DistilBERT: \n",
    "\n",
    "Tamaño del modelo 66 millones de parámetros\n",
    "\n",
    "Velocidad de inferencia\t~60% más rápida\n",
    "\n",
    "Uso de memoria Más bajo (~250 MB por modelo)\n",
    "\n",
    "Requisitos computacionales\tMás ligero, ideal para CPU\n",
    "\n",
    "Precisión Ligeramente menor (~97% de la precisión de BERT)\n",
    "\n",
    "\n",
    "Ventajas de DistilBERT \n",
    "\n",
    "- Menor uso de recursos: Consume menos memoria y procesamiento, lo que lo hace más eficiente para máquinas sin GPU.\n",
    "- Velocidad mejorada: La inferencia es significativamente más rápida, ideal para grandes volúmenes de texto.\n",
    "- Simplicidad: Es más fácil de implementar y configurar para tareas como el análisis de sentimientos.\n",
    "- Precisión aceptable: Aunque es más pequeño, mantiene un desempeño comparable con BERT Base para la mayoría de las tareas."
   ]
  },
  {
   "cell_type": "markdown",
   "metadata": {},
   "source": [
    "Cargar y Procesar el Dataset"
   ]
  },
  {
   "cell_type": "code",
   "execution_count": 1,
   "metadata": {},
   "outputs": [
    {
     "name": "stdout",
     "output_type": "stream",
     "text": [
      "Número total de datos en el dataset: 1465863\n",
      "Nombres de todas las columnas en el dataset:\n",
      "['id_user', 'id_business', 'review_rating', 'review_text', 'review_date', 'id', 'year', 'cleaned_text', 'no_stopwords_text', 'processed_text']\n"
     ]
    }
   ],
   "source": [
    "import pandas as pd\n",
    "\n",
    "# Cargar el dataset\n",
    "file_path = \"reviews_preprocessed.csv\"  # Reemplaza con la ruta a tu archivo CSV\n",
    "data = pd.read_csv(file_path)\n",
    "\n",
    "# Mostrar información general\n",
    "print(f\"Número total de datos en el dataset: {len(data)}\")\n",
    "print(\"Nombres de todas las columnas en el dataset:\")\n",
    "print(data.columns.tolist())\n"
   ]
  },
  {
   "cell_type": "markdown",
   "metadata": {},
   "source": [
    "Carga del modelo DistilBERT"
   ]
  },
  {
   "cell_type": "code",
   "execution_count": 2,
   "metadata": {},
   "outputs": [],
   "source": [
    "import pandas as pd\n",
    "from transformers import pipeline\n",
    "from tqdm import tqdm"
   ]
  },
  {
   "cell_type": "code",
   "execution_count": 3,
   "metadata": {},
   "outputs": [
    {
     "name": "stderr",
     "output_type": "stream",
     "text": [
      "Device set to use cpu\n"
     ]
    }
   ],
   "source": [
    "# Configurar el modelo y dispositivo\n",
    "sentiment_analyzer = pipeline(\n",
    "    \"sentiment-analysis\",\n",
    "    model=\"distilbert/distilbert-base-uncased-finetuned-sst-2-english\",\n",
    "    device=-1  # -1 asegura que se use CPU\n",
    ")"
   ]
  },
  {
   "cell_type": "code",
   "execution_count": 4,
   "metadata": {},
   "outputs": [],
   "source": [
    "# Función para procesar texto en lotes\n",
    "def analyze_sentiments_in_batches(texts, batch_size=32):\n",
    "    sentiments = []\n",
    "    for i in tqdm(range(0, len(texts), batch_size), desc=\"Procesando lotes\"):\n",
    "        batch = texts[i:i + batch_size]\n",
    "        results = sentiment_analyzer(batch)\n",
    "        sentiments.extend([result[\"label\"] for result in results])\n",
    "    return sentiments"
   ]
  },
  {
   "cell_type": "code",
   "execution_count": 5,
   "metadata": {},
   "outputs": [],
   "source": [
    "# Cargar el dataset\n",
    "file_path = \"reviews_preprocessed.csv\"  # Reemplaza con la ruta a tu archivo CSV\n",
    "data = pd.read_csv(file_path)"
   ]
  },
  {
   "cell_type": "code",
   "execution_count": 6,
   "metadata": {},
   "outputs": [],
   "source": [
    "# Seleccionar las columnas necesarias\n",
    "columns_to_keep = ['id_user', 'id_business', 'review_rating', 'review_date', 'id', 'year', 'processed_text']\n",
    "data = data[columns_to_keep]"
   ]
  },
  {
   "cell_type": "code",
   "execution_count": 7,
   "metadata": {},
   "outputs": [],
   "source": [
    "# Asegurar que la columna de texto esté presente\n",
    "text_column = \"processed_text\"  # Ajusta al nombre real de la columna en tu archivo\n",
    "if text_column not in data.columns:\n",
    "    raise ValueError(f\"La columna '{text_column}' no se encuentra en el archivo CSV.\")"
   ]
  },
  {
   "cell_type": "code",
   "execution_count": 8,
   "metadata": {},
   "outputs": [],
   "source": [
    "# Limitar el dataset a los primeros 10000 registros\n",
    "data = data.head(10000)"
   ]
  },
  {
   "cell_type": "code",
   "execution_count": 9,
   "metadata": {},
   "outputs": [],
   "source": [
    "# Preparar la columna de texto\n",
    "texts = data[text_column].fillna(\"\").astype(str).tolist()"
   ]
  },
  {
   "cell_type": "code",
   "execution_count": 10,
   "metadata": {},
   "outputs": [
    {
     "name": "stdout",
     "output_type": "stream",
     "text": [
      "Iniciando análisis de sentimiento para 10000 registros...\n"
     ]
    },
    {
     "name": "stderr",
     "output_type": "stream",
     "text": [
      "Procesando lotes: 100%|██████████| 313/313 [12:49<00:00,  2.46s/it]\n"
     ]
    }
   ],
   "source": [
    "# Aplicar análisis de sentimiento por lotes\n",
    "print(\"Iniciando análisis de sentimiento para 10000 registros...\")\n",
    "data[\"sentiment\"] = analyze_sentiments_in_batches(texts, batch_size=32)"
   ]
  },
  {
   "cell_type": "code",
   "execution_count": 11,
   "metadata": {},
   "outputs": [
    {
     "name": "stdout",
     "output_type": "stream",
     "text": [
      "Análisis completado. Resultados guardados en sentiment_analysis_results1_10000.csv\n"
     ]
    }
   ],
   "source": [
    "# Guardar resultados en un nuevo archivo\n",
    "output_file = \"sentiment_analysis_results1_10000.csv\"\n",
    "data.to_csv(output_file, index=False)\n",
    "print(f\"Análisis completado. Resultados guardados en {output_file}\")"
   ]
  },
  {
   "cell_type": "markdown",
   "metadata": {},
   "source": [
    "# Resultados obtenidos en el Analisis de Sentimiento:"
   ]
  },
  {
   "cell_type": "code",
   "execution_count": 13,
   "metadata": {},
   "outputs": [
    {
     "name": "stdout",
     "output_type": "stream",
     "text": [
      "Primeras filas del dataset:\n",
      "   id_user                            id_business  review_rating  \\\n",
      "0        1  0x8894b5a7a7909725:0xe4687299fd288188              5   \n",
      "1        2  0x8894b5a7a7909725:0xe4687299fd288188              1   \n",
      "2        3  0x8894b5a7a7909725:0xe4687299fd288188              5   \n",
      "3        4  0x8894b5a7a7909725:0xe4687299fd288188              5   \n",
      "4        5  0x8894b5a7a7909725:0xe4687299fd288188              5   \n",
      "\n",
      "               review_date  id  year  \\\n",
      "0  2018-09-17 14:51:08.022   1  2018   \n",
      "1  2018-09-20 00:12:47.631   2  2018   \n",
      "2  2018-08-22 11:13:16.392   3  2018   \n",
      "3  2019-04-17 01:25:32.274   4  2019   \n",
      "4  2019-05-20 22:42:50.993   5  2019   \n",
      "\n",
      "                                      processed_text sentiment  \n",
      "0  salad lackluster though well written descripti...  NEGATIVE  \n",
      "1  love place great little restaurant unique dish...  POSITIVE  \n",
      "2  classy restaurant match charm inn make reserva...  POSITIVE  \n",
      "3                         great atmosphere good food  POSITIVE  \n",
      "4                                          good food  POSITIVE  \n"
     ]
    }
   ],
   "source": [
    "# Cargar el dataset\n",
    "file_path = \"sentiment_analysis_results1_10000.csv\"\n",
    "data = pd.read_csv(file_path)\n",
    "\n",
    "# Verificar las primeras filas\n",
    "print(\"Primeras filas del dataset:\")\n",
    "print(data.head())"
   ]
  },
  {
   "cell_type": "code",
   "execution_count": 14,
   "metadata": {},
   "outputs": [
    {
     "name": "stdout",
     "output_type": "stream",
     "text": [
      "\n",
      "Distribución de sentimientos:\n",
      "sentiment\n",
      "POSITIVE    7482\n",
      "NEGATIVE    2518\n",
      "Name: count, dtype: int64\n"
     ]
    }
   ],
   "source": [
    "# Resumen general de los sentimientos\n",
    "print(\"\\nDistribución de sentimientos:\")\n",
    "sentiment_summary = data['sentiment'].value_counts()\n",
    "print(sentiment_summary)"
   ]
  },
  {
   "cell_type": "code",
   "execution_count": 15,
   "metadata": {},
   "outputs": [
    {
     "name": "stdout",
     "output_type": "stream",
     "text": [
      "\n",
      "Porcentaje de sentimientos:\n",
      "sentiment\n",
      "POSITIVE    74.82\n",
      "NEGATIVE    25.18\n",
      "Name: proportion, dtype: float64\n"
     ]
    }
   ],
   "source": [
    "# Porcentaje de sentimientos\n",
    "print(\"\\nPorcentaje de sentimientos:\")\n",
    "sentiment_percentage = data['sentiment'].value_counts(normalize=True) * 100\n",
    "print(sentiment_percentage)"
   ]
  },
  {
   "cell_type": "code",
   "execution_count": 16,
   "metadata": {},
   "outputs": [
    {
     "data": {
      "image/png": "[encoded data removed]",
      "text/plain": [
       "<Figure size 800x600 with 1 Axes>"
      ]
     },
     "metadata": {},
     "output_type": "display_data"
    }
   ],
   "source": [
    "import matplotlib.pyplot as plt\n",
    "\n",
    "# Gráfico de barras para la distribución de sentimientos\n",
    "plt.figure(figsize=(8, 6))\n",
    "sentiment_summary.plot(kind='bar', color=['green', 'red'])\n",
    "plt.title('Distribución de Sentimientos')\n",
    "plt.xlabel('Sentimiento')\n",
    "plt.ylabel('Cantidad')\n",
    "plt.xticks(rotation=0)\n",
    "plt.show()"
   ]
  },
  {
   "cell_type": "code",
   "execution_count": 17,
   "metadata": {},
   "outputs": [
    {
     "name": "stdout",
     "output_type": "stream",
     "text": [
      "\n",
      "Distribución de sentimientos por año:\n",
      "sentiment  NEGATIVE  POSITIVE\n",
      "year                         \n",
      "2006            1.0       1.0\n",
      "2008            1.0       NaN\n",
      "2009            1.0       1.0\n",
      "2010            3.0       5.0\n",
      "2011            2.0      13.0\n",
      "2012           10.0      17.0\n",
      "2013            7.0      41.0\n",
      "2014            9.0      43.0\n",
      "2015           26.0      74.0\n",
      "2016          123.0     314.0\n",
      "2017          282.0     972.0\n",
      "2018          596.0    1816.0\n",
      "2019          754.0    2150.0\n",
      "2020          412.0    1184.0\n",
      "2021          291.0     851.0\n"
     ]
    },
    {
     "data": {
      "text/plain": [
       "<Figure size 1000x600 with 0 Axes>"
      ]
     },
     "metadata": {},
     "output_type": "display_data"
    },
    {
     "data": {
      "image/png": "[encoded data removed]",
      "text/plain": [
       "<Figure size 640x480 with 1 Axes>"
      ]
     },
     "metadata": {},
     "output_type": "display_data"
    }
   ],
   "source": [
    "# Distribución de sentimientos por año\n",
    "sentiment_by_year = data.groupby(['year', 'sentiment']).size().unstack()\n",
    "print(\"\\nDistribución de sentimientos por año:\")\n",
    "print(sentiment_by_year)\n",
    "\n",
    "plt.figure(figsize=(10, 6))\n",
    "sentiment_by_year.plot(kind='bar', stacked=True, color=['green', 'red'])\n",
    "plt.title('Distribución de Sentimientos por Año')\n",
    "plt.xlabel('Año')\n",
    "plt.ylabel('Cantidad')\n",
    "plt.legend(title='Sentimiento')\n",
    "plt.show()"
   ]
  },
  {
   "cell_type": "code",
   "execution_count": 18,
   "metadata": {},
   "outputs": [
    {
     "name": "stdout",
     "output_type": "stream",
     "text": [
      "\n",
      "Distribución de sentimientos por calificación:\n",
      "sentiment      NEGATIVE  POSITIVE\n",
      "review_rating                    \n",
      "1                   723        66\n",
      "2                   414       121\n",
      "3                   509       492\n",
      "4                   375      1587\n",
      "5                   497      5216\n"
     ]
    },
    {
     "data": {
      "text/plain": [
       "<Figure size 1000x600 with 0 Axes>"
      ]
     },
     "metadata": {},
     "output_type": "display_data"
    },
    {
     "data": {
      "image/png": "[encoded data removed]",
      "text/plain": [
       "<Figure size 640x480 with 1 Axes>"
      ]
     },
     "metadata": {},
     "output_type": "display_data"
    }
   ],
   "source": [
    "# Relación entre calificación (review_rating) y sentimiento\n",
    "sentiment_by_rating = data.groupby(['review_rating', 'sentiment']).size().unstack()\n",
    "print(\"\\nDistribución de sentimientos por calificación:\")\n",
    "print(sentiment_by_rating)\n",
    "\n",
    "plt.figure(figsize=(10, 6))\n",
    "sentiment_by_rating.plot(kind='bar', stacked=True, color=['green', 'red'])\n",
    "plt.title('Distribución de Sentimientos por Calificación')\n",
    "plt.xlabel('Calificación')\n",
    "plt.ylabel('Cantidad')\n",
    "plt.legend(title='Sentimiento')\n",
    "plt.show()"
   ]
  },
  {
   "cell_type": "code",
   "execution_count": 19,
   "metadata": {},
   "outputs": [
    {
     "name": "stdout",
     "output_type": "stream",
     "text": [
      "\n",
      "Ejemplos de reviews POSITIVE:\n",
      "    id_user                            id_business  review_rating  \\\n",
      "1         2  0x8894b5a7a7909725:0xe4687299fd288188              1   \n",
      "2         3  0x8894b5a7a7909725:0xe4687299fd288188              5   \n",
      "3         4  0x8894b5a7a7909725:0xe4687299fd288188              5   \n",
      "4         5  0x8894b5a7a7909725:0xe4687299fd288188              5   \n",
      "5         6  0x8894b5a7a7909725:0xe4687299fd288188              5   \n",
      "6         1   0x88f5a178d51075bd:0x85daa2b989c538c              1   \n",
      "8    199968   0x88f5a178d51075bd:0x85daa2b989c538c              5   \n",
      "9    260166   0x88f5a178d51075bd:0x85daa2b989c538c              5   \n",
      "10   200303   0x88f5a178d51075bd:0x85daa2b989c538c              4   \n",
      "11   206694   0x88f5a178d51075bd:0x85daa2b989c538c              3   \n",
      "\n",
      "                review_date  id  year  \\\n",
      "1   2018-09-20 00:12:47.631   2  2018   \n",
      "2   2018-08-22 11:13:16.392   3  2018   \n",
      "3   2019-04-17 01:25:32.274   4  2019   \n",
      "4   2019-05-20 22:42:50.993   5  2019   \n",
      "5   2018-05-30 21:53:07.081   6  2018   \n",
      "6   2019-05-30 01:48:30.824  10  2019   \n",
      "8   2018-08-11 16:13:33.764  14  2018   \n",
      "9   2018-08-11 16:13:33.764  15  2018   \n",
      "10  2018-05-12 20:14:08.757  16  2018   \n",
      "11  2018-03-31 17:30:56.377  17  2018   \n",
      "\n",
      "                                       processed_text sentiment  \n",
      "1   love place great little restaurant unique dish...  POSITIVE  \n",
      "2   classy restaurant match charm inn make reserva...  POSITIVE  \n",
      "3                          great atmosphere good food  POSITIVE  \n",
      "4                                           good food  POSITIVE  \n",
      "5                                                best  POSITIVE  \n",
      "6   great service good food make sure try sangriai...  POSITIVE  \n",
      "8   loved flying roll road found owner sold create...  POSITIVE  \n",
      "9   loved flying roll road found owner sold create...  POSITIVE  \n",
      "10  fresh sushi great chicken dish well got double...  POSITIVE  \n",
      "11  okaverage sushi place convenient walking dista...  POSITIVE  \n",
      "\n",
      "Ejemplos de reviews NEGATIVE:\n",
      "    id_user                            id_business  review_rating  \\\n",
      "0         1  0x8894b5a7a7909725:0xe4687299fd288188              5   \n",
      "7    197097   0x88f5a178d51075bd:0x85daa2b989c538c              2   \n",
      "21   241370   0x88f5a178d51075bd:0x85daa2b989c538c              2   \n",
      "22   242935   0x88f5a178d51075bd:0x85daa2b989c538c              1   \n",
      "34   335783   0x88f5a178d51075bd:0x85daa2b989c538c              5   \n",
      "35   335784   0x88f5a178d51075bd:0x85daa2b989c538c              5   \n",
      "54   198947  0x88f5bd2fcdc45b5d:0x9e497e61736a21df              5   \n",
      "57   203816  0x88f5bd2fcdc45b5d:0x9e497e61736a21df              3   \n",
      "74   231313  0x88f5bd2fcdc45b5d:0x9e497e61736a21df              4   \n",
      "77   233928  0x88f5bd2fcdc45b5d:0x9e497e61736a21df              2   \n",
      "\n",
      "                review_date   id  year  \\\n",
      "0   2018-09-17 14:51:08.022    1  2018   \n",
      "7   2017-10-26 18:52:50.458   12  2017   \n",
      "21  2018-09-03 00:23:53.700   31  2018   \n",
      "22  2018-02-14 22:01:10.711   32  2018   \n",
      "34  2018-11-09 18:25:26.595   50  2018   \n",
      "35  2017-10-08 02:15:05.405   51  2017   \n",
      "54  2018-05-14 21:09:03.483   81  2018   \n",
      "57  2015-07-05 14:01:55.188   84  2015   \n",
      "74  2017-09-21 16:54:27.688  102  2017   \n",
      "77  2017-08-01 16:48:43.266  105  2017   \n",
      "\n",
      "                                       processed_text sentiment  \n",
      "0   salad lackluster though well written descripti...  NEGATIVE  \n",
      "7   restaurant decor gorgeous thing great place fo...  NEGATIVE  \n",
      "21               service good got food poisoning food  NEGATIVE  \n",
      "22  close listed hour operation might want call first  NEGATIVE  \n",
      "34  honesttrue sushi machine restaurant new owner ...  NEGATIVE  \n",
      "35  sushi nacho awesome really wanted get burrito ...  NEGATIVE  \n",
      "54  tried many place place best papaya salad lao s...  NEGATIVE  \n",
      "57  overall pleasant family restaurant average tha...  NEGATIVE  \n",
      "74  staff golden seven light always courteous frie...  NEGATIVE  \n",
      "77  portion small pad thai blah coconut soup gross...  NEGATIVE  \n"
     ]
    }
   ],
   "source": [
    "# Mostrar las 10 primeras filas de cada tipo de sentimiento\n",
    "print(\"\\nEjemplos de reviews POSITIVE:\")\n",
    "print(data[data['sentiment'] == 'POSITIVE'].head(10))\n",
    "\n",
    "print(\"\\nEjemplos de reviews NEGATIVE:\")\n",
    "print(data[data['sentiment'] == 'NEGATIVE'].head(10))\n"
   ]
  }
 ],
 "metadata": {
  "kernelspec": {
   "display_name": "proyectoML",
   "language": "python",
   "name": "python3"
  },
  "language_info": {
   "codemirror_mode": {
    "name": "ipython",
    "version": 3
   },
   "file_extension": ".py",
   "mimetype": "text/x-python",
   "name": "python",
   "nbconvert_exporter": "python",
   "pygments_lexer": "ipython3",
   "version": "3.11.11"
  }
 },
 "nbformat": 4,
 "nbformat_minor": 2
}
