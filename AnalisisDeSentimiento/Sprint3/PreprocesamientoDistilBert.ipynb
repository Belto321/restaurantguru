{
 "cells": [
  {
   "cell_type": "markdown",
   "metadata": {},
   "source": [
    "Preprocesamiento para una Muestra Aleatoria de 3,000 Datos"
   ]
  },
  {
   "cell_type": "code",
   "execution_count": 31,
   "metadata": {},
   "outputs": [],
   "source": [
    "import pandas as pd\n",
    "import re\n",
    "from transformers import DistilBertTokenizer"
   ]
  },
  {
   "cell_type": "code",
   "execution_count": 32,
   "metadata": {},
   "outputs": [],
   "source": [
    "# Cargar datos\n",
    "file_path = \"reviews_cleaned_2020_2022.parquet\"\n",
    "df = pd.read_parquet(file_path)"
   ]
  },
  {
   "cell_type": "code",
   "execution_count": 33,
   "metadata": {},
   "outputs": [],
   "source": [
    "# Seleccionar una muestra aleatoria de 3,000 datos\n",
    "sample_df = df.sample(n=3000, random_state=42)"
   ]
  },
  {
   "cell_type": "code",
   "execution_count": 34,
   "metadata": {},
   "outputs": [],
   "source": [
    "# Preprocesamiento del texto\n",
    "def preprocess_text(text):\n",
    "    # Convertir a minúsculas\n",
    "    text = text.lower()\n",
    "    # Eliminar caracteres especiales y números\n",
    "    text = re.sub(r\"[^a-zA-Z\\s]\", \"\", text)\n",
    "    # Eliminar espacios adicionales\n",
    "    text = re.sub(r\"\\s+\", \" \", text).strip()\n",
    "    return text\n",
    "\n",
    "sample_df['text_clean'] = sample_df['text_clean'].apply(preprocess_text)"
   ]
  },
  {
   "cell_type": "code",
   "execution_count": 35,
   "metadata": {},
   "outputs": [],
   "source": [
    "# Convertir estrellas a etiquetas de sentimiento\n",
    "def map_sentiment(stars):\n",
    "    if stars <= 2:\n",
    "        return \"negative\"\n",
    "    elif stars == 3:\n",
    "        return \"neutral\"\n",
    "    else:\n",
    "        return \"positive\"\n",
    "\n",
    "sample_df['sentiment'] = sample_df['stars'].apply(map_sentiment)\n"
   ]
  },
  {
   "cell_type": "code",
   "execution_count": 39,
   "metadata": {},
   "outputs": [],
   "source": [
    "# Inicializar el tokenizador\n",
    "tokenizer = DistilBertTokenizer.from_pretrained(\"distilbert-base-uncased\")\n"
   ]
  },
  {
   "cell_type": "code",
   "execution_count": 40,
   "metadata": {},
   "outputs": [],
   "source": [
    "# Función para tokenizar el texto y extraer solo los ids y la máscara de atención como listas\n",
    "def tokenize_text(text):\n",
    "    encoding = tokenizer(text, truncation=True, padding=\"max_length\", max_length=128, return_tensors=\"pt\")\n",
    "    return {\n",
    "        'input_ids': encoding['input_ids'].squeeze().tolist(),\n",
    "        'attention_mask': encoding['attention_mask'].squeeze().tolist()\n",
    "    }"
   ]
  },
  {
   "cell_type": "code",
   "execution_count": 41,
   "metadata": {},
   "outputs": [],
   "source": [
    "# Aplicar tokenización\n",
    "sample_df['tokens'] = sample_df['text_clean'].apply(tokenize_text)"
   ]
  },
  {
   "cell_type": "code",
   "execution_count": 42,
   "metadata": {},
   "outputs": [
    {
     "name": "stdout",
     "output_type": "stream",
     "text": [
      "                            id                 user_id  stars  \\\n",
      "550654                  855152   109830888913186427251    3.0   \n",
      "77703   9MJaVPd7_UnaKaENGPGQaA  1DBepcTVu6Vymj8Cq5Qfxw    5.0   \n",
      "404019                   24418   110434499591530608348    4.0   \n",
      "163501  CWnjt0cQqYkJQsANOkSkew  SvQVq_-qneq_UCDy5jiaWA    5.0   \n",
      "88496   VKN9P3PtPQqWxaOEOQQuqw  4lQeJ5-1pPORCvbGKwBDQA    5.0   \n",
      "\n",
      "                                                     text  \\\n",
      "550654  Be prepared to wait, so you end up drinking a ...   \n",
      "77703   This was so yummy! Everything I had was so goo...   \n",
      "404019  Usually the cheapest gas in the area and surro...   \n",
      "163501  JAMIE & CHIEF TIFFANY are so great at what the...   \n",
      "88496   Now that's what you call a Po Boy!!! I ordered...   \n",
      "\n",
      "                          date origin id_business  \\\n",
      "550654 2020-01-26 12:55:06.114      G       31267   \n",
      "77703  2020-01-17 02:37:50.000      Y       45271   \n",
      "404019 2021-04-20 05:31:02.877      G       32023   \n",
      "163501 2021-06-27 19:36:35.000      Y       50078   \n",
      "88496  2020-10-24 18:03:19.000      Y       45878   \n",
      "\n",
      "                                               text_clean sentiment  \\\n",
      "550654  be prepared to wait so you end up drinking a l...   neutral   \n",
      "77703   this was so yummy everything i had was so good...  positive   \n",
      "404019  usually the cheapest gas in the area and surro...  positive   \n",
      "163501  jamie chief tiffany are so great at what they ...  positive   \n",
      "88496   now thats what you call a po boy i ordered the...  positive   \n",
      "\n",
      "                                                   tokens  \n",
      "550654  {'input_ids': [101, 2022, 4810, 2000, 3524, 20...  \n",
      "77703   {'input_ids': [101, 2023, 2001, 2061, 9805, 18...  \n",
      "404019  {'input_ids': [101, 2788, 1996, 10036, 4355, 3...  \n",
      "163501  {'input_ids': [101, 6175, 2708, 14381, 2024, 2...  \n",
      "88496   {'input_ids': [101, 2085, 2008, 2015, 2054, 20...  \n"
     ]
    }
   ],
   "source": [
    "# Inspección final\n",
    "print(sample_df.head())"
   ]
  },
  {
   "cell_type": "code",
   "execution_count": null,
   "metadata": {},
   "outputs": [],
   "source": [
    "# Guardar el DataFrame preprocesado en un archivo Parquet\n",
    "sample_df.to_parquet(\"sample_preprocessed.parquet\", index=False)"
   ]
  },
  {
   "cell_type": "code",
   "execution_count": 46,
   "metadata": {},
   "outputs": [],
   "source": [
    "# Guardar el DataFrame preprocesado en un archivo CSV\n",
    "sample_df.to_csv(\"sample_preprocessed.CSV\", index=False)"
   ]
  }
 ],
 "metadata": {
  "kernelspec": {
   "display_name": "DataScience",
   "language": "python",
   "name": "python3"
  },
  "language_info": {
   "codemirror_mode": {
    "name": "ipython",
    "version": 3
   },
   "file_extension": ".py",
   "mimetype": "text/x-python",
   "name": "python",
   "nbconvert_exporter": "python",
   "pygments_lexer": "ipython3",
   "version": "3.12.8"
  }
 },
 "nbformat": 4,
 "nbformat_minor": 2
}
