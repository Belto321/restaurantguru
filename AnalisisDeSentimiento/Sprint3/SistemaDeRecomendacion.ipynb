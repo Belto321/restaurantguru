{
 "cells": [
  {
   "cell_type": "markdown",
   "metadata": {},
   "source": [
    "Sistema de recomendación: Este sistema utiliza la similitud del perfil del usuario con los aspectos clave de los restaurantes."
   ]
  },
  {
   "cell_type": "markdown",
   "metadata": {},
   "source": [
    "Enfoque:\n",
    "\n",
    "Recomendación Basada en Aspectos: Sugiere restaurantes que tengan un puntaje alto en los aspectos importantes para el usuario, como comida, servicio, precio, o ambiente.\n",
    "\n",
    "Similitud de Coseno: Se utiliza para comparar el perfil del usuario (preferencias en aspectos) con los puntajes de los restaurantes."
   ]
  },
  {
   "cell_type": "code",
   "execution_count": 2,
   "metadata": {},
   "outputs": [],
   "source": [
    "import pandas as pd\n",
    "from sklearn.metrics.pairwise import cosine_similarity\n",
    "import numpy as np"
   ]
  },
  {
   "cell_type": "code",
   "execution_count": 34,
   "metadata": {},
   "outputs": [],
   "source": [
    "# 1. Cargar los datos preparados para la recomendación (Este archivo contiene los puntajes de cada restaurante y será la base del sistema de recomendación)\n",
    "df = pd.read_parquet(\"recommendation_data.parquet\")"
   ]
  },
  {
   "cell_type": "code",
   "execution_count": 35,
   "metadata": {},
   "outputs": [],
   "source": [
    "# 2. Normalizar los puntajes de los aspectos (Normaliza los valores de las columnas service_score, food_score, price_score y ambiance_score para que estén entre 0 y 1.)\n",
    "for col in [\"service_score\", \"food_score\", \"price_score\", \"ambiance_score\"]:\n",
    "    df[col] = (df[col] - df[col].min()) / (df[col].max() - df[col].min())"
   ]
  },
  {
   "cell_type": "markdown",
   "metadata": {},
   "source": [
    "El paso 3 permite personalizar las recomendaciones según las prioridades del usuario\n",
    "\n",
    "Se solicita al usuario que ingrese un valor entre 0 y 1 para cada aspecto:\n",
    "\n",
    "- service_score: Importancia del servicio.\n",
    "- food_score: Importancia de la comida.\n",
    "- price_score: Importancia del precio.\n",
    "- ambiance_score: Importancia del ambiente."
   ]
  },
  {
   "cell_type": "code",
   "execution_count": 36,
   "metadata": {},
   "outputs": [
    {
     "name": "stdout",
     "output_type": "stream",
     "text": [
      "Ingrese sus preferencias para los aspectos de los restaurantes (0 a 1):\n"
     ]
    }
   ],
   "source": [
    "# 3. Solicitar las preferencias del usuario\n",
    "print(\"Ingrese sus preferencias para los aspectos de los restaurantes (0 a 1):\")\n",
    "user_preferences = {\n",
    "    \"service_score\": float(input(\"Preferencia por el servicio (0 a 1): \")),\n",
    "    \"food_score\": float(input(\"Preferencia por la comida (0 a 1): \")),\n",
    "    \"price_score\": float(input(\"Preferencia por el precio (0 a 1): \")),\n",
    "    \"ambiance_score\": float(input(\"Preferencia por el ambiente (0 a 1): \"))\n",
    "}"
   ]
  },
  {
   "cell_type": "markdown",
   "metadata": {},
   "source": [
    "En el paso 4 se crea un vector con las preferencias del usuario:\n",
    "\n",
    "Ejemplo: Si el usuario ingresa 0.8 para servicio, 1.0 para comida, 0.5 para precio y 0.7 para ambiente, el perfil del usuario será [0.8, 1.0, 0.5, 0.7].\n",
    "\n",
    "Este vector representa las preferencias del usuario y se usará para calcular la similitud con cada restaurante."
   ]
  },
  {
   "cell_type": "code",
   "execution_count": 37,
   "metadata": {},
   "outputs": [],
   "source": [
    "# 4. Crear un perfil del usuario basado en sus preferencias\n",
    "user_profile = np.array([user_preferences[\"service_score\"],\n",
    "                         user_preferences[\"food_score\"],\n",
    "                         user_preferences[\"price_score\"],\n",
    "                         user_preferences[\"ambiance_score\"]]).reshape(1, -1)"
   ]
  },
  {
   "cell_type": "markdown",
   "metadata": {},
   "source": [
    "En el paso 5 se extrae los puntajes de los aspectos de cada restaurante y los convierte en una matriz, Esta matriz contiene las características de los restaurantes que se compararán con el perfil del usuario."
   ]
  },
  {
   "cell_type": "code",
   "execution_count": 38,
   "metadata": {},
   "outputs": [],
   "source": [
    "# 5. Crear una matriz de características de los restaurantes\n",
    "restaurant_features = df[[\"service_score\", \"food_score\", \"price_score\", \"ambiance_score\"]].values"
   ]
  },
  {
   "cell_type": "markdown",
   "metadata": {},
   "source": [
    "En el paso 6 se alcula la similitud del perfil del usuario con cada restaurante usando Similitud de Coseno.\n",
    "\n",
    "La Similitud de Coseno mide qué tan similares son dos vectores en términos de dirección. Valores cercanos a 1 indican alta similitud.\n",
    "\n",
    "Esto permite identificar qué restaurantes se alinean mejor con las preferencias del usuario.\n"
   ]
  },
  {
   "cell_type": "code",
   "execution_count": 39,
   "metadata": {},
   "outputs": [],
   "source": [
    "# 6. Calcular la similitud del usuario con cada restaurante\n",
    "similarities = cosine_similarity(user_profile, restaurant_features)[0]"
   ]
  },
  {
   "cell_type": "markdown",
   "metadata": {},
   "source": [
    "En el paso 7 se crea una nueva columna en el DataFrame con los valores de similitud calculados para cada restaurante.\n",
    "\n",
    "Permite ordenar y filtrar los restaurantes según su similitud con el usuario."
   ]
  },
  {
   "cell_type": "code",
   "execution_count": 40,
   "metadata": {},
   "outputs": [],
   "source": [
    "# 7. Agregar la similitud a los datos\n",
    "df[\"similarity\"] = similarities"
   ]
  },
  {
   "cell_type": "markdown",
   "metadata": {},
   "source": [
    "En el paso 8 se filtra solo los restaurantes marcados como relevantes en los datos.\n",
    "\n",
    "Se asegura que solo se consideren restaurantes válidos para las recomendaciones."
   ]
  },
  {
   "cell_type": "code",
   "execution_count": 41,
   "metadata": {},
   "outputs": [],
   "source": [
    "# 8. Filtrar restaurantes relevantes (opcional)\n",
    "df_filtered = df[df[\"relevance\"] == 1]"
   ]
  },
  {
   "cell_type": "markdown",
   "metadata": {},
   "source": [
    "En el paso 9 se ordena los restaurantes de mayor a menor similitud con el usuario. \n",
    "\n",
    "En caso de empate, usa la calificación (stars) como criterio secundario.\n",
    "\n",
    "Esto asegura que los restaurantes más relevantes y mejor valorados aparezcan al inicio."
   ]
  },
  {
   "cell_type": "code",
   "execution_count": 42,
   "metadata": {},
   "outputs": [],
   "source": [
    "# 9. Ordenar los restaurantes por similitud y estrellas\n",
    "recommended_restaurants = df_filtered.sort_values(by=[\"similarity\", \"stars\"], ascending=False)"
   ]
  },
  {
   "cell_type": "markdown",
   "metadata": {},
   "source": [
    "En el paso 19 se muestra las 10 principales recomendaciones con su ID, calificación, similitud y sentimiento general.\n",
    "\n",
    "Se brinda al usuario una lista clara de restaurantes recomendados."
   ]
  },
  {
   "cell_type": "code",
   "execution_count": 43,
   "metadata": {},
   "outputs": [
    {
     "name": "stdout",
     "output_type": "stream",
     "text": [
      "\n",
      "Recomendaciones principales:\n",
      "     id_business  stars  similarity sentiment\n",
      "1364        8522    5.0    0.987739  positive\n",
      "1320       36214    4.0    0.984817  positive\n",
      "411        30065    5.0    0.984301  positive\n",
      "1603       43492    3.0    0.982674   neutral\n",
      "658        53888    4.0    0.982278  positive\n",
      "2278       30384    5.0    0.981527  positive\n",
      "199        19392    5.0    0.981083  positive\n",
      "1888       41372    4.0    0.980818  positive\n",
      "1009       43727    5.0    0.980482  positive\n",
      "667        31124    2.0    0.980413  negative\n"
     ]
    }
   ],
   "source": [
    "# 10. Mostrar las principales recomendaciones\n",
    "top_n = 10  # Cambiar según el número de recomendaciones que desees\n",
    "print(\"\\nRecomendaciones principales:\")\n",
    "print(recommended_restaurants[[\"id_business\", \"stars\", \"similarity\", \"sentiment\"]].head(top_n))"
   ]
  },
  {
   "cell_type": "markdown",
   "metadata": {},
   "source": [
    "En el paso 11 se guarda las recomendaciones en un archivo top_recommendations.parquet para análisis o uso posterior.\n",
    "Por qué es importante: Permite al usuario acceder a las recomendaciones en cualquier momento sin necesidad de volver a calcularlas.\n"
   ]
  },
  {
   "cell_type": "code",
   "execution_count": 44,
   "metadata": {},
   "outputs": [
    {
     "name": "stdout",
     "output_type": "stream",
     "text": [
      "\n",
      "Recomendaciones guardadas en: top_recommendations.parquet\n"
     ]
    }
   ],
   "source": [
    "# 11. Guardar las recomendaciones en un archivo (opcional)\n",
    "recommended_restaurants[[\"id_business\", \"stars\", \"similarity\", \"sentiment\"]].head(top_n).to_parquet(\"top_recommendations.parquet\")\n",
    "\n",
    "print(\"\\nRecomendaciones guardadas en: top_recommendations.parquet\")"
   ]
  },
  {
   "cell_type": "markdown",
   "metadata": {},
   "source": [
    "Analisis de resultados"
   ]
  },
  {
   "cell_type": "markdown",
   "metadata": {},
   "source": [
    "1. Tendencias en similitud\n",
    "\n",
    "Los valores de similitud van desde 0.9804 hasta 0.9877, lo que indica que estos restaurantes tienen una alta concordancia con las preferencias del usuario.\n",
    "\n",
    "El restaurante con el ID 8522 tiene la similitud más alta (0.9877), lo que significa que encaja muy bien con las prioridades del usuario (por ejemplo, servicio, comida, precio o ambiente).\n",
    "\n",
    "2. Calificación (stars)\n",
    "\n",
    "Entre los 10 restaurantes recomendados:\n",
    "\n",
    "6 restaurantes tienen 5 estrellas (indicando una calidad sobresaliente según las reseñas).\n",
    "\n",
    "3 restaurantes tienen 4 estrellas, lo cual sigue siendo un puntaje alto.\n",
    "\n",
    "1 restaurante tiene 3 estrellas, pero aún es relevante debido a su alta similitud.\n",
    "\n",
    "1 restaurante tiene 2 estrellas (ID: 31124), lo cual podría ser un caso atípico, aunque sigue siendo relevante por la similitud con las preferencias del usuario.\n",
    "\n",
    "3. Sentimiento general\n",
    "\n",
    "8 restaurantes tienen un sentimiento \"positive\", lo que refuerza su calidad percibida.\n",
    "\n",
    "1 restaurante tiene un sentimiento \"neutral\" (ID: 43492 con 3 estrellas), lo que sugiere que las opiniones están divididas.\n",
    "\n",
    "1 restaurante tiene un sentimiento \"negative\" (ID: 31124 con 2 estrellas), lo que podría indicar que, a pesar de alinearse con las preferencias del usuario, tiene problemas que afectan la satisfacción general.\n",
    "\n",
    "4. Caso atípico: Restaurante con sentimiento \"negative\"\n",
    "\n",
    "El restaurante con ID 31124 (2 estrellas, sentimiento negativo) tiene una similitud alta (0.9804) debido a que cumple con los aspectos que el usuario priorizó (por ejemplo, un buen puntaje en comida o ambiente). Sin embargo, su baja calificación y sentimiento negativo sugieren problemas específicos que podrían influir negativamente en la experiencia general.\n"
   ]
  },
  {
   "cell_type": "code",
   "execution_count": 3,
   "metadata": {},
   "outputs": [],
   "source": [
    "# Asegurarse de que los datos de las recomendaciones principales estén en un DataFrame\n",
    "recommendations_df = pd.DataFrame({\n",
    "    'id_business': [8522, 36214, 30065, 43492, 53888, 30384, 19392, 41372, 43727, 31124],\n",
    "    'stars': [5.0, 4.0, 5.0, 3.0, 4.0, 5.0, 5.0, 4.0, 5.0, 2.0],\n",
    "    'similarity': [0.987739, 0.984817, 0.984301, 0.982674, 0.982278, 0.981527, 0.981083, 0.980818, 0.980482, 0.980413],\n",
    "    'sentiment': ['positive', 'positive', 'positive', 'neutral', 'positive', 'positive', 'positive', 'positive', 'positive', 'negative']\n",
    "})\n"
   ]
  },
  {
   "cell_type": "code",
   "execution_count": 6,
   "metadata": {},
   "outputs": [
    {
     "data": {
      "image/png": "[encoded data removed]",
      "text/plain": [
       "<Figure size 1400x700 with 1 Axes>"
      ]
     },
     "metadata": {},
     "output_type": "display_data"
    }
   ],
   "source": [
    "import matplotlib.pyplot as plt\n",
    "import seaborn as sns\n",
    "import pandas as pd\n",
    "\n",
    "# Datos de las recomendaciones\n",
    "recommendations_df = pd.DataFrame({\n",
    "    'id_business': [8522, 36214, 30065, 43492, 53888, 30384, 19392, 41372, 43727, 31124],\n",
    "    'stars': [5.0, 4.0, 5.0, 3.0, 4.0, 5.0, 5.0, 4.0, 5.0, 2.0],\n",
    "    'similarity': [0.987739, 0.984817, 0.984301, 0.982674, 0.982278, 0.981527, 0.981083, 0.980818, 0.980482, 0.980413],\n",
    "    'sentiment': ['positive', 'positive', 'positive', 'neutral', 'positive', 'positive', 'positive', 'positive', 'positive', 'negative']\n",
    "})\n",
    "\n",
    "# Ordenar por estrellas y luego por similitud\n",
    "recommendations_df = recommendations_df.sort_values(by=['stars', 'similarity'], ascending=[False, False]).reset_index(drop=True)\n",
    "\n",
    "# Configurar fuente\n",
    "plt.rcParams[\"font.family\"] = \"DejaVu Sans\"\n",
    "\n",
    "# Crear figura\n",
    "plt.figure(figsize=(14, 7))\n",
    "\n",
    "# Crear gráfico de barras\n",
    "sns.barplot(\n",
    "    x='id_business', \n",
    "    y='similarity', \n",
    "    data=recommendations_df, \n",
    "    hue='id_business', \n",
    "    dodge=False, \n",
    "    palette=sns.color_palette(\"coolwarm\", as_cmap=True)\n",
    ")\n",
    "\n",
    "# Añadir las etiquetas de estrellas sobre cada barra\n",
    "for i, row in recommendations_df.iterrows():\n",
    "    plt.text(i, row['similarity'] + 0.002, f\"{int(row['stars'])}★\",  # Convertir a entero\n",
    "             ha='center', fontsize=11, color='black', weight='bold')\n",
    "\n",
    "# Resaltar restaurantes con estrellas bajas (opcional)\n",
    "for i, row in recommendations_df.iterrows():\n",
    "    if row['stars'] < 3.0:\n",
    "        plt.text(i, row['similarity'] - 0.02, \"⚠️\", \n",
    "                 ha='center', fontsize=12, color='red', weight='bold')\n",
    "\n",
    "# Agregar línea horizontal indicando la similitud promedio\n",
    "similarity_mean = recommendations_df['similarity'].mean()\n",
    "plt.axhline(similarity_mean, color='red', linestyle='--', linewidth=1, label=f\"Similitud Promedio ({similarity_mean:.4f})\")\n",
    "\n",
    "# Etiquetas y título\n",
    "plt.xlabel(\"ID del Restaurante\", fontsize=12)\n",
    "plt.ylabel(\"Similitud con las Preferencias del Usuario\", fontsize=12)\n",
    "plt.title(\"Top 10 Recomendaciones: Similitud y Estrellas\", fontsize=14, weight='bold')\n",
    "\n",
    "# Ajustar leyenda (eliminar si no es necesaria)\n",
    "plt.legend([], [], frameon=False)\n",
    "\n",
    "# Ajustar diseño\n",
    "plt.tight_layout()\n",
    "\n",
    "# Mostrar gráfico\n",
    "plt.show()"
   ]
  },
  {
   "cell_type": "markdown",
   "metadata": {},
   "source": [
    "La imagen muestra un gráfico de barras que representa las 10 principales recomendaciones de restaurantes. \n",
    "\n",
    "Elementos Clave:\n",
    "\n",
    "- Eje X (ID del Restaurante):\n",
    "\n",
    "Representa los identificadores de los restaurantes recomendados.\n",
    "Están ordenados en función de la similitud (probablemente con las preferencias del usuario).\n",
    "\n",
    "- Eje Y (Similitud con las Preferencias del Usuario):\n",
    "\n",
    "Indica la puntuación de similitud para cada restaurante.\n",
    "Todas las puntuaciones están muy cercanas a 1.0, lo que sugiere que las recomendaciones son altamente relevantes según el modelo.\n",
    "\n",
    "- Estrellas sobre las barras:\n",
    "\n",
    "Se muestran las calificaciones promedio de los restaurantes en forma de estrellas (ej. 5.0★).\n",
    "Facilita la comparación rápida entre la similitud y la calidad percibida del restaurante.\n",
    "\n",
    "- Línea Roja Horizontal (Similitud Promedio):\n",
    "\n",
    "Representa el promedio de similitudes entre las recomendaciones.\n",
    "\n",
    "Ayuda a identificar visualmente cuáles restaurantes están por encima o por debajo de este promedio.\n",
    "\n",
    "\n",
    "Observaciones:\n",
    "\n",
    "- Calificaciones altas y similitud:\n",
    "\n",
    "La mayoría de las recomendaciones tienen una calificación de 4.0★ o 5.0★, lo que respalda la calidad percibida.\n",
    "\n",
    "Los restaurantes con 5.0★ tienden a tener las puntuaciones de similitud más altas.\n",
    "\n",
    "- Advertencia sobre estrellas bajas:\n",
    "\n",
    "El restaurante con 2.0★ (ID 53888) destaca negativamente, pero aún tiene una similitud alta, lo que podría ser un área para analizar si el modelo pondera demasiado las preferencias del usuario frente a la calidad objetiva.\n",
    "\n"
   ]
  }
 ],
 "metadata": {
  "kernelspec": {
   "display_name": "DataScience",
   "language": "python",
   "name": "python3"
  },
  "language_info": {
   "codemirror_mode": {
    "name": "ipython",
    "version": 3
   },
   "file_extension": ".py",
   "mimetype": "text/x-python",
   "name": "python",
   "nbconvert_exporter": "python",
   "pygments_lexer": "ipython3",
   "version": "3.12.8"
  }
 },
 "nbformat": 4,
 "nbformat_minor": 2
}
