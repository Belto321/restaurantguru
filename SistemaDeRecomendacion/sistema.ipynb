{
 "cells": [
  {
   "cell_type": "markdown",
   "metadata": {},
   "source": [
    "# Sistema de recomendación de comidas y establecimientos según restaurant deseado"
   ]
  },
  {
   "cell_type": "markdown",
   "metadata": {},
   "source": [
    "## Modelamiento y evaluación con machine learning"
   ]
  },
  {
   "cell_type": "markdown",
   "metadata": {},
   "source": [
    "### 1. Objetivos:\n",
    "Fortalecer la imagen de marca ayudando al usuario a seleccionar adecuadamente el establecimiento deseado y ofreciéndole nuevas opciones de restaurant que podrían encantarle. Para lograr esto, proponemos los siguiente: \n",
    "* Implementar un modelo de clasificación con aprendizaje supervisado basado en un algoritmo de similitud de coseno. \n",
    "* Recomendar los mejores tres restaurantes según el algoritmo.\n",
    "\n",
    "**Se desplegarán los siguientes endpoints:**\n",
    "   1. Endpoint 1: \n",
    "      1. Función: Recomendar un restaurante basado en una palabra clave, con la posibilidad de establecer filtros según las preferencias del usuario. Los filtros disponibles serán: tipo de cocina (American, International, Healthy), calificación del negocio (último año), ciudad (menú desplegable), reseñas positivas, horarios de apertura, aspecto (Ambiente, comida, servicio, precio)\n",
    "      2. Método: Filtro de contenido. \n",
    "      3. Texto para el usuario: Ingrese una palabra clave y complete los filtros según sus preferencias (city es obligatorio)\n",
    "   2. Endpoint 2: \n",
    "      1. Función: Recomendar restaurantes basándose en las reseñas que ha escrito el usuario en cuestión.\n",
    "      2. Método: Filtro de contenido\n",
    "      3. Texto para el usuario: restaurant que te podrían gustar en base a tus experiencias.\n",
    "   3. Endpoint 3: \n",
    "      1. Función: Recomendar restaurantes basándose en las calificaciones del usuario en cuestión.\n",
    "      2. Método: Filtro colaborativo.\n",
    "      3. Texto para el usuario: restaurant que te podrían gustar en base a tus calificaciones positivas.\n",
    "   4. Endpoint 4: \n",
    "      1. Función: Recomendar el restaurante que más le gustó al usuario, considerando sus experiencias y calificaciones.\n",
    "      2. Método: Filtro híbrido.\n",
    "      3. Texto para el usuario: el restaurant que más te gustó.\n",
    "   5. Endpoint 5: \n",
    "      1. Función: Recomendar restaurant utilizando un híbrido entre los endpoints 2, 3, 4\n",
    "      2. Método: Filtro híbrido.\n",
    "      3. Texto para el usuario: comidas que te podrian gustar siguiendo un balance entre tus experiencias previas, calificaciones previas y restaurant mejor calificados."
   ]
  },
  {
   "cell_type": "markdown",
   "metadata": {},
   "source": [
    "### 2. Consideraciones:\n",
    "1. Se procederá a probar los tiempos de ejecución con distintas variables, primero numéricas, y luego se agregarán las categóricas. Se buscará que el algortimo cuando sea deployado se demote 1 segundo.\n",
    "2. Se optar por empezar a trabajar con las siguientes variables.\n",
    "3. Luego de realizar el MVP con las variables dle punto 2, se procedera a probar nuevas variables y se hará un feature importance."
   ]
  },
  {
   "cell_type": "markdown",
   "metadata": {},
   "source": [
    "### 3. Importación de libreria:"
   ]
  },
  {
   "cell_type": "code",
   "execution_count": 2,
   "metadata": {},
   "outputs": [],
   "source": [
    "import numpy as np\n",
    "import pandas as pd\n",
    "import spacy\n",
    "from sklearn.preprocessing import RobustScaler\n",
    "from sklearn.preprocessing import MinMaxScaler\n",
    "from sklearn.feature_extraction.text import TfidfVectorizer\n",
    "from sklearn.metrics.pairwise import cosine_similarity\n",
    "from sklearn.feature_extraction.text import CountVectorizer\n",
    "from sklearn.model_selection import train_test_split\n",
    "from sklearn.decomposition import TruncatedSVD\n",
    "from sklearn.metrics import accuracy_score, classification_report, confusion_matrix, ndcg_score\n",
    "from sklearn.metrics import ndcg_score\n",
    "from sklearn.model_selection import KFold\n",
    "import random \n",
    "import seaborn as sns\n",
    "import matplotlib.pyplot as plt"
   ]
  },
  {
   "cell_type": "markdown",
   "metadata": {},
   "source": [
    "### 4. Carga y visualización del DataFrame"
   ]
  },
  {
   "cell_type": "code",
   "execution_count": 3,
   "metadata": {},
   "outputs": [],
   "source": [
    "df_business = pd.read_parquet('Anexos/business.parquet')\n",
    "df_business_categories = pd.read_parquet('Anexos/business_categories.parquet')\n",
    "df_categories = pd.read_parquet('Anexos/categories.parquet')\n",
    "df_full_categories = pd.read_parquet('Anexos/full_categories.parquet')\n",
    "df_cities = pd.read_parquet('Anexos/cities.parquet')\n",
    "df_states = pd.read_parquet('Anexos/states.parquet')\n",
    "df_users = pd.read_parquet('Anexos/users.parquet')\n",
    "df_reviews = pd.read_parquet('Anexos/reviews.parquet')\n",
    "df_ml_3 = pd.read_parquet('Anexos/modelo3.parquet')\n",
    "df_ml_absa = pd.read_parquet('Anexos/absa.parquet')"
   ]
  },
  {
   "cell_type": "code",
   "execution_count": 45,
   "metadata": {},
   "outputs": [],
   "source": [
    "# Eliminamos las filas duplicadas excepto el id_user\n",
    "df_ml_3_1 = df_ml_3.drop_duplicates(subset=['id_business', 'business_name', 'city_name', 'business_address'])"
   ]
  },
  {
   "cell_type": "code",
   "execution_count": 46,
   "metadata": {},
   "outputs": [
    {
     "name": "stdout",
     "output_type": "stream",
     "text": [
      "Celdas vacías por columna:\n",
      "id_business           0\n",
      "business_name         0\n",
      "category_name         0\n",
      "city_name             0\n",
      "business_address      0\n",
      "region              729\n",
      "description         729\n",
      "avg_rating            0\n",
      "weighted_rating       0\n",
      "date                  0\n",
      "hours               413\n",
      "id_user               0\n",
      "dtype: int64\n"
     ]
    }
   ],
   "source": [
    "# Verificar celdas vacías por columna\n",
    "celdas_vacias_por_columna = df_ml_3_1.isnull().sum()\n",
    "\n",
    "# Mostrar el resultado\n",
    "print(\"Celdas vacías por columna:\")\n",
    "print(celdas_vacias_por_columna)"
   ]
  },
  {
   "cell_type": "code",
   "execution_count": 47,
   "metadata": {},
   "outputs": [
    {
     "name": "stderr",
     "output_type": "stream",
     "text": [
      "C:\\Users\\Josue\\AppData\\Local\\Temp\\ipykernel_8660\\4202694133.py:2: SettingWithCopyWarning: \n",
      "A value is trying to be set on a copy of a slice from a DataFrame.\n",
      "Try using .loc[row_indexer,col_indexer] = value instead\n",
      "\n",
      "See the caveats in the documentation: https://pandas.pydata.org/pandas-docs/stable/user_guide/indexing.html#returning-a-view-versus-a-copy\n",
      "  df_ml_3_1['region'] = df_ml_3_1['region'].fillna('Global')\n"
     ]
    }
   ],
   "source": [
    "# Rellenar las celdas vacías de la columna 'Region' con 'Global'\n",
    "df_ml_3_1['region'] = df_ml_3_1['region'].fillna('Global')"
   ]
  },
  {
   "cell_type": "code",
   "execution_count": 49,
   "metadata": {},
   "outputs": [
    {
     "name": "stderr",
     "output_type": "stream",
     "text": [
      "C:\\Users\\Josue\\AppData\\Local\\Temp\\ipykernel_8660\\2206455237.py:1: SettingWithCopyWarning: \n",
      "A value is trying to be set on a copy of a slice from a DataFrame.\n",
      "Try using .loc[row_indexer,col_indexer] = value instead\n",
      "\n",
      "See the caveats in the documentation: https://pandas.pydata.org/pandas-docs/stable/user_guide/indexing.html#returning-a-view-versus-a-copy\n",
      "  df_ml_3_1['full_description'] = (\n"
     ]
    }
   ],
   "source": [
    "df_ml_3_1['full_description'] = (\n",
    "    df_ml_3_1['business_name'].fillna('') + ' ' +\n",
    "    df_ml_3_1['category_name'].fillna('') + ' ' +\n",
    "    df_ml_3_1['description'].fillna('') + ' ' +\n",
    "    df_ml_3_1['region'].fillna('')\n",
    ").str.strip()"
   ]
  },
  {
   "cell_type": "code",
   "execution_count": 51,
   "metadata": {},
   "outputs": [],
   "source": [
    "df_ml_3_1 = df_ml_3_1.drop(columns='description')"
   ]
  },
  {
   "cell_type": "code",
   "execution_count": 52,
   "metadata": {},
   "outputs": [],
   "source": [
    "df_ml_3_1 = df_ml_3_1.rename(columns={'full_description': 'description'})"
   ]
  },
  {
   "cell_type": "code",
   "execution_count": 53,
   "metadata": {},
   "outputs": [
    {
     "name": "stdout",
     "output_type": "stream",
     "text": [
      "Columnas del DataFrame:\n",
      "Index(['id_business', 'business_name', 'category_name', 'city_name',\n",
      "       'business_address', 'region', 'avg_rating', 'weighted_rating', 'date',\n",
      "       'hours', 'id_user', 'description'],\n",
      "      dtype='object')\n"
     ]
    }
   ],
   "source": [
    "print(\"Columnas del DataFrame:\")\n",
    "print(df_ml_3_1.columns)"
   ]
  },
  {
   "cell_type": "code",
   "execution_count": 55,
   "metadata": {},
   "outputs": [
    {
     "name": "stdout",
     "output_type": "stream",
     "text": [
      "Celdas vacías por columna:\n",
      "id_business           0\n",
      "business_name         0\n",
      "category_name         0\n",
      "city_name             0\n",
      "business_address      0\n",
      "region                0\n",
      "avg_rating            0\n",
      "weighted_rating       0\n",
      "date                  0\n",
      "hours               413\n",
      "id_user               0\n",
      "description           0\n",
      "dtype: int64\n"
     ]
    }
   ],
   "source": [
    "# Verificar celdas vacías por columna\n",
    "celdas_vacias_por_columna = df_ml_3_1.isnull().sum()\n",
    "\n",
    "# Mostrar el resultado\n",
    "print(\"Celdas vacías por columna:\")\n",
    "print(celdas_vacias_por_columna)"
   ]
  },
  {
   "cell_type": "code",
   "execution_count": 54,
   "metadata": {},
   "outputs": [
    {
     "name": "stdout",
     "output_type": "stream",
     "text": [
      "El número de filas del DataFrame df_ml_3_1 es: 33861\n"
     ]
    }
   ],
   "source": [
    "# Obtener el número de filas del DataFrame df_ml_3_1\n",
    "num_filas = df_ml_3_1.shape[0]\n",
    "\n",
    "# Mostrar el resultado\n",
    "print(\"El número de filas del DataFrame df_ml_3_1 es:\", num_filas)"
   ]
  },
  {
   "cell_type": "code",
   "execution_count": null,
   "metadata": {},
   "outputs": [],
   "source": [
    "df_ml_3_1.to_parquet('Anexos/Datos_en_tablas/modelo3.parquet')"
   ]
  },
  {
   "cell_type": "markdown",
   "metadata": {},
   "source": [
    "Se realizará un merge entre df_ml_3 y df_ml_absa para agregar un análisis de sentimiento por aspecto"
   ]
  },
  {
   "cell_type": "code",
   "execution_count": 4,
   "metadata": {},
   "outputs": [
    {
     "data": {
      "text/plain": [
       "Index(['id_business', 'stars', 'sentiment', 'relevance', 'service_score',\n",
       "       'food_score', 'price_score', 'ambiance_score', 'service_sentiment',\n",
       "       'food_sentiment', 'price_sentiment', 'ambiance_sentiment'],\n",
       "      dtype='object')"
      ]
     },
     "execution_count": 4,
     "metadata": {},
     "output_type": "execute_result"
    }
   ],
   "source": [
    "df_ml_absa.columns"
   ]
  },
  {
   "cell_type": "code",
   "execution_count": 21,
   "metadata": {},
   "outputs": [
    {
     "data": {
      "text/plain": [
       "Index(['id_business', 'business_name', 'category_name', 'city_name',\n",
       "       'business_address', 'region', 'description', 'avg_rating',\n",
       "       'weighted_rating', 'date', 'hours', 'id_user', 'stars', 'sentiment',\n",
       "       'relevance', 'service_score', 'food_score', 'price_score',\n",
       "       'ambiance_score', 'service_sentiment', 'food_sentiment',\n",
       "       'price_sentiment', 'ambiance_sentiment'],\n",
       "      dtype='object')"
      ]
     },
     "execution_count": 21,
     "metadata": {},
     "output_type": "execute_result"
    }
   ],
   "source": [
    "# Realizar un merge (inner join) en la columna 'id_business'\n",
    "df_ml_4 = pd.merge(df_ml_3, df_ml_absa, on='id_business', how='inner')\n",
    "\n",
    "df_ml_4.columns"
   ]
  },
  {
   "cell_type": "code",
   "execution_count": 22,
   "metadata": {},
   "outputs": [],
   "source": [
    "df_ml_4 = df_ml_4[['id_business', 'business_name', 'category_name', 'city_name', 'business_address', 'region', 'description', 'avg_rating', 'weighted_rating', 'date', 'hours', 'service_sentiment', 'food_sentiment', 'price_sentiment', 'ambiance_sentiment']]"
   ]
  },
  {
   "cell_type": "code",
   "execution_count": 23,
   "metadata": {},
   "outputs": [],
   "source": [
    "# Rellenar las celdas vacías de la columna 'Region' con 'Global'\n",
    "df_ml_4['region'] = df_ml_4['region'].fillna('Global')"
   ]
  },
  {
   "cell_type": "code",
   "execution_count": 24,
   "metadata": {},
   "outputs": [
    {
     "name": "stdout",
     "output_type": "stream",
     "text": [
      "Celdas vacías por columna:\n",
      "id_business               0\n",
      "business_name             0\n",
      "category_name             0\n",
      "city_name                 0\n",
      "business_address          0\n",
      "region                    0\n",
      "description           36420\n",
      "avg_rating                0\n",
      "weighted_rating           0\n",
      "date                      0\n",
      "hours                  6630\n",
      "service_sentiment         0\n",
      "food_sentiment            0\n",
      "price_sentiment           0\n",
      "ambiance_sentiment        0\n",
      "dtype: int64\n"
     ]
    }
   ],
   "source": [
    "# Verificar celdas vacías por columna\n",
    "celdas_vacias_por_columna = df_ml_4.isnull().sum()\n",
    "\n",
    "# Mostrar el resultado\n",
    "print(\"Celdas vacías por columna:\")\n",
    "print(celdas_vacias_por_columna)"
   ]
  },
  {
   "cell_type": "code",
   "execution_count": 25,
   "metadata": {},
   "outputs": [],
   "source": [
    "df_ml_4['full_description'] = (\n",
    "    df_ml_4['business_name'].fillna('') + ' ' +\n",
    "    df_ml_4['category_name'].fillna('') + ' ' +\n",
    "    df_ml_4['description'].fillna('') + ' ' +\n",
    "    df_ml_4['region'].fillna('')\n",
    ").str.strip()"
   ]
  },
  {
   "cell_type": "code",
   "execution_count": 26,
   "metadata": {},
   "outputs": [
    {
     "name": "stdout",
     "output_type": "stream",
     "text": [
      "El número de filas del DataFrame df_ml_4 es: 2909020\n"
     ]
    }
   ],
   "source": [
    "# Obtener el número de filas del DataFrame df_ml_4\n",
    "num_filas = df_ml_4.shape[0]\n",
    "\n",
    "# Mostrar el resultado\n",
    "print(\"El número de filas del DataFrame df_ml_4 es:\", num_filas)"
   ]
  },
  {
   "cell_type": "code",
   "execution_count": 27,
   "metadata": {},
   "outputs": [],
   "source": [
    "df_ml_4 = df_ml_4.drop(columns='description')"
   ]
  },
  {
   "cell_type": "code",
   "execution_count": 28,
   "metadata": {},
   "outputs": [],
   "source": [
    "df_ml_4 = df_ml_4.rename(columns={'full_description': 'description'})"
   ]
  },
  {
   "cell_type": "code",
   "execution_count": 29,
   "metadata": {},
   "outputs": [
    {
     "name": "stdout",
     "output_type": "stream",
     "text": [
      "Columnas del DataFrame:\n",
      "Index(['id_business', 'business_name', 'category_name', 'city_name',\n",
      "       'business_address', 'region', 'avg_rating', 'weighted_rating', 'date',\n",
      "       'hours', 'service_sentiment', 'food_sentiment', 'price_sentiment',\n",
      "       'ambiance_sentiment', 'description'],\n",
      "      dtype='object')\n"
     ]
    }
   ],
   "source": [
    "print(\"Columnas del DataFrame:\")\n",
    "print(df_ml_4.columns)"
   ]
  },
  {
   "cell_type": "code",
   "execution_count": 30,
   "metadata": {},
   "outputs": [],
   "source": [
    "# Eliminamos las filas duplicadas excepto el id_user\n",
    "df_ml_4_1 = df_ml_4.drop_duplicates(subset=['id_business', 'business_name', 'city_name', 'category_name', 'business_address', 'avg_rating', 'weighted_rating', 'description', 'date'])"
   ]
  },
  {
   "cell_type": "code",
   "execution_count": 37,
   "metadata": {},
   "outputs": [
    {
     "name": "stdout",
     "output_type": "stream",
     "text": [
      "El número de filas del DataFrame df_ml_4_1 es: 2566\n"
     ]
    }
   ],
   "source": [
    "# Obtener el número de filas del DataFrame df_ml_4\n",
    "num_filas = df_ml_4_1.shape[0]\n",
    "\n",
    "# Mostrar el resultado\n",
    "print(\"El número de filas del DataFrame df_ml_4_1 es:\", num_filas)"
   ]
  },
  {
   "cell_type": "code",
   "execution_count": 32,
   "metadata": {},
   "outputs": [],
   "source": [
    "df_ml_4_1.to_parquet('Anexos/Datos_en_tablas/modelo4.parquet')"
   ]
  },
  {
   "cell_type": "markdown",
   "metadata": {},
   "source": [
    "### Endpoint 1: Filtro de contenido con palabra clave"
   ]
  },
  {
   "cell_type": "markdown",
   "metadata": {},
   "source": [
    "Pruebo el algoritmo solo de contenido, sin considerar a cada usuario. El filtro es sencillo, pero no se puede probar si funciona para cada usuario porque es como un filtro \"objetivo\". Es un sistema de recomendación por contenido basado en palabra clave y filtrando por:\n",
    "* 'city_name'"
   ]
  },
  {
   "cell_type": "code",
   "execution_count": 56,
   "metadata": {},
   "outputs": [
    {
     "name": "stdout",
     "output_type": "stream",
     "text": [
      "La ciudad con más filas es: Philadelphia, con 1457 filas.\n"
     ]
    }
   ],
   "source": [
    "city_counts = df_ml_3_1['city_name'].value_counts()\n",
    "most_common_city = city_counts.idxmax()\n",
    "max_count = city_counts.max()\n",
    "\n",
    "print(f\"La ciudad con más filas es: {most_common_city}, con {max_count} filas.\")"
   ]
  },
  {
   "cell_type": "markdown",
   "metadata": {},
   "source": [
    "Primera versión: sin análisis de sentimiento"
   ]
  },
  {
   "cell_type": "code",
   "execution_count": 58,
   "metadata": {},
   "outputs": [
    {
     "name": "stdout",
     "output_type": "stream",
     "text": [
      "Recommended Restaurants:\n"
     ]
    },
    {
     "data": {
      "text/html": [
       "<div>\n",
       "<style scoped>\n",
       "    .dataframe tbody tr th:only-of-type {\n",
       "        vertical-align: middle;\n",
       "    }\n",
       "\n",
       "    .dataframe tbody tr th {\n",
       "        vertical-align: top;\n",
       "    }\n",
       "\n",
       "    .dataframe thead th {\n",
       "        text-align: right;\n",
       "    }\n",
       "</style>\n",
       "<table border=\"1\" class=\"dataframe\">\n",
       "  <thead>\n",
       "    <tr style=\"text-align: right;\">\n",
       "      <th></th>\n",
       "      <th>business_name</th>\n",
       "      <th>category_name</th>\n",
       "      <th>similarity</th>\n",
       "      <th>city_name</th>\n",
       "      <th>business_address</th>\n",
       "      <th>avg_rating</th>\n",
       "      <th>region</th>\n",
       "      <th>hours</th>\n",
       "    </tr>\n",
       "  </thead>\n",
       "  <tbody>\n",
       "    <tr>\n",
       "      <th>0</th>\n",
       "      <td>Prime Halal Meat</td>\n",
       "      <td>Restaurants</td>\n",
       "      <td>48%</td>\n",
       "      <td>Philadelphia</td>\n",
       "      <td>500 S 23rd St</td>\n",
       "      <td>5.0</td>\n",
       "      <td>Global</td>\n",
       "      <td>{'Friday': '15:0-20:0', 'Monday': None, 'Satur...</td>\n",
       "    </tr>\n",
       "  </tbody>\n",
       "</table>\n",
       "</div>"
      ],
      "text/plain": [
       "      business_name category_name similarity     city_name business_address  \\\n",
       "0  Prime Halal Meat   Restaurants        48%  Philadelphia    500 S 23rd St   \n",
       "\n",
       "   avg_rating  region                                              hours  \n",
       "0         5.0  Global  {'Friday': '15:0-20:0', 'Monday': None, 'Satur...  "
      ]
     },
     "execution_count": 58,
     "metadata": {},
     "output_type": "execute_result"
    }
   ],
   "source": [
    "import pandas as pd\n",
    "from sklearn.feature_extraction.text import TfidfVectorizer\n",
    "from sklearn.metrics.pairwise import cosine_similarity\n",
    "\n",
    "# Supongamos que ya tienes tu DataFrame df_ml_3_1\n",
    "\n",
    "# Initialize the TF-IDF vectorizer\n",
    "vectorizer = TfidfVectorizer(lowercase=True, stop_words='english')\n",
    "\n",
    "# Fit and transform the data\n",
    "tfidf_matrix = vectorizer.fit_transform(df_ml_3_1['description'].fillna(''))\n",
    "\n",
    "def get_recommendations(keyword, city=None, avg_rating=None, business_name=None, region=None, df=df_ml_3_1, vectorizer=vectorizer):\n",
    "    filtered_df = df.copy()\n",
    "\n",
    "    if city:\n",
    "        filtered_df = filtered_df[filtered_df['city_name'] == city]\n",
    "    if avg_rating:\n",
    "        filtered_df = filtered_df[filtered_df['avg_rating'] >= avg_rating]\n",
    "    if business_name:\n",
    "        filtered_df = filtered_df[filtered_df['business_name'].str.contains(business_name, case=False)]\n",
    "    if region:\n",
    "        filtered_df = filtered_df[filtered_df['region'].str.contains(region, case=False)]\n",
    "\n",
    "    # Handle empty DataFrame\n",
    "    if filtered_df.empty:\n",
    "        return pd.DataFrame({'business_name': [], 'similarity': [], 'city_name': [], 'avg_rating': [], 'region': [], 'weighted_rating': []})\n",
    "\n",
    "    # Drop duplicates and handle NaN descriptions\n",
    "    filtered_df = filtered_df.drop_duplicates(subset=['id_business'])\n",
    "    filtered_df['description'] = filtered_df['description'].fillna('')\n",
    "\n",
    "    tfidf_matrix_filtered = vectorizer.transform(filtered_df['description'])\n",
    "\n",
    "    keyword_tfidf = vectorizer.transform([keyword])\n",
    "\n",
    "    keyword_sim = cosine_similarity(keyword_tfidf, tfidf_matrix_filtered)\n",
    "    sim_scores = list(enumerate(keyword_sim[0]))\n",
    "    sim_scores = sorted(sim_scores, key=lambda x: x[1], reverse=True)\n",
    "    filtered_scores = [score for score in sim_scores if score[1] > 0.1]\n",
    "\n",
    "    top_indices = [i[0] for i in filtered_scores[:3]]\n",
    "    scores = [i[1] for i in filtered_scores[:3]]\n",
    "\n",
    "    # Round similarity percentages to the nearest integer\n",
    "    similarity_percentages = [f\"{round(score * 100)}%\" for score in scores]\n",
    "\n",
    "    recommendations = pd.DataFrame({\n",
    "        'business_name': filtered_df['business_name'].iloc[top_indices].values,\n",
    "        'category_name': filtered_df['category_name'].iloc[top_indices].values,\n",
    "        'similarity': similarity_percentages,\n",
    "        'city_name': filtered_df['city_name'].iloc[top_indices].values,\n",
    "        'business_address': filtered_df['business_address'].iloc[top_indices].values,\n",
    "        'avg_rating': filtered_df['avg_rating'].iloc[top_indices].values,\n",
    "        'region': filtered_df['region'].iloc[top_indices].values,\n",
    "        'hours': filtered_df['hours'].iloc[top_indices].values,\n",
    "        'weighted_rating': filtered_df['weighted_rating'].iloc[top_indices].values\n",
    "    })\n",
    "\n",
    "    # Ordenar el DataFrame resultante por la columna 'weighted_rating' en orden descendente\n",
    "    recommendations = recommendations.sort_values(by='weighted_rating', ascending=False)\n",
    "\n",
    "    # Eliminar la columna 'weighted_rating' del resultado final \n",
    "    recommendations = recommendations.drop(columns=['weighted_rating'])\n",
    "\n",
    "    return recommendations\n",
    "\n",
    "# Ejemplo de llamada a la función\n",
    "recommended = get_recommendations('Meat', city='Philadelphia')\n",
    "print(\"Recommended Restaurants:\")\n",
    "recommended"
   ]
  },
  {
   "cell_type": "code",
   "execution_count": 57,
   "metadata": {},
   "outputs": [
    {
     "name": "stdout",
     "output_type": "stream",
     "text": [
      "Recommended Restaurants:\n"
     ]
    },
    {
     "data": {
      "text/html": [
       "<div>\n",
       "<style scoped>\n",
       "    .dataframe tbody tr th:only-of-type {\n",
       "        vertical-align: middle;\n",
       "    }\n",
       "\n",
       "    .dataframe tbody tr th {\n",
       "        vertical-align: top;\n",
       "    }\n",
       "\n",
       "    .dataframe thead th {\n",
       "        text-align: right;\n",
       "    }\n",
       "</style>\n",
       "<table border=\"1\" class=\"dataframe\">\n",
       "  <thead>\n",
       "    <tr style=\"text-align: right;\">\n",
       "      <th></th>\n",
       "      <th>business_name</th>\n",
       "      <th>category_name</th>\n",
       "      <th>similarity</th>\n",
       "      <th>city_name</th>\n",
       "      <th>business_address</th>\n",
       "      <th>avg_rating</th>\n",
       "      <th>region</th>\n",
       "      <th>hours</th>\n",
       "    </tr>\n",
       "  </thead>\n",
       "  <tbody>\n",
       "    <tr>\n",
       "      <th>2</th>\n",
       "      <td>The Halal Guys</td>\n",
       "      <td>Restaurants</td>\n",
       "      <td>65%</td>\n",
       "      <td>Philadelphia</td>\n",
       "      <td>3816-36 Chestnut St, Unit 1</td>\n",
       "      <td>3.5</td>\n",
       "      <td>Global</td>\n",
       "      <td>{'Friday': '12:0-22:0', 'Monday': '0:0-0:0', '...</td>\n",
       "    </tr>\n",
       "    <tr>\n",
       "      <th>0</th>\n",
       "      <td>Prime Halal Meat</td>\n",
       "      <td>Restaurants</td>\n",
       "      <td>74%</td>\n",
       "      <td>Philadelphia</td>\n",
       "      <td>500 S 23rd St</td>\n",
       "      <td>5.0</td>\n",
       "      <td>Global</td>\n",
       "      <td>{'Friday': '15:0-20:0', 'Monday': None, 'Satur...</td>\n",
       "    </tr>\n",
       "    <tr>\n",
       "      <th>1</th>\n",
       "      <td>The Halal Guys</td>\n",
       "      <td>Restaurants</td>\n",
       "      <td>65%</td>\n",
       "      <td>Philadelphia</td>\n",
       "      <td>1016 Race St</td>\n",
       "      <td>3.0</td>\n",
       "      <td>Global</td>\n",
       "      <td>{'Friday': '17:0-0:0', 'Monday': '17:0-22:0', ...</td>\n",
       "    </tr>\n",
       "  </tbody>\n",
       "</table>\n",
       "</div>"
      ],
      "text/plain": [
       "      business_name category_name similarity     city_name  \\\n",
       "2    The Halal Guys   Restaurants        65%  Philadelphia   \n",
       "0  Prime Halal Meat   Restaurants        74%  Philadelphia   \n",
       "1    The Halal Guys   Restaurants        65%  Philadelphia   \n",
       "\n",
       "              business_address  avg_rating  region  \\\n",
       "2  3816-36 Chestnut St, Unit 1         3.5  Global   \n",
       "0                500 S 23rd St         5.0  Global   \n",
       "1                 1016 Race St         3.0  Global   \n",
       "\n",
       "                                               hours  \n",
       "2  {'Friday': '12:0-22:0', 'Monday': '0:0-0:0', '...  \n",
       "0  {'Friday': '15:0-20:0', 'Monday': None, 'Satur...  \n",
       "1  {'Friday': '17:0-0:0', 'Monday': '17:0-22:0', ...  "
      ]
     },
     "execution_count": 57,
     "metadata": {},
     "output_type": "execute_result"
    }
   ],
   "source": [
    "# Initialize the TF-IDF vectorizer\n",
    "vectorizer = TfidfVectorizer(lowercase=True, stop_words='english')\n",
    "\n",
    "# Fit and transform the data\n",
    "tfidf_matrix = vectorizer.fit_transform(df_ml_3_1['description'])\n",
    "\n",
    "def get_recommendations(keyword, city=None, avg_rating=None, business_name=None, region=None, df=df_ml_3_1, vectorizer=vectorizer, svd=None):\n",
    "    filtered_df = df.copy()\n",
    "    if city:\n",
    "        filtered_df = filtered_df[filtered_df['city_name'] == city]\n",
    "    if avg_rating:\n",
    "        filtered_df = filtered_df[filtered_df['avg_rating'] >= avg_rating]\n",
    "    if business_name:\n",
    "        filtered_df = filtered_df[filtered_df['business_name'].str.contains(business_name, case=False)]\n",
    "    if region:\n",
    "        filtered_df = filtered_df[filtered_df['region'].str.contains(region, case=False)]\n",
    "\n",
    "    # Handle empty DataFrame\n",
    "    if filtered_df.empty:\n",
    "        return pd.DataFrame({'business_name': [], 'similarity': [], 'city_name': [], 'avg_rating': [], 'region': [], 'weighted_rating': []})\n",
    "\n",
    "    # Drop duplicates and handle NaN descriptions\n",
    "    filtered_df = filtered_df.drop_duplicates(subset=['id_business'])\n",
    "    filtered_df['description'] = filtered_df['description'].fillna('')\n",
    "\n",
    "    tfidf_matrix_filtered = vectorizer.transform(filtered_df['description'])\n",
    "\n",
    "    # Ensure n_components is within range of features\n",
    "    n_features = tfidf_matrix_filtered.shape[1]\n",
    "    n_components = min(100, n_features)\n",
    "\n",
    "    if svd:\n",
    "        svd.n_components = n_components\n",
    "        tfidf_matrix_filtered = svd.fit_transform(tfidf_matrix_filtered)\n",
    "\n",
    "    keyword_tfidf = vectorizer.transform([keyword])\n",
    "    if svd:\n",
    "        keyword_tfidf = svd.transform(keyword_tfidf)\n",
    "\n",
    "    keyword_sim = cosine_similarity(keyword_tfidf, tfidf_matrix_filtered)\n",
    "    sim_scores = list(enumerate(keyword_sim[0]))\n",
    "    sim_scores = sorted(sim_scores, key=lambda x: x[1], reverse=True)\n",
    "    filtered_scores = [score for score in sim_scores if score[1] > 0.1]\n",
    "\n",
    "    top_indices = [i[0] for i in filtered_scores[:3]]\n",
    "    scores = [i[1] for i in filtered_scores[:3]]\n",
    "\n",
    "    # Round similarity percentages to the nearest integer\n",
    "    similarity_percentages = [f\"{round(score * 100)}%\" for score in scores]\n",
    "    \n",
    "    recommendations = pd.DataFrame({\n",
    "        'business_name': filtered_df['business_name'].iloc[top_indices].values,\n",
    "        'category_name': filtered_df['category_name'].iloc[top_indices].values,\n",
    "        'similarity': similarity_percentages,\n",
    "        'city_name': filtered_df['city_name'].iloc[top_indices].values,\n",
    "        'business_address': filtered_df['business_address'].iloc[top_indices].values,\n",
    "        'avg_rating': filtered_df['avg_rating'].iloc[top_indices].values,\n",
    "        'region': filtered_df['region'].iloc[top_indices].values,\n",
    "        'hours': filtered_df['hours'].iloc[top_indices].values,\n",
    "        'weighted_rating': filtered_df['weighted_rating'].iloc[top_indices].values\n",
    "    })\n",
    "\n",
    "    # Ordenar el DataFrame resultante por la columna 'weighted_rating' en orden descendente\n",
    "    recommendations = recommendations.sort_values(by='weighted_rating', ascending=False)\n",
    "\n",
    "    # Eliminar la columna 'weighted_rating' del resultado final \n",
    "    recommendations = recommendations.drop(columns=['weighted_rating'])\n",
    "    \n",
    "    return recommendations\n",
    "\n",
    "# Ejemplo de llamada a la función\n",
    "recommended = get_recommendations('Meat', city='Philadelphia', svd=TruncatedSVD(n_components=100))\n",
    "print(\"Recommended Restaurants:\")\n",
    "recommended"
   ]
  },
  {
   "cell_type": "markdown",
   "metadata": {},
   "source": [
    "Segunda versión: filtro híbrido añadiendo la opción de filtrar por aspecto en cuanto a sentimiento"
   ]
  },
  {
   "cell_type": "code",
   "execution_count": 35,
   "metadata": {},
   "outputs": [],
   "source": [
    "# Eliminamos las filas duplicadas excepto el id_user\n",
    "df_ml_4_1 = df_ml_4.drop_duplicates(subset=['id_business', 'business_name', 'city_name', 'business_address'])\n",
    "\n",
    "# Check for 'description' column existence and fill NaN with an empty string\n",
    "if 'description' in df_ml_4_1.columns:\n",
    "    df_ml_4['description'] = df_ml_4_1['description'].fillna('')\n",
    "else:\n",
    "    raise ValueError(\"The DataFrame does not contain a 'description' column.\")\n"
   ]
  },
  {
   "cell_type": "code",
   "execution_count": 43,
   "metadata": {},
   "outputs": [
    {
     "name": "stdout",
     "output_type": "stream",
     "text": [
      "Recommended Restaurants:\n"
     ]
    },
    {
     "data": {
      "text/html": [
       "<div>\n",
       "<style scoped>\n",
       "    .dataframe tbody tr th:only-of-type {\n",
       "        vertical-align: middle;\n",
       "    }\n",
       "\n",
       "    .dataframe tbody tr th {\n",
       "        vertical-align: top;\n",
       "    }\n",
       "\n",
       "    .dataframe thead th {\n",
       "        text-align: right;\n",
       "    }\n",
       "</style>\n",
       "<table border=\"1\" class=\"dataframe\">\n",
       "  <thead>\n",
       "    <tr style=\"text-align: right;\">\n",
       "      <th></th>\n",
       "      <th>business_name</th>\n",
       "      <th>category_name</th>\n",
       "      <th>similarity</th>\n",
       "      <th>city_name</th>\n",
       "      <th>business_address</th>\n",
       "      <th>avg_rating</th>\n",
       "      <th>region</th>\n",
       "      <th>hours</th>\n",
       "      <th>price_sentiment</th>\n",
       "    </tr>\n",
       "  </thead>\n",
       "  <tbody>\n",
       "    <tr>\n",
       "      <th>2</th>\n",
       "      <td>Sauce on the Side</td>\n",
       "      <td>Restaurants</td>\n",
       "      <td>22%</td>\n",
       "      <td>Indianapolis</td>\n",
       "      <td>130 S Pennsylvania St, Ste 2</td>\n",
       "      <td>4.456522</td>\n",
       "      <td>Global</td>\n",
       "      <td>{'Friday': '11:0-20:0', 'Monday': '0:0-0:0', '...</td>\n",
       "      <td>POSITIVE</td>\n",
       "    </tr>\n",
       "    <tr>\n",
       "      <th>0</th>\n",
       "      <td>N 7</td>\n",
       "      <td>Restaurants</td>\n",
       "      <td>25%</td>\n",
       "      <td>New Orleans</td>\n",
       "      <td>1117 Montegut St</td>\n",
       "      <td>3.842105</td>\n",
       "      <td>Global</td>\n",
       "      <td>{'Friday': '17:0-22:0', 'Monday': '17:0-21:0',...</td>\n",
       "      <td>POSITIVE</td>\n",
       "    </tr>\n",
       "    <tr>\n",
       "      <th>1</th>\n",
       "      <td>Chicken Out</td>\n",
       "      <td>Restaurants</td>\n",
       "      <td>22%</td>\n",
       "      <td>St. Louis</td>\n",
       "      <td>6197 Delmar Blvd</td>\n",
       "      <td>3.789474</td>\n",
       "      <td>Global</td>\n",
       "      <td>{'Friday': '11:0-21:0', 'Monday': '11:0-21:0',...</td>\n",
       "      <td>POSITIVE</td>\n",
       "    </tr>\n",
       "  </tbody>\n",
       "</table>\n",
       "</div>"
      ],
      "text/plain": [
       "       business_name category_name similarity     city_name  \\\n",
       "2  Sauce on the Side   Restaurants        22%  Indianapolis   \n",
       "0                N 7   Restaurants        25%   New Orleans   \n",
       "1        Chicken Out   Restaurants        22%     St. Louis   \n",
       "\n",
       "               business_address  avg_rating  region  \\\n",
       "2  130 S Pennsylvania St, Ste 2    4.456522  Global   \n",
       "0              1117 Montegut St    3.842105  Global   \n",
       "1              6197 Delmar Blvd    3.789474  Global   \n",
       "\n",
       "                                               hours price_sentiment  \n",
       "2  {'Friday': '11:0-20:0', 'Monday': '0:0-0:0', '...        POSITIVE  \n",
       "0  {'Friday': '17:0-22:0', 'Monday': '17:0-21:0',...        POSITIVE  \n",
       "1  {'Friday': '11:0-21:0', 'Monday': '11:0-21:0',...        POSITIVE  "
      ]
     },
     "execution_count": 43,
     "metadata": {},
     "output_type": "execute_result"
    }
   ],
   "source": [
    "# Initialize the TF-IDF vectorizer\n",
    "vectorizer = TfidfVectorizer(lowercase=True, stop_words='english')\n",
    "\n",
    "# Fit and transform the data\n",
    "tfidf_matrix = vectorizer.fit_transform(df_ml_4_1['description'])\n",
    "\n",
    "def get_recommendations(keyword, city=None, avg_rating=None, business_name=None, region=None, aspect=None, df=df_ml_4_1, vectorizer=vectorizer, svd=None):\n",
    "    filtered_df = df.copy()\n",
    "    if city:\n",
    "        filtered_df = filtered_df[filtered_df['city_name'] == city]\n",
    "    if avg_rating:\n",
    "        filtered_df = filtered_df[filtered_df['avg_rating'] >= avg_rating]\n",
    "    if business_name:\n",
    "        filtered_df = filtered_df[filtered_df['business_name'].str.contains(business_name, case=False)]\n",
    "    if region:\n",
    "        filtered_df = filtered_df[filtered_df['region'].str.contains(region, case=False)]\n",
    "    if aspect:\n",
    "        filtered_df = filtered_df[filtered_df[aspect] == 'POSITIVE']\n",
    "    \n",
    "    if filtered_df.empty:\n",
    "        return pd.DataFrame({'business_name': [], 'similarity': [], 'city_name': [], 'avg_rating': [], 'region': [], 'weighted_rating': []})\n",
    "    \n",
    "\n",
    "    tfidf_matrix_filtered = vectorizer.transform(filtered_df['description'])\n",
    "    \n",
    "    n_features = tfidf_matrix_filtered.shape[1]\n",
    "    n_components = min(100, n_features)\n",
    "    if svd:\n",
    "        svd.n_components = n_components\n",
    "        tfidf_matrix_filtered = svd.fit_transform(tfidf_matrix_filtered)\n",
    "    \n",
    "    keyword_tfidf = vectorizer.transform([keyword])\n",
    "    if svd:\n",
    "        keyword_tfidf = svd.transform(keyword_tfidf)\n",
    "    \n",
    "    keyword_sim = cosine_similarity(keyword_tfidf, tfidf_matrix_filtered)\n",
    "    sim_scores = list(enumerate(keyword_sim[0]))\n",
    "    sim_scores = sorted(sim_scores, key=lambda x: x[1], reverse=True)\n",
    "    filtered_scores = [score for score in sim_scores if score[1] > 0.1]\n",
    "    \n",
    "    top_indices = [i[0] for i in filtered_scores[:3]]\n",
    "    scores = [i[1] for i in filtered_scores[:3]]\n",
    "    similarity_percentages = [f\"{round(score * 100)}%\" for score in scores]\n",
    "    \n",
    "    recommendations = pd.DataFrame({\n",
    "        'business_name': filtered_df['business_name'].iloc[top_indices].values,\n",
    "        'category_name': filtered_df['category_name'].iloc[top_indices].values,\n",
    "        'similarity': similarity_percentages,\n",
    "        'city_name': filtered_df['city_name'].iloc[top_indices].values,\n",
    "        'business_address': filtered_df['business_address'].iloc[top_indices].values,\n",
    "        'avg_rating': filtered_df['avg_rating'].iloc[top_indices].values,\n",
    "        'region': filtered_df['region'].iloc[top_indices].values,\n",
    "        'hours': filtered_df['hours'].iloc[top_indices].values,\n",
    "        f'{aspect}': filtered_df[f'{aspect}'].iloc[top_indices].values,\n",
    "        'weighted_rating': filtered_df['weighted_rating'].iloc[top_indices].values  # Agregar la columna weighted_rating\n",
    "    })\n",
    "    \n",
    "    # Ordenar por weighted_rating de forma descendente\n",
    "    recommendations = recommendations.sort_values(by='weighted_rating', ascending=False)\n",
    "    \n",
    "    # Dropear la columna weighted_rating antes de mostrar\n",
    "    recommendations = recommendations.drop(columns=['weighted_rating'])\n",
    "                                                    \n",
    "    return recommendations\n",
    "\n",
    "# Ejemplo de llamada a la función con análisis de aspecto\n",
    "recommended = get_recommendations(\"rice\", aspect='price_sentiment')\n",
    "print(\"Recommended Restaurants:\")\n",
    "recommended"
   ]
  },
  {
   "cell_type": "code",
   "execution_count": 65,
   "metadata": {},
   "outputs": [
    {
     "data": {
      "text/html": [
       "<div>\n",
       "<style scoped>\n",
       "    .dataframe tbody tr th:only-of-type {\n",
       "        vertical-align: middle;\n",
       "    }\n",
       "\n",
       "    .dataframe tbody tr th {\n",
       "        vertical-align: top;\n",
       "    }\n",
       "\n",
       "    .dataframe thead th {\n",
       "        text-align: right;\n",
       "    }\n",
       "</style>\n",
       "<table border=\"1\" class=\"dataframe\">\n",
       "  <thead>\n",
       "    <tr style=\"text-align: right;\">\n",
       "      <th></th>\n",
       "      <th>id_business</th>\n",
       "      <th>business_name</th>\n",
       "      <th>category_name</th>\n",
       "      <th>city_name</th>\n",
       "      <th>business_address</th>\n",
       "      <th>region</th>\n",
       "      <th>description</th>\n",
       "      <th>avg_rating</th>\n",
       "      <th>weighted_rating</th>\n",
       "      <th>date</th>\n",
       "      <th>hours</th>\n",
       "      <th>service_sentiment</th>\n",
       "      <th>food_sentiment</th>\n",
       "      <th>price_sentiment</th>\n",
       "      <th>ambiance_sentiment</th>\n",
       "    </tr>\n",
       "  </thead>\n",
       "  <tbody>\n",
       "    <tr>\n",
       "      <th>0</th>\n",
       "      <td>10004</td>\n",
       "      <td>Chelsea Five Gastropub</td>\n",
       "      <td>Restaurant</td>\n",
       "      <td>Atlantic City</td>\n",
       "      <td>2831 Boardwalk</td>\n",
       "      <td>Global</td>\n",
       "      <td>Restaurant Tomato, Chicken, Garlic, Rice, Oliv...</td>\n",
       "      <td>4.4</td>\n",
       "      <td>7.883742</td>\n",
       "      <td>2021-04-07 22:12:35.821</td>\n",
       "      <td>{'Friday': '8AM–2PM', 'Monday': '8AM–2PM', 'Sa...</td>\n",
       "      <td>POSITIVE</td>\n",
       "      <td>POSITIVE</td>\n",
       "      <td>POSITIVE</td>\n",
       "      <td>POSITIVE</td>\n",
       "    </tr>\n",
       "  </tbody>\n",
       "</table>\n",
       "</div>"
      ],
      "text/plain": [
       "   id_business           business_name category_name         city_name  \\\n",
       "0        10004  Chelsea Five Gastropub    Restaurant     Atlantic City   \n",
       "\n",
       "  business_address  region                                        description  \\\n",
       "0   2831 Boardwalk  Global  Restaurant Tomato, Chicken, Garlic, Rice, Oliv...   \n",
       "\n",
       "   avg_rating  weighted_rating                    date  \\\n",
       "0         4.4         7.883742 2021-04-07 22:12:35.821   \n",
       "\n",
       "                                               hours service_sentiment  \\\n",
       "0  {'Friday': '8AM–2PM', 'Monday': '8AM–2PM', 'Sa...          POSITIVE   \n",
       "\n",
       "  food_sentiment price_sentiment ambiance_sentiment  \n",
       "0       POSITIVE        POSITIVE           POSITIVE  "
      ]
     },
     "execution_count": 65,
     "metadata": {},
     "output_type": "execute_result"
    }
   ],
   "source": [
    "df_ml_4_1.head(1)"
   ]
  },
  {
   "cell_type": "markdown",
   "metadata": {},
   "source": [
    "### Endpoint 2: Filtro de contenido en base a los restaurant que un usuario en particular reseñó"
   ]
  },
  {
   "cell_type": "markdown",
   "metadata": {},
   "source": [
    "### Consideraciones:\n",
    "* Dado que no se conoce la ciudad de residencia de cada usuario, se probará filtrando por defecto el dataframe por la ciudad con más reseñas, en este caso, ('Philadelphia'). Y se agregará la posibilidad de cambiar dicha ciudad.\n",
    "* Se evaluará el modelo de recomendación contra los que reseñó anteriormente.\n",
    "* El filtro de contenido se basa en la columna 'description'"
   ]
  },
  {
   "cell_type": "markdown",
   "metadata": {},
   "source": [
    "#### Explicación del sistema de recomendación"
   ]
  },
  {
   "cell_type": "markdown",
   "metadata": {},
   "source": [
    "Filtros aplicados:\n",
    "* Filtra los restaurantes segun avg_rating\n",
    "* Filtra los restaurantes según ciudad.\n",
    "\n",
    "Sistema de Recomendación Basado en Similitud Coseno\n",
    "\n",
    "* Filtrado de usuarios activos: Filtra a los 100 usuarios más activos del DataFrame df_ml_3_2.\n",
    "* División de datos: Divide los datos en conjuntos de entrenamiento (train_df) y prueba (test_df).\n",
    "* Vectorización de descripciones: Vectoriza las descripciones de las cuisine de los ítems del conjunto de entrenamiento utilizando TF-IDF.\n",
    "* Similitud coseno: Calcula la similitud coseno entre los restaurantes en el conjunto de entrenamiento.\n",
    "\n",
    "Recomendación:\n",
    "\n",
    "* Para cada usuario en el conjunto de prueba, obtiene los ítems (restaurantes) que el usuario ha visitado.\n",
    "* Calcula las similitudes entre los restaurantes visitados y todos los demás restaurantes en el conjunto de entrenamiento.\n",
    "* Filtra los restaurantes que el usuario ya ha visitado.\n",
    "* Ordena los restaurantes no visitados por el usuario basándose en la similitud y el business_rating."
   ]
  },
  {
   "cell_type": "code",
   "execution_count": 8,
   "metadata": {},
   "outputs": [],
   "source": [
    "# Encuentra la city_name que más se repite\n",
    "top_city = df_ml_3['city_name'].mode()[0]\n",
    "\n",
    "# Filtra el DataFrame por la city_name que más se repite\n",
    "df_ml_3_2 = df_ml_3[df_ml_3['city_name'] == top_city]"
   ]
  },
  {
   "cell_type": "code",
   "execution_count": 22,
   "metadata": {},
   "outputs": [
    {
     "name": "stdout",
     "output_type": "stream",
     "text": [
      "Tamaño del conjunto de entrenamiento: (4158, 12)\n",
      "Tamaño del conjunto de prueba: (1386, 12)\n",
      "Tamaño de la matriz de similitud: (4158, 4158)\n",
      "Recommended Restaurants for user VN3apynnuv00bFwNOnXqqg in Philadelphia with min rating 4:\n"
     ]
    },
    {
     "data": {
      "text/html": [
       "<div>\n",
       "<style scoped>\n",
       "    .dataframe tbody tr th:only-of-type {\n",
       "        vertical-align: middle;\n",
       "    }\n",
       "\n",
       "    .dataframe tbody tr th {\n",
       "        vertical-align: top;\n",
       "    }\n",
       "\n",
       "    .dataframe thead th {\n",
       "        text-align: right;\n",
       "    }\n",
       "</style>\n",
       "<table border=\"1\" class=\"dataframe\">\n",
       "  <thead>\n",
       "    <tr style=\"text-align: right;\">\n",
       "      <th></th>\n",
       "      <th>business_name</th>\n",
       "      <th>category_name</th>\n",
       "      <th>similarity</th>\n",
       "      <th>city_name</th>\n",
       "      <th>business_address</th>\n",
       "      <th>avg_rating</th>\n",
       "      <th>region</th>\n",
       "      <th>hours</th>\n",
       "    </tr>\n",
       "  </thead>\n",
       "  <tbody>\n",
       "    <tr>\n",
       "      <th>180</th>\n",
       "      <td>Parc</td>\n",
       "      <td>Restaurants</td>\n",
       "      <td>100%</td>\n",
       "      <td>Philadelphia</td>\n",
       "      <td>227 S 18th St</td>\n",
       "      <td>4.346847</td>\n",
       "      <td>Global</td>\n",
       "      <td>{'Friday': '11:0-0:0', 'Monday': '11:0-22:0', ...</td>\n",
       "    </tr>\n",
       "    <tr>\n",
       "      <th>51</th>\n",
       "      <td>Sampan</td>\n",
       "      <td>Restaurants</td>\n",
       "      <td>100%</td>\n",
       "      <td>Philadelphia</td>\n",
       "      <td>124 S 13th St</td>\n",
       "      <td>4.319149</td>\n",
       "      <td>Global</td>\n",
       "      <td>{'Friday': '16:0-0:0', 'Monday': '0:0-0:0', 'S...</td>\n",
       "    </tr>\n",
       "    <tr>\n",
       "      <th>8</th>\n",
       "      <td>Barbuzzo</td>\n",
       "      <td>Restaurants</td>\n",
       "      <td>100%</td>\n",
       "      <td>Philadelphia</td>\n",
       "      <td>110 S 13th St</td>\n",
       "      <td>4.082278</td>\n",
       "      <td>Global</td>\n",
       "      <td>{'Friday': '17:0-23:0', 'Monday': '17:0-22:0',...</td>\n",
       "    </tr>\n",
       "  </tbody>\n",
       "</table>\n",
       "</div>"
      ],
      "text/plain": [
       "    business_name category_name similarity     city_name business_address  \\\n",
       "180          Parc   Restaurants       100%  Philadelphia    227 S 18th St   \n",
       "51         Sampan   Restaurants       100%  Philadelphia    124 S 13th St   \n",
       "8        Barbuzzo   Restaurants       100%  Philadelphia    110 S 13th St   \n",
       "\n",
       "     avg_rating  region                                              hours  \n",
       "180    4.346847  Global  {'Friday': '11:0-0:0', 'Monday': '11:0-22:0', ...  \n",
       "51     4.319149  Global  {'Friday': '16:0-0:0', 'Monday': '0:0-0:0', 'S...  \n",
       "8      4.082278  Global  {'Friday': '17:0-23:0', 'Monday': '17:0-22:0',...  "
      ]
     },
     "execution_count": 22,
     "metadata": {},
     "output_type": "execute_result"
    }
   ],
   "source": [
    "# Definir la función de filtrado\n",
    "def filter_dataframe(df, city_name=None, custom_min_rating=None):\n",
    "    if city_name:\n",
    "        df = df[df['city_name'] == city_name]\n",
    "    if custom_min_rating:\n",
    "        df = df[df['avg_rating'] >= custom_min_rating]\n",
    "    return df\n",
    "\n",
    "# Filtrar el DataFrame original antes de continuar\n",
    "city_name = \"Philadelphia\"  # Puedes cambiar la ciudad según lo necesites\n",
    "custom_min_rating = 4  # Cambia este valor si deseas otro rating mínimo\n",
    "df_ml_3 = filter_dataframe(df_ml_3, city_name, custom_min_rating)\n",
    "\n",
    "# Filtrar un subconjunto de usuarios más activos\n",
    "active_users = df_ml_3['id_user'].value_counts().head(\n",
    "    100).index.tolist()  # Convertir a lista\n",
    "df_ml_3_2 = df_ml_3[df_ml_3['id_user'].isin(active_users)]\n",
    "\n",
    "# Dividir los datos en conjunto de entrenamiento y prueba\n",
    "train_df, test_df = train_test_split(\n",
    "    df_ml_3_2, test_size=0.25, random_state=42)\n",
    "\n",
    "# Verificar el tamaño de los conjuntos de datos\n",
    "print(f\"Tamaño del conjunto de entrenamiento: {train_df.shape}\")\n",
    "print(f\"Tamaño del conjunto de prueba: {test_df.shape}\")\n",
    "\n",
    "# Lidiar con valores nulos en la columna 'description'\n",
    "train_df['description'] = train_df['description'].fillna('')\n",
    "\n",
    "# Reindexar el DataFrame de entrenamiento para asegurar que los índices sean consecutivos\n",
    "train_df = train_df.reset_index(drop=True)\n",
    "\n",
    "# Vectorizar las descripciones de los ítems del conjunto de entrenamiento\n",
    "# Limitar el número de características\n",
    "vectorizer = TfidfVectorizer(max_features=10000)\n",
    "train_tfidf_matrix = vectorizer.fit_transform(train_df['description'])\n",
    "\n",
    "# Calcular la similitud de coseno para el conjunto de entrenamiento\n",
    "train_cosine_sim = cosine_similarity(train_tfidf_matrix, train_tfidf_matrix)\n",
    "\n",
    "# Verificar que la matriz de similitud tenga el tamaño adecuado\n",
    "print(f\"Tamaño de la matriz de similitud: {train_cosine_sim.shape}\")\n",
    "\n",
    "# Crear un índice rápido para búsqueda\n",
    "item_to_index = pd.Series(\n",
    "    train_df.index, index=train_df['id_business']).to_dict()\n",
    "\n",
    "def get_recommendations(id_user, train_df, test_df, cosine_sim, top_n=3):\n",
    "    user_interactions = test_df[test_df['id_user'] == id_user]\n",
    "    user_items = user_interactions['id_business'].values\n",
    "\n",
    "    if len(user_items) == 0:\n",
    "        return pd.DataFrame(columns=['business_name', 'category_name', 'similarity', 'city_name', 'business_address', 'avg_rating', 'region', 'hours'])\n",
    "\n",
    "    scores = {}\n",
    "    for item in user_items:\n",
    "        if item in train_df['id_business'].values:\n",
    "            item_idx = train_df[train_df['id_business'] == item].index[0]\n",
    "            if item_idx >= len(cosine_sim):\n",
    "                print(\n",
    "                    f\"Índice {item_idx} fuera de los límites de la matriz de similitud.\")\n",
    "                continue\n",
    "\n",
    "            sim_scores = cosine_sim[item_idx]\n",
    "            for idx, score in enumerate(sim_scores):\n",
    "                if idx >= len(train_df):\n",
    "                    print(\n",
    "                        f\"Índice {idx} fuera de los límites del DataFrame de entrenamiento.\")\n",
    "                    continue\n",
    "\n",
    "                restaurant_id = train_df.iloc[idx]['id_business']\n",
    "                if restaurant_id not in user_items:\n",
    "                    if restaurant_id not in scores:\n",
    "                        scores[restaurant_id] = score\n",
    "                    else:\n",
    "                        scores[restaurant_id] += score\n",
    "\n",
    "    if not scores:\n",
    "        print(f\"No se encontraron recomendaciones para el usuario {id_user}.\")\n",
    "        return pd.DataFrame(columns=['business_name', 'category_name', 'similarity', 'city_name', 'business_address', 'avg_rating', 'region', 'hours'])\n",
    "\n",
    "    sorted_scores = sorted(scores.items(), key=lambda x: x[1], reverse=True)\n",
    "    recommended_items = [item[0] for item in sorted_scores[:top_n]]\n",
    "    scores = [max(min(item[1] * 100, 100), 0)\n",
    "              for item in sorted_scores[:len(recommended_items)]]\n",
    "\n",
    "    recommendations = train_df[train_df['id_business'].isin(recommended_items)].copy()\n",
    "    recommendations.drop_duplicates(\n",
    "        subset=['business_name', 'business_address'], inplace=True)\n",
    "\n",
    "    scores = scores[:len(recommendations)]\n",
    "    recommendations['similarity'] = [f\"{score:.0f}%\" for score in scores]\n",
    "    recommendations.sort_values(\n",
    "        by='weighted_rating', ascending=False, inplace=True)\n",
    "\n",
    "    return recommendations[['business_name', 'category_name', 'similarity', 'city_name', 'business_address', 'avg_rating', 'region', 'hours']].head(top_n)\n",
    "\n",
    "# Ejemplo de uso: Seleccionar un id_user aleatorio y obtener recomendaciones\n",
    "random_user = random.choice(test_df['id_user'].unique())\n",
    "recommendations = get_recommendations(\n",
    "    random_user, train_df, test_df, train_cosine_sim)\n",
    "print(\n",
    "    f\"Recommended Restaurants for user {random_user} in {city_name} with min rating {custom_min_rating}:\")\n",
    "recommendations"
   ]
  },
  {
   "cell_type": "code",
   "execution_count": 57,
   "metadata": {},
   "outputs": [
    {
     "name": "stdout",
     "output_type": "stream",
     "text": [
      "y_test: [1, 1, 1, 1, 1, 1, 0, 0, 0, 1, 1, 1, 1, 1, 1, 1, 1, 1, 1, 1, 1, 1, 1, 1, 0, 0, 0, 1, 1, 1, 1, 1, 1, 1, 1, 1, 1, 1, 1, 1, 1, 1, 1, 1, 1, 1, 1, 1, 1, 1, 1, 1, 1, 1, 1, 1, 1, 1, 1, 1, 1, 1, 1, 1, 1, 1, 1, 1, 1, 0, 0, 0, 1, 1, 1, 1, 0, 0, 0, 1, 1, 1, 1, 1, 1, 1, 1, 0, 0, 0, 1, 1, 1, 1, 1, 0, 0, 0, 1, 1, 1, 1, 1, 1, 1, 1, 1, 0, 0, 0, 1, 1, 1, 1, 1, 1, 1, 1, 1, 1, 1, 1, 1, 1, 0, 0, 0, 1, 1, 1, 1, 1, 1, 1, 1, 1, 0, 0, 0, 1, 1, 1, 1, 1, 1, 1, 1, 1, 1, 1, 1, 1, 1, 1, 1, 1, 1, 1, 1, 1, 1, 1, 1, 0, 0, 0, 1, 1, 1, 1, 1, 1, 1, 1, 1, 0, 0, 0, 1, 1, 1, 1, 1, 1, 1, 1, 1, 1, 0, 0, 0, 1, 1, 1, 1, 1, 1, 1, 1, 1, 1, 1, 1, 1, 1, 0, 0, 0, 1, 1, 1, 1, 1, 1, 1, 1, 1, 1, 1, 1, 1, 1, 1, 1, 1, 1, 0, 0, 0, 1, 1, 1, 1, 1, 1, 1, 0, 0, 0, 1, 1, 1, 1, 1, 1, 1, 1, 1, 1, 1, 1, 1, 1, 1, 1, 1, 1, 1, 1, 1, 1, 0, 0, 0, 1, 1, 1, 1, 1, 1, 1, 0, 0, 0, 1, 1, 1, 1, 1, 1, 1, 1, 0, 0, 0, 1, 1, 1, 1, 1, 1, 1, 1, 0, 0, 0, 1, 1, 1, 1, 1, 1, 0, 0, 0, 1, 1, 1, 1, 1, 1, 1, 1, 0, 0, 0, 1, 1, 1, 1, 1, 1, 0, 0, 0, 1, 1, 1, 1, 1, 1, 1, 0, 0, 0, 1, 1, 1, 1, 1, 0, 0, 0, 1, 1, 1, 1, 1, 1, 1, 1, 0, 0, 0, 1, 1, 1, 1, 1, 1, 1, 1, 1, 0, 0, 0, 1, 1, 1, 1, 1, 1, 1, 0, 0, 0, 1, 1, 1, 1, 1, 1, 1, 1, 1, 1, 1, 1, 1, 1, 0, 0, 0, 1, 1, 1, 1, 1, 1, 1, 1, 1, 0, 0, 0, 1, 1, 1, 1, 1, 1, 1, 1, 1, 1, 0, 0, 0, 1, 1, 1, 1, 1, 0, 0, 0, 1, 1, 1, 1, 1, 1, 1, 1, 1, 1, 0, 0, 0, 1, 1, 1, 1, 1, 1, 1, 1, 1, 1, 1, 1, 1, 1, 1, 1, 1, 0, 0, 0, 1, 1, 1, 1, 1, 1, 1, 1, 1, 0, 0, 0, 1, 1, 1, 0, 0, 0, 1, 1, 1, 1, 0, 0, 0, 1, 1, 1, 1, 1, 1, 1, 0, 0, 0, 1, 1, 1, 1, 1, 1, 1, 1, 1, 1, 0, 0, 0, 1, 1, 1, 1, 0, 0, 0, 1, 1, 1, 1, 1, 1, 1, 0, 0, 0, 1, 1, 1, 1, 1, 1, 0, 0, 0, 1, 1, 1, 1, 1, 1, 1, 0, 0, 0, 1, 1, 1, 1, 1, 1, 1, 1, 0, 0, 0, 1, 1, 1, 1, 1, 1, 1, 1, 1, 0, 0, 0, 1, 1, 1, 1, 1, 1, 1, 1, 1, 1, 1, 0, 0, 0, 1, 1, 1, 1, 1, 1, 1, 1, 1, 1, 1, 1, 0, 0, 0, 1, 1, 1, 1, 1, 1, 1, 1, 0, 0, 0, 1, 1, 1, 1, 1, 1, 1, 0, 0, 0, 1, 1, 1, 1, 0, 0, 0, 1, 1, 1, 1, 1, 1, 1, 1, 1, 1, 1, 0, 0, 0, 1, 1, 1, 1, 1, 1, 1, 1, 1, 1, 1, 1, 1, 1, 1, 1, 1, 0, 0, 0, 1, 1, 1, 1, 1, 1, 1, 1, 1, 0, 0, 0, 1, 1, 1, 1, 1, 1, 1, 1, 1, 1, 1, 1, 0, 0, 0, 1, 1, 1, 1, 1, 0, 0, 0, 1, 1, 1, 1, 1, 1, 1, 1, 0, 0, 0, 1, 1, 1, 1, 1, 0, 0, 0, 1, 1, 1, 1, 1, 1, 1, 0, 0, 0, 1, 1, 1, 1, 1, 0, 0, 0, 1, 1, 1, 1, 0, 0, 0, 1, 1, 1, 0, 0, 0, 1, 1, 1, 1, 1, 1, 0, 0, 0, 1, 1, 1, 1, 1, 1, 0, 0, 0, 1, 1, 1, 1, 1, 1, 1, 1, 0, 0, 0, 1, 1, 1, 1, 1, 0, 0, 0, 1, 1, 1, 1, 1, 1, 1, 1, 1, 1, 1, 0, 0, 0, 1, 1, 1, 1, 1, 1, 1, 1, 1, 0, 0, 0, 1, 1, 1, 1, 1, 1, 1, 1, 0, 0, 0, 1, 1, 1, 1, 1, 0, 0, 0, 1, 1, 1, 1, 1, 1, 0, 0, 0, 1, 1, 1, 1, 1, 1, 1, 1, 1, 0, 0, 0, 1, 1, 1, 1, 1, 1, 1, 1, 1, 1, 1, 0, 0, 0, 1, 1, 1, 1, 0, 0, 0, 1, 1, 1, 1, 1, 1, 1, 1, 1, 1, 1, 1, 0, 0, 0, 1, 1, 1, 1, 1, 1, 1, 1, 1, 0, 0, 0, 1, 1, 1, 1, 1, 1, 0, 0, 0, 1, 1, 1, 1, 1, 1, 1, 1, 0, 0, 0, 1, 1, 1, 1, 1, 0, 0, 0, 1, 1, 1, 1, 1, 1, 1, 1, 1, 1, 1, 1, 0, 0, 0, 1, 1, 1, 1, 1, 1, 1, 1, 1, 1, 1, 0, 0, 0, 1, 1, 1, 1, 1, 1, 1, 0, 0, 0, 1, 1, 1, 0, 0, 0, 1, 1, 1, 1, 1, 0, 0, 0, 1, 1, 1, 1, 1, 1, 0, 0, 0, 1, 1, 1, 1, 1, 0, 0, 0, 1, 1, 1, 1, 0, 0, 0, 1, 1, 1, 1, 1, 1, 0, 0, 0, 1, 1, 1, 1, 1, 1, 1, 0, 0, 0, 1, 1, 1, 1, 0, 0, 0, 1, 1, 1, 0, 0, 0, 1, 1, 1, 1, 1, 1, 0, 0, 0, 1, 1, 0, 0, 0, 1, 1, 1, 1, 1, 0, 0, 0, 1, 1, 1, 1, 0, 0, 0, 1, 1, 1, 1, 0, 0, 0, 1, 1, 1, 1, 0, 0, 0, 1, 1, 1, 1, 1, 0, 0, 0, 1, 0, 0, 0, 1, 1, 1, 1, 1, 0, 0, 0, 1, 1, 1, 1, 0, 0, 0, 1, 1, 1, 1, 0, 0, 0]\n",
      "y_test_pred: [0, 0, 0, 0, 0, 0, 1, 1, 1, 0, 0, 0, 0, 0, 0, 0, 0, 0, 0, 0, 0, 0, 0, 0, 1, 1, 1, 0, 0, 0, 0, 0, 0, 0, 0, 0, 0, 0, 0, 0, 0, 0, 0, 0, 0, 0, 0, 0, 0, 0, 0, 0, 0, 0, 0, 0, 0, 0, 0, 0, 0, 0, 0, 0, 0, 0, 0, 0, 0, 1, 1, 1, 0, 0, 0, 0, 1, 1, 1, 0, 0, 0, 0, 0, 0, 0, 0, 1, 1, 1, 0, 0, 0, 0, 0, 1, 1, 1, 0, 0, 0, 0, 0, 0, 0, 0, 0, 1, 1, 1, 0, 0, 0, 0, 0, 0, 0, 0, 0, 0, 0, 0, 0, 0, 1, 1, 1, 0, 0, 0, 0, 0, 0, 0, 0, 0, 1, 1, 1, 0, 0, 0, 0, 0, 0, 0, 0, 0, 0, 0, 0, 0, 0, 0, 0, 0, 0, 0, 0, 0, 0, 0, 0, 1, 1, 1, 0, 0, 0, 0, 0, 0, 0, 0, 0, 1, 1, 1, 0, 0, 0, 0, 0, 0, 0, 0, 0, 0, 1, 1, 1, 0, 0, 0, 0, 0, 0, 0, 0, 0, 0, 0, 0, 0, 0, 1, 1, 1, 0, 0, 0, 0, 0, 0, 0, 0, 0, 0, 0, 0, 0, 0, 0, 0, 0, 0, 1, 1, 1, 0, 0, 0, 0, 0, 0, 0, 1, 1, 1, 0, 0, 0, 0, 0, 0, 0, 0, 0, 0, 0, 0, 0, 0, 0, 0, 0, 0, 0, 0, 0, 0, 1, 1, 1, 0, 0, 0, 0, 0, 0, 0, 1, 1, 1, 0, 0, 0, 0, 0, 0, 0, 0, 1, 1, 1, 0, 0, 0, 0, 0, 0, 0, 0, 1, 1, 1, 0, 0, 0, 0, 0, 0, 1, 1, 1, 0, 0, 0, 0, 0, 0, 0, 0, 1, 1, 1, 0, 0, 0, 0, 0, 0, 1, 1, 1, 0, 0, 0, 0, 0, 0, 0, 1, 1, 1, 0, 0, 0, 0, 0, 1, 1, 1, 0, 0, 0, 0, 0, 0, 0, 0, 1, 1, 1, 0, 0, 0, 0, 0, 0, 0, 0, 0, 1, 1, 1, 0, 0, 0, 0, 0, 0, 0, 1, 1, 1, 0, 0, 0, 0, 0, 0, 0, 0, 0, 0, 0, 0, 0, 0, 1, 1, 1, 0, 0, 0, 0, 0, 0, 0, 0, 0, 1, 1, 1, 0, 0, 0, 0, 0, 0, 0, 0, 0, 0, 1, 1, 1, 0, 0, 0, 0, 0, 1, 1, 1, 0, 0, 0, 0, 0, 0, 0, 0, 0, 0, 1, 1, 1, 0, 0, 0, 0, 0, 0, 0, 0, 0, 0, 0, 0, 0, 0, 0, 0, 0, 1, 1, 1, 0, 0, 0, 0, 0, 0, 0, 0, 0, 1, 1, 1, 0, 0, 0, 1, 1, 1, 0, 0, 0, 0, 1, 1, 1, 0, 0, 0, 0, 0, 0, 0, 1, 1, 1, 0, 0, 0, 0, 0, 0, 0, 0, 0, 0, 1, 1, 1, 0, 0, 0, 0, 1, 1, 1, 0, 0, 0, 0, 0, 0, 0, 1, 1, 1, 0, 0, 0, 0, 0, 0, 1, 1, 1, 0, 0, 0, 0, 0, 0, 0, 1, 1, 1, 0, 0, 0, 0, 0, 0, 0, 0, 1, 1, 1, 0, 0, 0, 0, 0, 0, 0, 0, 0, 1, 1, 1, 0, 0, 0, 0, 0, 0, 0, 0, 0, 0, 0, 1, 1, 1, 0, 0, 0, 0, 0, 0, 0, 0, 0, 0, 0, 0, 1, 1, 1, 0, 0, 0, 0, 0, 0, 0, 0, 1, 1, 1, 0, 0, 0, 0, 0, 0, 0, 1, 1, 1, 0, 0, 0, 0, 1, 1, 1, 0, 0, 0, 0, 0, 0, 0, 0, 0, 0, 0, 1, 1, 1, 0, 0, 0, 0, 0, 0, 0, 0, 0, 0, 0, 0, 0, 0, 0, 0, 0, 1, 1, 1, 0, 0, 0, 0, 0, 0, 0, 0, 0, 1, 1, 1, 0, 0, 0, 0, 0, 0, 0, 0, 0, 0, 0, 0, 1, 1, 1, 0, 0, 0, 0, 0, 1, 1, 1, 0, 0, 0, 0, 0, 0, 0, 0, 1, 1, 1, 0, 0, 0, 0, 0, 1, 1, 1, 0, 0, 0, 0, 0, 0, 0, 1, 1, 1, 0, 0, 0, 0, 0, 1, 1, 1, 0, 0, 0, 0, 1, 1, 1, 0, 0, 0, 1, 1, 1, 0, 0, 0, 0, 0, 0, 1, 1, 1, 0, 0, 0, 0, 0, 0, 1, 1, 1, 0, 0, 0, 0, 0, 0, 0, 0, 1, 1, 1, 0, 0, 0, 0, 0, 1, 1, 1, 0, 0, 0, 0, 0, 0, 0, 0, 0, 0, 0, 1, 1, 1, 0, 0, 0, 0, 0, 0, 0, 0, 0, 1, 1, 1, 0, 0, 0, 0, 0, 0, 0, 0, 1, 1, 1, 0, 0, 0, 0, 0, 1, 1, 1, 0, 0, 0, 0, 0, 0, 1, 1, 1, 0, 0, 0, 0, 0, 0, 0, 0, 0, 1, 1, 1, 0, 0, 0, 0, 0, 0, 0, 0, 0, 0, 0, 1, 1, 1, 0, 0, 0, 0, 1, 1, 1, 0, 0, 0, 0, 0, 0, 0, 0, 0, 0, 0, 0, 1, 1, 1, 0, 0, 0, 0, 0, 0, 0, 0, 0, 1, 1, 1, 0, 0, 0, 0, 0, 0, 1, 1, 1, 0, 0, 0, 0, 0, 0, 0, 0, 1, 1, 1, 0, 0, 0, 0, 0, 1, 1, 1, 0, 0, 0, 0, 0, 0, 0, 0, 0, 0, 0, 0, 1, 1, 1, 0, 0, 0, 0, 0, 0, 0, 0, 0, 0, 0, 1, 1, 1, 0, 0, 0, 0, 0, 0, 0, 1, 1, 1, 0, 0, 0, 1, 1, 1, 0, 0, 0, 0, 0, 1, 1, 1, 0, 0, 0, 0, 0, 0, 1, 1, 1, 0, 0, 0, 0, 0, 1, 1, 1, 0, 0, 0, 0, 1, 1, 1, 0, 0, 0, 0, 0, 0, 1, 1, 1, 0, 0, 0, 0, 0, 0, 0, 1, 1, 1, 0, 0, 0, 0, 1, 1, 1, 0, 0, 0, 1, 1, 1, 0, 0, 0, 0, 0, 0, 1, 1, 1, 0, 0, 1, 1, 1, 0, 0, 0, 0, 0, 1, 1, 1, 0, 0, 0, 0, 1, 1, 1, 0, 0, 0, 0, 1, 1, 1, 0, 0, 0, 0, 1, 1, 1, 0, 0, 0, 0, 0, 1, 1, 1, 0, 1, 1, 1, 0, 0, 0, 0, 0, 1, 1, 1, 0, 0, 0, 0, 1, 1, 1, 0, 0, 0, 0, 1, 1, 1]\n"
     ]
    },
    {
     "data": {
      "image/png": "[encoded data removed]",
      "text/plain": [
       "<Figure size 640x480 with 2 Axes>"
      ]
     },
     "metadata": {},
     "output_type": "display_data"
    },
    {
     "name": "stdout",
     "output_type": "stream",
     "text": [
      "              precision  recall  f1-score  support\n",
      "0                   0.0     0.0       0.0    300.0\n",
      "1                   0.0     0.0       0.0    807.0\n",
      "accuracy            0.0     0.0       0.0      0.0\n",
      "macro avg           0.0     0.0       0.0   1107.0\n",
      "weighted avg        0.0     0.0       0.0   1107.0\n"
     ]
    }
   ],
   "source": [
    "# Generar y_test y y_test_pred\n",
    "y_test = []\n",
    "y_test_pred = []\n",
    "\n",
    "for id_user in test_df['id_user'].unique():\n",
    "    recommendations = get_recommendations(id_user, train_df, test_df, train_cosine_sim)\n",
    "\n",
    "    relevant_items = test_df[test_df['id_user'] == id_user]['id_business'].values\n",
    "\n",
    "    # Si no hay recomendaciones, registrar un 0 en y_test para todos los ítems relevantes\n",
    "    if recommendations.empty:\n",
    "        for item in relevant_items:\n",
    "            y_test.append(1)\n",
    "            y_test_pred.append(0)\n",
    "        print(f\"No se encontraron recomendaciones para el usuario {id_user}.\")\n",
    "        continue\n",
    "\n",
    "    recommended_items = recommendations['id_business'].values\n",
    "\n",
    "    for item in relevant_items:\n",
    "        y_test.append(1)\n",
    "        if item in recommended_items:\n",
    "            y_test_pred.append(1)\n",
    "        else:\n",
    "            y_test_pred.append(0)\n",
    "\n",
    "    for item in recommended_items:\n",
    "        if item not in relevant_items:\n",
    "            y_test.append(0)\n",
    "            y_test_pred.append(1)\n",
    "\n",
    "# Verificar el contenido de las listas y_test y y_test_pred\n",
    "print(\"y_test:\", y_test)\n",
    "print(\"y_test_pred:\", y_test_pred)\n",
    "\n",
    "# Calcular el reporte de clasificación\n",
    "report = classification_report(y_test, y_test_pred, output_dict=True)\n",
    "\n",
    "# Calcular la matriz de confusión\n",
    "cm = confusion_matrix(y_test, y_test_pred)\n",
    "\n",
    "# Visualizar la matriz de confusión\n",
    "sns.heatmap(cm, annot=True, fmt=\"d\", cmap=\"Blues\")\n",
    "plt.xlabel('Predicted')\n",
    "plt.ylabel('Visited')\n",
    "plt.title('Confusion Matrix')\n",
    "plt.show()\n",
    "\n",
    "# Convertir el reporte a un DataFrame para una mejor visualización\n",
    "report_df = pd.DataFrame(report).transpose()\n",
    "print(report_df)"
   ]
  },
  {
   "cell_type": "code",
   "execution_count": 58,
   "metadata": {},
   "outputs": [
    {
     "name": "stdout",
     "output_type": "stream",
     "text": [
      "NDCG: 0.835001076426025\n"
     ]
    }
   ],
   "source": [
    "# Calcular NDCG\n",
    "ndcg = ndcg_score([y_test], [y_test_pred])\n",
    "print(f\"NDCG: {ndcg}\")"
   ]
  },
  {
   "cell_type": "markdown",
   "metadata": {},
   "source": [
    "### Observaciones:\n",
    "* La evaluación del modelo por la matriz de confusión y por recall, precision, f1-score y accuracy funciona muy mal. \n",
    "* La evaluación del modelo por NDCG funciona de forma adecuada.\n",
    "* Las primeras dos observaciones plantean lo siguiente:\n",
    "  * El dataset ha sido muy recortado. Aunque lo extraño que los lugares que sí visitó el usuario, tampoco estaría recomendando el sistema.\n",
    "  * No sirve evaluar el modelo entre lo que predice y las reseñas de cada usuario en los establecimientos. El sistema podria estar dando recomendaciones acertadas pero el usuario no los ha visitado, y el usuario visita lugares que no son adecuados para ellos. \n",
    "  * Del anterior, lo ideal sería implementar el sistema de recomendación en producción, y registrar las reseñas de los usuarios que efectivamente visitaron el establecimiento segun recomendación del sistema. Esto será un KPI y creo que es la mejor forma de medir el sistema.\n",
    "  * El filtro solo de contenido no es útil. Los usuarios quizás se guian por otras cuestiones, como las calificaciones de los negocios y las reseñas de otros usuarios.\n"
   ]
  },
  {
   "cell_type": "markdown",
   "metadata": {},
   "source": [
    "### Planteos:\n",
    "1. Aunque no se pueda evaluar, un sistema de recomendación por contenido en base a filtros que el usuario puede escoger, podria ser una buena alternativa para empezar.\n",
    "2. Aunque la evaluación del modelo por filtro de contenido no ha sido bien evaluado, podria implementarse en producción (etapas futuras de este proyecto) y registrar el feedback del usuario.\n",
    "3. Se puede agregar más filtros para que el usuario en cuestión tenga la posibilidad de elegir y probar cuál le funciona mejor.\n",
    "4. Se podría implementar análisis de sentimiento en las reseñas de cada usuario."
   ]
  },
  {
   "cell_type": "markdown",
   "metadata": {},
   "source": [
    "### Endpoint 3: Filtro colaborativo basado en la calificación 'user_rating'"
   ]
  },
  {
   "cell_type": "markdown",
   "metadata": {},
   "source": [
    "Filtros aplicados:\n",
    "* Filtra los restaurantes segun avg_rating\n",
    "* Filtra los restaurantes según ciudad.\n",
    "\n",
    "Para cada usuario en el conjunto de prueba:\n",
    "* Obtiene las valoraciones del usuario y encuentra usuarios similares.\n",
    "* Calcula la puntuación ponderada para cada restaurante basándose en las similitudes entre usuarios.\n",
    "* Selecciona los restaurantes con las mayores puntuaciones ponderadas y los ordena.\n",
    "* Devuelve un DataFrame con las recomendaciones y la columna similarity formateada en porcentajes."
   ]
  },
  {
   "cell_type": "code",
   "execution_count": 33,
   "metadata": {},
   "outputs": [
    {
     "name": "stdout",
     "output_type": "stream",
     "text": [
      "Recommended Restaurants for user 7qBgGzyf0FbHKC0jiI1J8A in Philadelphia with min rating 4:\n"
     ]
    },
    {
     "data": {
      "text/html": [
       "<div>\n",
       "<style scoped>\n",
       "    .dataframe tbody tr th:only-of-type {\n",
       "        vertical-align: middle;\n",
       "    }\n",
       "\n",
       "    .dataframe tbody tr th {\n",
       "        vertical-align: top;\n",
       "    }\n",
       "\n",
       "    .dataframe thead th {\n",
       "        text-align: right;\n",
       "    }\n",
       "</style>\n",
       "<table border=\"1\" class=\"dataframe\">\n",
       "  <thead>\n",
       "    <tr style=\"text-align: right;\">\n",
       "      <th></th>\n",
       "      <th>business_name</th>\n",
       "      <th>category_name</th>\n",
       "      <th>similarity</th>\n",
       "      <th>city_name</th>\n",
       "      <th>business_address</th>\n",
       "      <th>avg_rating</th>\n",
       "      <th>region</th>\n",
       "      <th>hours</th>\n",
       "    </tr>\n",
       "  </thead>\n",
       "  <tbody>\n",
       "    <tr>\n",
       "      <th>0</th>\n",
       "      <td>Parc</td>\n",
       "      <td>Restaurants</td>\n",
       "      <td>82.14%</td>\n",
       "      <td>Philadelphia</td>\n",
       "      <td>227 S 18th St</td>\n",
       "      <td>4.346847</td>\n",
       "      <td>Global</td>\n",
       "      <td>{'Friday': '11:0-0:0', 'Monday': '11:0-22:0', ...</td>\n",
       "    </tr>\n",
       "    <tr>\n",
       "      <th>1</th>\n",
       "      <td>Talula's Garden</td>\n",
       "      <td>Restaurants</td>\n",
       "      <td>69.67%</td>\n",
       "      <td>Philadelphia</td>\n",
       "      <td>210 W Washington Sq</td>\n",
       "      <td>4.448276</td>\n",
       "      <td>Global</td>\n",
       "      <td>{'Friday': '16:0-21:0', 'Monday': '0:0-0:0', '...</td>\n",
       "    </tr>\n",
       "    <tr>\n",
       "      <th>2</th>\n",
       "      <td>Oyster House</td>\n",
       "      <td>Restaurants</td>\n",
       "      <td>74.26%</td>\n",
       "      <td>Philadelphia</td>\n",
       "      <td>1516 Sansom St</td>\n",
       "      <td>4.375000</td>\n",
       "      <td>Global</td>\n",
       "      <td>{'Friday': '11:30-22:0', 'Monday': None, 'Satu...</td>\n",
       "    </tr>\n",
       "  </tbody>\n",
       "</table>\n",
       "</div>"
      ],
      "text/plain": [
       "     business_name category_name similarity     city_name  \\\n",
       "0             Parc   Restaurants     82.14%  Philadelphia   \n",
       "1  Talula's Garden   Restaurants     69.67%  Philadelphia   \n",
       "2     Oyster House   Restaurants     74.26%  Philadelphia   \n",
       "\n",
       "      business_address  avg_rating  region  \\\n",
       "0        227 S 18th St    4.346847  Global   \n",
       "1  210 W Washington Sq    4.448276  Global   \n",
       "2       1516 Sansom St    4.375000  Global   \n",
       "\n",
       "                                               hours  \n",
       "0  {'Friday': '11:0-0:0', 'Monday': '11:0-22:0', ...  \n",
       "1  {'Friday': '16:0-21:0', 'Monday': '0:0-0:0', '...  \n",
       "2  {'Friday': '11:30-22:0', 'Monday': None, 'Satu...  "
      ]
     },
     "execution_count": 33,
     "metadata": {},
     "output_type": "execute_result"
    }
   ],
   "source": [
    "# Función para realizar los filtros iniciales según la ciudad y calificación mínima\n",
    "def filter_df(df, city_name=None, min_rating=4):\n",
    "    filtered_df = df.copy()\n",
    "    if city_name:\n",
    "        filtered_df = filtered_df[filtered_df['city_name'] == city_name]\n",
    "    filtered_df = filtered_df[filtered_df['avg_rating'] >= min_rating]\n",
    "    return filtered_df\n",
    "\n",
    "# Aplicar los filtros dinámicamente\n",
    "city_name = \"Philadelphia\"  # Cambia este valor si deseas otra ciudad, None para no filtrarlo\n",
    "min_rating = 4  # Cambia este valor si deseas otro rating mínimo\n",
    "\n",
    "df_ml_3_3 = filter_df(df_ml_3, city_name=city_name, min_rating=min_rating)\n",
    "\n",
    "# Filtrar un subconjunto de usuarios más activos\n",
    "active_users = df_ml_3_3['id_user'].value_counts().head(100).index.tolist()  # Convertir a lista\n",
    "df_ml_3_3 = df_ml_3_3[df_ml_3_3['id_user'].isin(active_users)]\n",
    "\n",
    "# Filtrar solo las reseñas de 4 o 5 estrellas\n",
    "df_ml_3_3['avg_rating_binary'] = df_ml_3_3['avg_rating'].apply(lambda x: 1 if x >= 4 else 0)\n",
    "\n",
    "# Crear una matriz de usuario-restaurante basada en las reseñas de 4 o 5 estrellas\n",
    "user_restaurant_matrix = df_ml_3_3.pivot_table(index='id_user', columns='business_name', values='avg_rating_binary')\n",
    "user_restaurant_matrix.fillna(0, inplace=True)\n",
    "\n",
    "# Reducir la dimensionalidad con TruncatedSVD\n",
    "svd = TruncatedSVD(n_components=100)\n",
    "user_restaurant_matrix_reduced = svd.fit_transform(user_restaurant_matrix)\n",
    "\n",
    "# Calcular la similitud entre usuarios usando la matriz reducida\n",
    "user_similarity = cosine_similarity(user_restaurant_matrix_reduced)\n",
    "user_similarity_df = pd.DataFrame(user_similarity, index=user_restaurant_matrix.index, columns=user_restaurant_matrix.index)\n",
    "\n",
    "# Separar en conjunto de entrenamiento y prueba\n",
    "train_df, test_df = train_test_split(df_ml_3_3, test_size=0.2, random_state=42)\n",
    "\n",
    "# Crear la matriz usuario-restaurante para entrenamiento\n",
    "train_user_restaurant_matrix = train_df.pivot_table(index='id_user', columns='business_name', values='avg_rating_binary')\n",
    "train_user_restaurant_matrix.fillna(0, inplace=True)\n",
    "\n",
    "# Función de recomendaciones colaborativas\n",
    "def get_recommendations(id_user, n_recommendations=3, user_restaurant_matrix=train_user_restaurant_matrix, user_similarity_df=user_similarity_df, sample_df=train_df):\n",
    "    avg_ratings = user_restaurant_matrix.loc[id_user]\n",
    "    similar_users = user_similarity_df[id_user].sort_values(ascending=False)\n",
    "    weighted_ratings = user_restaurant_matrix.T.dot(similar_users)\n",
    "    \n",
    "    scaler = MinMaxScaler()\n",
    "    weighted_ratings = pd.Series(scaler.fit_transform(weighted_ratings.values.reshape(-1, 1)).flatten(), index=weighted_ratings.index)\n",
    "    \n",
    "    rated_restaurants = avg_ratings[avg_ratings == 1].index\n",
    "    weighted_ratings.drop(rated_restaurants, inplace=True)\n",
    "    \n",
    "    top_recommendations = weighted_ratings.sort_values(ascending=False).head(n_recommendations)    \n",
    "    # Crear el DataFrame de recomendaciones con el mismo índice que top_recommendations\n",
    "    recommendations = sample_df[sample_df['business_name'].isin(top_recommendations.index)].copy()\n",
    "    \n",
    "    # Emparejar y asignar las similitudes correctas\n",
    "    similarity_dict = top_recommendations.to_dict()\n",
    "    recommendations['similarity'] = recommendations['business_name'].map(similarity_dict)  \n",
    "    recommendations['similarity'] = recommendations['similarity'].apply(lambda x: \"{:.2f}%\".format(x * 100))\n",
    "\n",
    "    # Ordenar por weighted_rating en orden descendente\n",
    "    recommendations.sort_values(by='weighted_rating', ascending=False, inplace=True)\n",
    "    # Eliminar duplicados basados en 'business_name' y 'business_address'\n",
    "    recommendations.drop_duplicates(subset=['business_name', 'business_address'], inplace=True)\n",
    "    recommendations.reset_index(drop=True, inplace=True)  # Ajustar los índices después del drop duplicates\n",
    "        \n",
    "    # Seleccionar y devolver solo las columnas especificadas en el orden solicitado, omitiendo 'weighted_rating'\n",
    "    return recommendations[['business_name', 'category_name', 'similarity', 'city_name', 'business_address', 'avg_rating', 'region', 'hours']].head(n_recommendations)\n",
    "\n",
    "# Seleccionar un id_user aleatorio del DataFrame de entrenamiento\n",
    "random_user = random.choice(train_df['id_user'].unique())\n",
    "\n",
    "# Obtener recomendaciones para el usuario aleatorio\n",
    "recommendations = get_recommendations(random_user, n_recommendations=3)\n",
    "\n",
    "# Mostrar las tres primeras recomendaciones\n",
    "print(f\"Recommended Restaurants for user {random_user} in {city_name} with min rating {min_rating}:\")\n",
    "recommendations"
   ]
  },
  {
   "cell_type": "code",
   "execution_count": 32,
   "metadata": {},
   "outputs": [
    {
     "name": "stdout",
     "output_type": "stream",
     "text": [
      "Recommended Restaurants for user OExmdhEdcKHQQqXrv6ftTg in Philadelphia with min rating 4:\n"
     ]
    },
    {
     "data": {
      "text/html": [
       "<div>\n",
       "<style scoped>\n",
       "    .dataframe tbody tr th:only-of-type {\n",
       "        vertical-align: middle;\n",
       "    }\n",
       "\n",
       "    .dataframe tbody tr th {\n",
       "        vertical-align: top;\n",
       "    }\n",
       "\n",
       "    .dataframe thead th {\n",
       "        text-align: right;\n",
       "    }\n",
       "</style>\n",
       "<table border=\"1\" class=\"dataframe\">\n",
       "  <thead>\n",
       "    <tr style=\"text-align: right;\">\n",
       "      <th></th>\n",
       "      <th>business_name</th>\n",
       "      <th>category_name</th>\n",
       "      <th>similarity</th>\n",
       "      <th>city_name</th>\n",
       "      <th>business_address</th>\n",
       "      <th>avg_rating</th>\n",
       "      <th>region</th>\n",
       "      <th>hours</th>\n",
       "    </tr>\n",
       "  </thead>\n",
       "  <tbody>\n",
       "    <tr>\n",
       "      <th>0</th>\n",
       "      <td>Reading Terminal Market</td>\n",
       "      <td>Restaurants</td>\n",
       "      <td>81.62%</td>\n",
       "      <td>Philadelphia</td>\n",
       "      <td>51 N 12th St</td>\n",
       "      <td>4.788321</td>\n",
       "      <td>Global</td>\n",
       "      <td>{'Friday': '8:0-18:0', 'Monday': '8:0-18:0', '...</td>\n",
       "    </tr>\n",
       "    <tr>\n",
       "      <th>1</th>\n",
       "      <td>Barbuzzo</td>\n",
       "      <td>Restaurants</td>\n",
       "      <td>100.00%</td>\n",
       "      <td>Philadelphia</td>\n",
       "      <td>110 S 13th St</td>\n",
       "      <td>4.082278</td>\n",
       "      <td>Global</td>\n",
       "      <td>{'Friday': '17:0-23:0', 'Monday': '17:0-22:0',...</td>\n",
       "    </tr>\n",
       "    <tr>\n",
       "      <th>2</th>\n",
       "      <td>Oyster House</td>\n",
       "      <td>Restaurants</td>\n",
       "      <td>72.82%</td>\n",
       "      <td>Philadelphia</td>\n",
       "      <td>1516 Sansom St</td>\n",
       "      <td>4.375000</td>\n",
       "      <td>Global</td>\n",
       "      <td>{'Friday': '11:30-22:0', 'Monday': None, 'Satu...</td>\n",
       "    </tr>\n",
       "  </tbody>\n",
       "</table>\n",
       "</div>"
      ],
      "text/plain": [
       "             business_name category_name similarity     city_name  \\\n",
       "0  Reading Terminal Market   Restaurants     81.62%  Philadelphia   \n",
       "1                 Barbuzzo   Restaurants    100.00%  Philadelphia   \n",
       "2             Oyster House   Restaurants     72.82%  Philadelphia   \n",
       "\n",
       "  business_address  avg_rating  region  \\\n",
       "0     51 N 12th St    4.788321  Global   \n",
       "1    110 S 13th St    4.082278  Global   \n",
       "2   1516 Sansom St    4.375000  Global   \n",
       "\n",
       "                                               hours  \n",
       "0  {'Friday': '8:0-18:0', 'Monday': '8:0-18:0', '...  \n",
       "1  {'Friday': '17:0-23:0', 'Monday': '17:0-22:0',...  \n",
       "2  {'Friday': '11:30-22:0', 'Monday': None, 'Satu...  "
      ]
     },
     "execution_count": 32,
     "metadata": {},
     "output_type": "execute_result"
    }
   ],
   "source": [
    "# Encuentra la city_name que más se repite\n",
    "top_city = df_ml_3['city_name'].mode()[0]\n",
    "\n",
    "# Filtra el DataFrame por la city_name que más se repite\n",
    "df_ml_3_3 = df_ml_3[df_ml_3['city_name'] == top_city]\n",
    "\n",
    "# Filtrar un subconjunto de usuarios más activos\n",
    "active_users = df_ml_3_3['id_user'].value_counts().head(100).index.tolist()  # Convertir a lista\n",
    "df_ml_3_3 = df_ml_3_3[df_ml_3_3['id_user'].isin(active_users)]\n",
    "\n",
    "# Filtrar solo las reseñas de 4 o 5 estrellas\n",
    "df_ml_3_3['avg_rating_binary'] = df_ml_3_3['avg_rating'].apply(lambda x: 1 if x >= 4 else 0)\n",
    "\n",
    "# Crear una matriz de usuario-restaurante basada en las reseñas de 4 o 5 estrellas\n",
    "user_restaurant_matrix = df_ml_3_3.pivot_table(index='id_user', columns='business_name', values='avg_rating_binary')\n",
    "user_restaurant_matrix.fillna(0, inplace=True)\n",
    "\n",
    "# Reducir la dimensionalidad con TruncatedSVD\n",
    "svd = TruncatedSVD(n_components=100)\n",
    "user_restaurant_matrix_reduced = svd.fit_transform(user_restaurant_matrix)\n",
    "\n",
    "# Calcular la similitud entre usuarios usando la matriz reducida\n",
    "user_similarity = cosine_similarity(user_restaurant_matrix_reduced)\n",
    "user_similarity_df = pd.DataFrame(user_similarity, index=user_restaurant_matrix.index, columns=user_restaurant_matrix.index)\n",
    "\n",
    "# Separar en conjunto de entrenamiento y prueba\n",
    "train_df, test_df = train_test_split(df_ml_3_3, test_size=0.2, random_state=42)\n",
    "\n",
    "# Crear la matriz usuario-restaurante para entrenamiento\n",
    "train_user_restaurant_matrix = train_df.pivot_table(index='id_user', columns='business_name', values='avg_rating_binary')\n",
    "train_user_restaurant_matrix.fillna(0, inplace=True)\n",
    "\n",
    "# Función de recomendaciones colaborativas\n",
    "def get_recommendations(id_user, n_recommendations=3, user_restaurant_matrix=train_user_restaurant_matrix, user_similarity_df=user_similarity_df, sample_df=train_df, city_name=None, min_rating=4):\n",
    "    if city_name:\n",
    "        sample_df = sample_df[sample_df['city_name'] == city_name]\n",
    "    \n",
    "    sample_df = sample_df[sample_df['avg_rating'] >= min_rating]\n",
    "\n",
    "    avg_ratings = user_restaurant_matrix.loc[id_user]\n",
    "    similar_users = user_similarity_df[id_user].sort_values(ascending=False)\n",
    "    weighted_ratings = user_restaurant_matrix.T.dot(similar_users)\n",
    "    \n",
    "    scaler = MinMaxScaler()\n",
    "    weighted_ratings = pd.Series(scaler.fit_transform(weighted_ratings.values.reshape(-1, 1)).flatten(), index=weighted_ratings.index)\n",
    "    \n",
    "    rated_restaurants = avg_ratings[avg_ratings == 1].index\n",
    "    weighted_ratings.drop(rated_restaurants, inplace=True)\n",
    "    \n",
    "    top_recommendations = weighted_ratings.sort_values(ascending=False).head(n_recommendations)    \n",
    "    # Crear el DataFrame de recomendaciones con el mismo índice que top_recommendations\n",
    "    recommendations = sample_df[sample_df['business_name'].isin(top_recommendations.index)].copy()\n",
    "\n",
    "    # Emparejar y asignar las similitudes correctas\n",
    "    similarity_dict = top_recommendations.to_dict()\n",
    "    recommendations['similarity'] = recommendations['business_name'].map(similarity_dict)  \n",
    "    recommendations['similarity'] = recommendations['similarity'].apply(lambda x: \"{:.2f}%\".format(x * 100))\n",
    "\n",
    "    # Ordenar por weighted_rating en orden descendente\n",
    "    recommendations.sort_values(by='weighted_rating', ascending=False, inplace=True)\n",
    "    # Eliminar duplicados basados en 'business_name' y 'business_address'\n",
    "    recommendations.drop_duplicates(subset=['business_name', 'business_address'], inplace=True)\n",
    "    recommendations.reset_index(drop=True, inplace=True)  # Ajustar los índices después del drop duplicates\n",
    "        \n",
    "    # Seleccionar y devolver solo las columnas especificadas en el orden solicitado, omitiendo 'weighted_rating'\n",
    "    return recommendations[['business_name', 'category_name', 'similarity', 'city_name', 'business_address', 'avg_rating', 'region', 'hours']].head(n_recommendations)\n",
    "\n",
    "# Seleccionar un id_user aleatorio del DataFrame de entrenamiento\n",
    "random_user = random.choice(train_df['id_user'].unique())\n",
    "\n",
    "# Obtener recomendaciones para el usuario aleatorio con ciudad y rating mínimo personalizados\n",
    "city_name = \"Philadelphia\"  # Cambia este valor si deseas otra ciudad\n",
    "min_rating = 4  # Cambia este valor si deseas otro rating mínimo, el valor por defecto es 4\n",
    "\n",
    "recommendations = get_recommendations(random_user, n_recommendations=3, city_name=city_name, min_rating=min_rating)\n",
    "\n",
    "# Mostrar las tres primeras recomendaciones\n",
    "print(f\"Recommended Restaurants for user {random_user} in {city_name} with min rating {min_rating}:\")\n",
    "recommendations"
   ]
  },
  {
   "cell_type": "code",
   "execution_count": 60,
   "metadata": {},
   "outputs": [
    {
     "data": {
      "image/png": "[encoded data removed]",
      "text/plain": [
       "<Figure size 1200x800 with 2 Axes>"
      ]
     },
     "metadata": {},
     "output_type": "display_data"
    },
    {
     "name": "stdout",
     "output_type": "stream",
     "text": [
      "Classification Report:\n",
      "                         precision    recall  f1-score   support\n",
      "\n",
      "    American Restaurant       1.00      0.53      0.69        36\n",
      "     Italian Restaurant       1.00      0.39      0.57        38\n",
      "    Japanese Restaurant       1.00      0.53      0.69        32\n",
      "       Asian Restaurant       1.00      0.31      0.48        16\n",
      "     Chinese Restaurant       1.00      0.45      0.62        11\n",
      "      French Restaurant       1.00      0.05      0.09        21\n",
      "  Vegetarian Restaurant       1.00      0.44      0.61        16\n",
      "        Pizza Resturant       1.00      0.23      0.38        13\n",
      "     Mexican Restaurant       0.00      0.00      0.00        11\n",
      "Asian Fusion Restaurant       1.00      0.14      0.24        22\n",
      "        Not Recommended       0.00      0.00      0.00         0\n",
      "\n",
      "               accuracy                           0.35       216\n",
      "              macro avg       0.82      0.28      0.40       216\n",
      "           weighted avg       0.95      0.35      0.49       216\n",
      "\n",
      "Accuracy: 0.3472222222222222\n",
      "NDCG Score: 1.0\n"
     ]
    },
    {
     "name": "stderr",
     "output_type": "stream",
     "text": [
      "c:\\Users\\Josue\\OneDrive\\Data_Scientist\\Henry\\Bootcamp\\10. PF\\venv\\Lib\\site-packages\\sklearn\\metrics\\_classification.py:1565: UndefinedMetricWarning: Precision is ill-defined and being set to 0.0 in labels with no predicted samples. Use `zero_division` parameter to control this behavior.\n",
      "  _warn_prf(average, modifier, f\"{metric.capitalize()} is\", len(result))\n",
      "c:\\Users\\Josue\\OneDrive\\Data_Scientist\\Henry\\Bootcamp\\10. PF\\venv\\Lib\\site-packages\\sklearn\\metrics\\_classification.py:1565: UndefinedMetricWarning: Recall is ill-defined and being set to 0.0 in labels with no true samples. Use `zero_division` parameter to control this behavior.\n",
      "  _warn_prf(average, modifier, f\"{metric.capitalize()} is\", len(result))\n",
      "c:\\Users\\Josue\\OneDrive\\Data_Scientist\\Henry\\Bootcamp\\10. PF\\venv\\Lib\\site-packages\\sklearn\\metrics\\_classification.py:1565: UndefinedMetricWarning: Precision is ill-defined and being set to 0.0 in labels with no predicted samples. Use `zero_division` parameter to control this behavior.\n",
      "  _warn_prf(average, modifier, f\"{metric.capitalize()} is\", len(result))\n",
      "c:\\Users\\Josue\\OneDrive\\Data_Scientist\\Henry\\Bootcamp\\10. PF\\venv\\Lib\\site-packages\\sklearn\\metrics\\_classification.py:1565: UndefinedMetricWarning: Recall is ill-defined and being set to 0.0 in labels with no true samples. Use `zero_division` parameter to control this behavior.\n",
      "  _warn_prf(average, modifier, f\"{metric.capitalize()} is\", len(result))\n",
      "c:\\Users\\Josue\\OneDrive\\Data_Scientist\\Henry\\Bootcamp\\10. PF\\venv\\Lib\\site-packages\\sklearn\\metrics\\_classification.py:1565: UndefinedMetricWarning: Precision is ill-defined and being set to 0.0 in labels with no predicted samples. Use `zero_division` parameter to control this behavior.\n",
      "  _warn_prf(average, modifier, f\"{metric.capitalize()} is\", len(result))\n",
      "c:\\Users\\Josue\\OneDrive\\Data_Scientist\\Henry\\Bootcamp\\10. PF\\venv\\Lib\\site-packages\\sklearn\\metrics\\_classification.py:1565: UndefinedMetricWarning: Recall is ill-defined and being set to 0.0 in labels with no true samples. Use `zero_division` parameter to control this behavior.\n",
      "  _warn_prf(average, modifier, f\"{metric.capitalize()} is\", len(result))\n"
     ]
    }
   ],
   "source": [
    "# Evaluar el modelo con el conjunto de prueba considerando los 10 primeros restaurantes\n",
    "y_true = []\n",
    "y_pred = []\n",
    "top_10_restaurants = df_ml_3_3['business_name'].value_counts().index[:10]  # Seleccionar los 10 restaurantes más comunes\n",
    "\n",
    "for id_user in test_df['id_user'].unique():\n",
    "    actual_restaurants = test_df[test_df['id_user'] == id_user]['business_name'].values[:10]  # Considerar los 10 primeros restaurantes\n",
    "    recommendations = get_recommendations(id_user, user_restaurant_matrix=train_user_restaurant_matrix, user_similarity_df=user_similarity_df)\n",
    "    recommended_restaurants = recommendations['business_name'].values\n",
    "    \n",
    "    # Evaluación\n",
    "    for restaurant in actual_restaurants:\n",
    "        if restaurant in top_10_restaurants:  # Considerar solo los 10 restaurantes más comunes\n",
    "            y_true.append(restaurant)\n",
    "            if restaurant in recommended_restaurants:\n",
    "                y_pred.append(restaurant)\n",
    "            else:\n",
    "                y_pred.append(\"Not Recommended\")\n",
    "\n",
    "# Calcular la matriz de confusión solo para los 10 restaurantes más comunes\n",
    "cm = confusion_matrix(y_true, y_pred, labels=list(top_10_restaurants) + [\"Not Recommended\"])\n",
    "\n",
    "# Crear un mapa de calor para la matriz de confusión\n",
    "plt.figure(figsize=(12, 8))\n",
    "sns.heatmap(cm, annot=True, fmt='d', cmap='Blues', xticklabels=list(top_10_restaurants) + [\"Not Recommended\"], yticklabels=list(top_10_restaurants) + [\"Not Recommended\"])\n",
    "plt.xlabel('Predicted')\n",
    "plt.ylabel('Visited')\n",
    "plt.title('Confusion Matrix for Top 10 Restaurants')\n",
    "plt.show()\n",
    "\n",
    "# Calcular y mostrar el reporte de clasificación\n",
    "print(\"Classification Report:\")\n",
    "print(classification_report(y_true, y_pred, labels=list(top_10_restaurants) + [\"Not Recommended\"]))\n",
    "\n",
    "# Calcular y mostrar la precisión del modelo\n",
    "accuracy = accuracy_score(y_true, y_pred)\n",
    "print(\"Accuracy:\", accuracy)\n",
    "\n",
    "# Calcular la métrica NDCG\n",
    "# Generar una lista binaria para y_true\n",
    "y_true_binary = [1 if restaurant in y_true else 0 for restaurant in recommended_restaurants]\n",
    "# Calcular el NDCG\n",
    "ndcg = ndcg_score([y_true_binary], [list(recommendations['similarity'].str.rstrip('%').astype('float') / 100)])\n",
    "print(\"NDCG Score:\", ndcg)"
   ]
  },
  {
   "cell_type": "markdown",
   "metadata": {},
   "source": [
    "Consideraciones:\n",
    "1. Revisar los endpoints y checkarlos\n",
    "2. Ver de implmenetar un filtro combinando user_rating y user_business\n",
    "3. implementar el ultimo con calificaciones de 5 estrellas, ver si puedo aplicarle un filtro combinando el del rating o el de contenido"
   ]
  },
  {
   "cell_type": "markdown",
   "metadata": {},
   "source": [
    "### Endpoint 4: Filtro híbrido colaborativo basado en la calificación 'user_rating' y análisis por aspecto"
   ]
  },
  {
   "cell_type": "markdown",
   "metadata": {},
   "source": [
    "Filtros aplicados:\n",
    "* Filtra los restaurantes segun avg_rating\n",
    "* Filtra los restaurantes según ciudad.\n",
    "\n",
    "Para cada usuario en el conjunto de prueba:\n",
    "* Obtiene las valoraciones del usuario y encuentra usuarios similares.\n",
    "* Calcula la puntuación ponderada para cada restaurante basándose en las similitudes entre usuarios.\n",
    "* Selecciona los restaurantes con las mayores puntuaciones ponderadas y los ordena.\n",
    "* Devuelve un DataFrame con las recomendaciones y la columna similarity formateada en porcentajes."
   ]
  },
  {
   "cell_type": "code",
   "execution_count": 19,
   "metadata": {},
   "outputs": [
    {
     "ename": "KeyError",
     "evalue": "'aspect'",
     "output_type": "error",
     "traceback": [
      "\u001b[1;31m---------------------------------------------------------------------------\u001b[0m",
      "\u001b[1;31mKeyError\u001b[0m                                  Traceback (most recent call last)",
      "File \u001b[1;32mc:\\Users\\Josue\\OneDrive\\Data_Scientist\\Henry\\Bootcamp\\10. PF\\venv\\Lib\\site-packages\\pandas\\core\\indexes\\base.py:3805\u001b[0m, in \u001b[0;36mIndex.get_loc\u001b[1;34m(self, key)\u001b[0m\n\u001b[0;32m   3804\u001b[0m \u001b[38;5;28;01mtry\u001b[39;00m:\n\u001b[1;32m-> 3805\u001b[0m     \u001b[38;5;28;01mreturn\u001b[39;00m \u001b[38;5;28;43mself\u001b[39;49m\u001b[38;5;241;43m.\u001b[39;49m\u001b[43m_engine\u001b[49m\u001b[38;5;241;43m.\u001b[39;49m\u001b[43mget_loc\u001b[49m\u001b[43m(\u001b[49m\u001b[43mcasted_key\u001b[49m\u001b[43m)\u001b[49m\n\u001b[0;32m   3806\u001b[0m \u001b[38;5;28;01mexcept\u001b[39;00m \u001b[38;5;167;01mKeyError\u001b[39;00m \u001b[38;5;28;01mas\u001b[39;00m err:\n",
      "File \u001b[1;32mindex.pyx:167\u001b[0m, in \u001b[0;36mpandas._libs.index.IndexEngine.get_loc\u001b[1;34m()\u001b[0m\n",
      "File \u001b[1;32mindex.pyx:196\u001b[0m, in \u001b[0;36mpandas._libs.index.IndexEngine.get_loc\u001b[1;34m()\u001b[0m\n",
      "File \u001b[1;32mpandas\\\\_libs\\\\hashtable_class_helper.pxi:7081\u001b[0m, in \u001b[0;36mpandas._libs.hashtable.PyObjectHashTable.get_item\u001b[1;34m()\u001b[0m\n",
      "File \u001b[1;32mpandas\\\\_libs\\\\hashtable_class_helper.pxi:7089\u001b[0m, in \u001b[0;36mpandas._libs.hashtable.PyObjectHashTable.get_item\u001b[1;34m()\u001b[0m\n",
      "\u001b[1;31mKeyError\u001b[0m: 'aspect'",
      "\nThe above exception was the direct cause of the following exception:\n",
      "\u001b[1;31mKeyError\u001b[0m                                  Traceback (most recent call last)",
      "Cell \u001b[1;32mIn[19], line 16\u001b[0m\n\u001b[0;32m     13\u001b[0m min_rating \u001b[38;5;241m=\u001b[39m \u001b[38;5;241m4\u001b[39m  \u001b[38;5;66;03m# Cambia este valor si deseas otro rating mínimo\u001b[39;00m\n\u001b[0;32m     14\u001b[0m aspect \u001b[38;5;241m=\u001b[39m \u001b[38;5;124m\"\u001b[39m\u001b[38;5;124mfood\u001b[39m\u001b[38;5;124m\"\u001b[39m  \u001b[38;5;66;03m# Cambia este valor para especificar el aspecto que deseas priorizar\u001b[39;00m\n\u001b[1;32m---> 16\u001b[0m df_ml_3_3 \u001b[38;5;241m=\u001b[39m \u001b[43mfilter_df\u001b[49m\u001b[43m(\u001b[49m\u001b[43mdf_ml_3\u001b[49m\u001b[43m,\u001b[49m\u001b[43m \u001b[49m\u001b[43mcity_name\u001b[49m\u001b[38;5;241;43m=\u001b[39;49m\u001b[43mcity_name\u001b[49m\u001b[43m,\u001b[49m\u001b[43m \u001b[49m\u001b[43mmin_rating\u001b[49m\u001b[38;5;241;43m=\u001b[39;49m\u001b[43mmin_rating\u001b[49m\u001b[43m,\u001b[49m\u001b[43m \u001b[49m\u001b[43maspect\u001b[49m\u001b[38;5;241;43m=\u001b[39;49m\u001b[43maspect\u001b[49m\u001b[43m)\u001b[49m  \u001b[38;5;66;03m# Agregué el parámetro 'aspect'\u001b[39;00m\n\u001b[0;32m     18\u001b[0m \u001b[38;5;66;03m# Filtrar un subconjunto de usuarios más activos\u001b[39;00m\n\u001b[0;32m     19\u001b[0m active_users \u001b[38;5;241m=\u001b[39m df_ml_3_3[\u001b[38;5;124m'\u001b[39m\u001b[38;5;124mid_user\u001b[39m\u001b[38;5;124m'\u001b[39m]\u001b[38;5;241m.\u001b[39mvalue_counts()\u001b[38;5;241m.\u001b[39mhead(\u001b[38;5;241m100\u001b[39m)\u001b[38;5;241m.\u001b[39mindex\u001b[38;5;241m.\u001b[39mtolist()  \u001b[38;5;66;03m# Convertir a lista\u001b[39;00m\n",
      "Cell \u001b[1;32mIn[19], line 8\u001b[0m, in \u001b[0;36mfilter_df\u001b[1;34m(df, city_name, min_rating, aspect)\u001b[0m\n\u001b[0;32m      6\u001b[0m filtered_df \u001b[38;5;241m=\u001b[39m filtered_df[filtered_df[\u001b[38;5;124m'\u001b[39m\u001b[38;5;124mavg_rating\u001b[39m\u001b[38;5;124m'\u001b[39m] \u001b[38;5;241m>\u001b[39m\u001b[38;5;241m=\u001b[39m min_rating]\n\u001b[0;32m      7\u001b[0m \u001b[38;5;28;01mif\u001b[39;00m aspect:\n\u001b[1;32m----> 8\u001b[0m     filtered_df \u001b[38;5;241m=\u001b[39m filtered_df[\u001b[43mfiltered_df\u001b[49m\u001b[43m[\u001b[49m\u001b[38;5;124;43m'\u001b[39;49m\u001b[38;5;124;43maspect\u001b[39;49m\u001b[38;5;124;43m'\u001b[39;49m\u001b[43m]\u001b[49m \u001b[38;5;241m==\u001b[39m aspect]  \u001b[38;5;66;03m# Ajusta esta línea según cómo almacenes los aspectos\u001b[39;00m\n\u001b[0;32m      9\u001b[0m \u001b[38;5;28;01mreturn\u001b[39;00m filtered_df\n",
      "File \u001b[1;32mc:\\Users\\Josue\\OneDrive\\Data_Scientist\\Henry\\Bootcamp\\10. PF\\venv\\Lib\\site-packages\\pandas\\core\\frame.py:4102\u001b[0m, in \u001b[0;36mDataFrame.__getitem__\u001b[1;34m(self, key)\u001b[0m\n\u001b[0;32m   4100\u001b[0m \u001b[38;5;28;01mif\u001b[39;00m \u001b[38;5;28mself\u001b[39m\u001b[38;5;241m.\u001b[39mcolumns\u001b[38;5;241m.\u001b[39mnlevels \u001b[38;5;241m>\u001b[39m \u001b[38;5;241m1\u001b[39m:\n\u001b[0;32m   4101\u001b[0m     \u001b[38;5;28;01mreturn\u001b[39;00m \u001b[38;5;28mself\u001b[39m\u001b[38;5;241m.\u001b[39m_getitem_multilevel(key)\n\u001b[1;32m-> 4102\u001b[0m indexer \u001b[38;5;241m=\u001b[39m \u001b[38;5;28;43mself\u001b[39;49m\u001b[38;5;241;43m.\u001b[39;49m\u001b[43mcolumns\u001b[49m\u001b[38;5;241;43m.\u001b[39;49m\u001b[43mget_loc\u001b[49m\u001b[43m(\u001b[49m\u001b[43mkey\u001b[49m\u001b[43m)\u001b[49m\n\u001b[0;32m   4103\u001b[0m \u001b[38;5;28;01mif\u001b[39;00m is_integer(indexer):\n\u001b[0;32m   4104\u001b[0m     indexer \u001b[38;5;241m=\u001b[39m [indexer]\n",
      "File \u001b[1;32mc:\\Users\\Josue\\OneDrive\\Data_Scientist\\Henry\\Bootcamp\\10. PF\\venv\\Lib\\site-packages\\pandas\\core\\indexes\\base.py:3812\u001b[0m, in \u001b[0;36mIndex.get_loc\u001b[1;34m(self, key)\u001b[0m\n\u001b[0;32m   3807\u001b[0m     \u001b[38;5;28;01mif\u001b[39;00m \u001b[38;5;28misinstance\u001b[39m(casted_key, \u001b[38;5;28mslice\u001b[39m) \u001b[38;5;129;01mor\u001b[39;00m (\n\u001b[0;32m   3808\u001b[0m         \u001b[38;5;28misinstance\u001b[39m(casted_key, abc\u001b[38;5;241m.\u001b[39mIterable)\n\u001b[0;32m   3809\u001b[0m         \u001b[38;5;129;01mand\u001b[39;00m \u001b[38;5;28many\u001b[39m(\u001b[38;5;28misinstance\u001b[39m(x, \u001b[38;5;28mslice\u001b[39m) \u001b[38;5;28;01mfor\u001b[39;00m x \u001b[38;5;129;01min\u001b[39;00m casted_key)\n\u001b[0;32m   3810\u001b[0m     ):\n\u001b[0;32m   3811\u001b[0m         \u001b[38;5;28;01mraise\u001b[39;00m InvalidIndexError(key)\n\u001b[1;32m-> 3812\u001b[0m     \u001b[38;5;28;01mraise\u001b[39;00m \u001b[38;5;167;01mKeyError\u001b[39;00m(key) \u001b[38;5;28;01mfrom\u001b[39;00m \u001b[38;5;21;01merr\u001b[39;00m\n\u001b[0;32m   3813\u001b[0m \u001b[38;5;28;01mexcept\u001b[39;00m \u001b[38;5;167;01mTypeError\u001b[39;00m:\n\u001b[0;32m   3814\u001b[0m     \u001b[38;5;66;03m# If we have a listlike key, _check_indexing_error will raise\u001b[39;00m\n\u001b[0;32m   3815\u001b[0m     \u001b[38;5;66;03m#  InvalidIndexError. Otherwise we fall through and re-raise\u001b[39;00m\n\u001b[0;32m   3816\u001b[0m     \u001b[38;5;66;03m#  the TypeError.\u001b[39;00m\n\u001b[0;32m   3817\u001b[0m     \u001b[38;5;28mself\u001b[39m\u001b[38;5;241m.\u001b[39m_check_indexing_error(key)\n",
      "\u001b[1;31mKeyError\u001b[0m: 'aspect'"
     ]
    }
   ],
   "source": [
    "# Función para realizar los filtros iniciales según la ciudad, calificación mínima y aspecto\n",
    "def filter_df(df, city_name=None, min_rating=4, aspect=None):\n",
    "    filtered_df = df.copy()\n",
    "    if city_name:\n",
    "        filtered_df = filtered_df[filtered_df['city_name'] == city_name]\n",
    "    filtered_df = filtered_df[filtered_df['avg_rating'] >= min_rating]\n",
    "    if aspect:\n",
    "        filtered_df = filtered_df[filtered_df['aspect'] == aspect]  # Ajusta esta línea según cómo almacenes los aspectos\n",
    "    return filtered_df\n",
    "\n",
    "# Aplicar los filtros dinámicamente\n",
    "\n",
    "aspect = \"food_sentiment\"  # Cambia este valor para especificar el aspecto que deseas priorizar\n",
    "\n",
    "df_ml_4_1 = filter_df(df_ml_4, aspect=aspect)  # Agregué el parámetro 'aspect'\n",
    "\n",
    "# Filtrar un subconjunto de usuarios más activos\n",
    "active_users = df_ml_3_3['id_user'].value_counts().head(100).index.tolist()  # Convertir a lista\n",
    "df_ml_3_3 = df_ml_3_3[df_ml_3_3['id_user'].isin(active_users)]\n",
    "\n",
    "# Filtrar solo las reseñas de 4 o 5 estrellas\n",
    "df_ml_3_3['avg_rating_binary'] = df_ml_3_3['avg_rating'].apply(lambda x: 1 if x >= 4 else 0)\n",
    "\n",
    "# Crear una matriz de usuario-restaurante basada en las reseñas de 4 o 5 estrellas\n",
    "user_restaurant_matrix = df_ml_3_3.pivot_table(index='id_user', columns='business_name', values='avg_rating_binary')\n",
    "user_restaurant_matrix.fillna(0, inplace=True)\n",
    "\n",
    "# Reducir la dimensionalidad con TruncatedSVD\n",
    "svd = TruncatedSVD(n_components=100)\n",
    "user_restaurant_matrix_reduced = svd.fit_transform(user_restaurant_matrix)\n",
    "\n",
    "# Calcular la similitud entre usuarios usando la matriz reducida\n",
    "user_similarity = cosine_similarity(user_restaurant_matrix_reduced)\n",
    "user_similarity_df = pd.DataFrame(user_similarity, index=user_restaurant_matrix.index, columns=user_restaurant_matrix.index)\n",
    "\n",
    "# Separar en conjunto de entrenamiento y prueba\n",
    "train_df, test_df = train_test_split(df_ml_3_3, test_size=0.2, random_state=42)\n",
    "\n",
    "# Crear la matriz usuario-restaurante para entrenamiento\n",
    "train_user_restaurant_matrix = train_df.pivot_table(index='id_user', columns='business_name', values='avg_rating_binary')\n",
    "train_user_restaurant_matrix.fillna(0, inplace=True)\n",
    "\n",
    "# Función de recomendaciones colaborativas\n",
    "def get_recommendations(id_user, n_recommendations=3, user_restaurant_matrix=train_user_restaurant_matrix, user_similarity_df=user_similarity_df, sample_df=train_df):\n",
    "    avg_ratings = user_restaurant_matrix.loc[id_user]\n",
    "    similar_users = user_similarity_df[id_user].sort_values(ascending=False)\n",
    "    weighted_ratings = user_restaurant_matrix.T.dot(similar_users)\n",
    "    \n",
    "    scaler = MinMaxScaler()\n",
    "    weighted_ratings = pd.Series(scaler.fit_transform(weighted_ratings.values.reshape(-1, 1)).flatten(), index=weighted_ratings.index)\n",
    "    \n",
    "    rated_restaurants = avg_ratings[avg_ratings == 1].index\n",
    "    weighted_ratings.drop(rated_restaurants, inplace=True)\n",
    "    \n",
    "    top_recommendations = weighted_ratings.sort_values(ascending=False).head(n_recommendations)    \n",
    "    # Crear el DataFrame de recomendaciones con el mismo índice que top_recommendations\n",
    "    recommendations = sample_df[sample_df['business_name'].isin(top_recommendations.index)].copy()\n",
    "    \n",
    "    # Emparejar y asignar las similitudes correctas\n",
    "    similarity_dict = top_recommendations.to_dict()\n",
    "    recommendations['similarity'] = recommendations['business_name'].map(similarity_dict)  \n",
    "    recommendations['similarity'] = recommendations['similarity'].apply(lambda x: \"{:.2f}%\".format(x * 100))\n",
    "\n",
    "    # Ordenar por weighted_rating en orden descendente\n",
    "    recommendations.sort_values(by='weighted_rating', ascending=False, inplace=True)\n",
    "    # Eliminar duplicados basados en 'business_name' y 'business_address'\n",
    "    recommendations.drop_duplicates(subset=['business_name', 'business_address'], inplace=True)\n",
    "    recommendations.reset_index(drop=True, inplace=True)  # Ajustar los índices después del drop duplicates\n",
    "        \n",
    "    # Seleccionar y devolver solo las columnas especificadas en el orden solicitado, omitiendo 'weighted_rating'\n",
    "    return recommendations[['business_name', 'category_name', 'similarity', 'city_name', 'business_address', 'avg_rating', 'region', 'hours']].head(n_recommendations)\n",
    "\n",
    "# Seleccionar un id_user aleatorio del DataFrame de entrenamiento\n",
    "random_user = random.choice(train_df['id_user'].unique())\n",
    "\n",
    "# Obtener recomendaciones para el usuario aleatorio\n",
    "recommendations = get_recommendations(random_user, n_recommendations=3)\n",
    "\n",
    "# Mostrar las tres primeras recomendaciones\n",
    "print(f\"Recommended Restaurants for user {random_user} in {city_name} with min rating {min_rating}:\")\n",
    "recommendations\n"
   ]
  },
  {
   "cell_type": "markdown",
   "metadata": {},
   "source": [
    "### Endpoint 5: Recomendación basado en la calificación más alta que el usuario asigno a un restaurant"
   ]
  },
  {
   "cell_type": "markdown",
   "metadata": {},
   "source": [
    "Cómo Funciona el Sistema\n",
    "\n",
    "Filtrado de usuarios activos: Filtra a los 100 usuarios más activos del DataFrame sample_df_2.\n",
    "\n",
    "División de datos: Divide los datos en conjuntos de entrenamiento (train_df) y prueba (test_df).\n",
    "\n",
    "Combinar cuisine y restaurant_name: Combina las columnas cuisine y restaurant_name para crear una nueva columna cuisine_restaurant.\n",
    "\n",
    "Vectorización de descripciones: Vectoriza las descripciones de la nueva columna combinada utilizando TF-IDF.\n",
    "\n",
    "Similitud coseno: Calcula la similitud coseno entre los restaurantes en el conjunto de entrenamiento.\n",
    "\n",
    "Recomendación:\n",
    "\n",
    "Para cada usuario en el conjunto de prueba:\n",
    "\n",
    "Filtra las interacciones del usuario con calificaciones de 5 estrellas.\n",
    "\n",
    "Ordena los restaurantes por business_rating y selecciona los 3 más altos.\n",
    "\n",
    "Calcula la similitud promedio para los restaurantes recomendados y los convierte a porcentajes.\n",
    "\n",
    "Devuelve un DataFrame con las recomendaciones y la columna similarity formateada en porcentajes"
   ]
  },
  {
   "cell_type": "code",
   "execution_count": null,
   "metadata": {},
   "outputs": [
    {
     "name": "stdout",
     "output_type": "stream",
     "text": [
      "Tamaño del conjunto de entrenamiento: (6338712, 12)\n",
      "Tamaño del conjunto de prueba: (1584678, 12)\n"
     ]
    }
   ],
   "source": [
    "# Encuentra la city_name que más se repite\n",
    "top_city = df_ml_3['city_name'].mode()[0]\n",
    "\n",
    "# Filtra el DataFrame por la city_name que más se repite\n",
    "df_ml_3_4 = df_ml_3[df_ml_3['city_name'] == top_city]\n",
    "\n",
    "# Filtrar un subconjunto de usuarios más activos\n",
    "active_users = df_ml_3_4['id_user'].value_counts().head(100).index.tolist()  # Convertir a lista\n",
    "df_ml_3_4 = df_ml_3_4[df_ml_3_4['id_user'].isin(active_users)]\n",
    "\n",
    "\n",
    "# Dividir los datos en conjunto de entrenamiento y prueba\n",
    "train_df, test_df = train_test_split(df_ml_3, test_size=0.2, random_state=42)\n",
    "\n",
    "# Verificar el tamaño de los conjuntos de datos\n",
    "print(f\"Tamaño del conjunto de entrenamiento: {train_df.shape}\")\n",
    "print(f\"Tamaño del conjunto de prueba: {test_df.shape}\")\n",
    "\n",
    "# Reindexar el DataFrame de entrenamiento\n",
    "train_df = train_df.reset_index(drop=True)\n",
    "\n",
    "# Asegurarse de que no hay valores nulos en 'description'\n",
    "train_df['description'] = train_df['description'].fillna('')\n",
    "\n",
    "# Crear la matriz TF-IDF para la nueva columna combinada\n",
    "vectorizer = TfidfVectorizer()\n",
    "tfidf_matrix = vectorizer.fit_transform(train_df['description'])\n",
    "\n",
    "# Calcular la similitud coseno\n",
    "cosine_sim = cosine_similarity(tfidf_matrix)\n",
    "\n",
    "# Convertir la matriz de similitud coseno en un DataFrame\n",
    "cosine_sim_df = pd.DataFrame(cosine_sim, index=train_df.index, columns=train_df.index)\n",
    "\n",
    "# Crear una función de recomendación basada en calificaciones de 5 estrellas y filtrar por los 3 avg_rating más altos\n",
    "def get_top_rated_recommendation(id_user, df, sim_df):\n",
    "    user_interactions = df[(df['id_user'] == id_user) & (df['avg_rating'] == 5)]\n",
    "    if user_interactions.empty:\n",
    "        return pd.DataFrame(columns=['business_name', 'category_name', 'similarity', 'city_name', 'business_address', 'avg_rating', 'region', 'hours'])  # Devolver DataFrame vacío si el usuario no tiene interacciones de 5 estrellas\n",
    "    \n",
    "    # Ordenar por avg_rating y seleccionar los 3 más altos\n",
    "    top_rated = user_interactions.sort_values(by='avg_rating', ascending=False).head(3)\n",
    "    \n",
    "    # Calcular la similitud promedio para los restaurantes recomendados\n",
    "    similarities = []\n",
    "    for idx in top_rated.index:\n",
    "        sim_scores = sim_df.loc[idx].values\n",
    "        sim_avg = sim_scores.mean()\n",
    "        similarities.append(f\"{sim_avg * 100:.2f}%\")  # Convertir la similitud a porcentajes y agregar el símbolo %\n",
    "    \n",
    "    top_rated['similarity'] = similarities\n",
    "    \n",
    "    # Reordenar las columnas en el DataFrame de recomendaciones\n",
    "    recommendations = top_rated[['business_name', 'category_name', 'similarity', 'city_name', 'business_address', 'avg_rating', 'region', 'hours']]\n",
    "    \n",
    "    return recommendations\n",
    "\n",
    "# Generar una recomendación para un usuario en el conjunto de prueba\n",
    "test_id_user = df_ml_3_4['id_user'].sample(n=1).iloc[0]  # Seleccionar un usuario al azar del subconjunto\n",
    "print(f\"Recomendaciones basadas en las calificaciones de 5 estrellas y los 3 avg_rating más altos para el usuario: {test_id_user}\")\n",
    "top_rated_recommendation = get_top_rated_recommendation(test_id_user, train_df, cosine_sim_df)\n",
    "\n",
    "print(\"Recomendaciones basadas en las calificaciones de 5 estrellas y los 3 avg_rating más altos:\")\n",
    "top_rated_recommendation"
   ]
  },
  {
   "cell_type": "markdown",
   "metadata": {},
   "source": [
    "### Endpoint 5: Recomendación basado en un filtro híbrido"
   ]
  },
  {
   "cell_type": "markdown",
   "metadata": {},
   "source": [
    "Criterios:\n",
    "* Sistema 1: Basado en Calificaciones de Usuarios: Filtra y recomienda restaurantes que el usuario ha calificado con 5 estrellas.\n",
    "* Sistema 2: Basado en Similitud Coseno: Calcula la similitud coseno combinando las variables cuisine y restaurant_name.\n",
    "* Sistema 3: Filtrado por los 3 business_rating más altos: Recomienda los tres restaurantes con las calificaciones más altas (business_rating)."
   ]
  },
  {
   "cell_type": "code",
   "execution_count": 62,
   "metadata": {},
   "outputs": [
    {
     "name": "stdout",
     "output_type": "stream",
     "text": [
      "Tamaño del conjunto de entrenamiento: (2582, 10)\n",
      "Tamaño del conjunto de prueba: (646, 10)\n",
      "Recomendaciones híbridas para el usuario: 709161\n",
      "Recomendaciones híbridas:\n"
     ]
    },
    {
     "name": "stderr",
     "output_type": "stream",
     "text": [
      "C:\\Users\\Josue\\AppData\\Local\\Temp\\ipykernel_2776\\4145710907.py:40: SettingWithCopyWarning: \n",
      "A value is trying to be set on a copy of a slice from a DataFrame.\n",
      "Try using .loc[row_indexer,col_indexer] = value instead\n",
      "\n",
      "See the caveats in the documentation: https://pandas.pydata.org/pandas-docs/stable/user_guide/indexing.html#returning-a-view-versus-a-copy\n",
      "  not_visited_df['similarity'] = not_visited_df.index.map(lambda idx: sim_df.loc[idx].mean() * 100)\n"
     ]
    },
    {
     "data": {
      "text/html": [
       "<div>\n",
       "<style scoped>\n",
       "    .dataframe tbody tr th:only-of-type {\n",
       "        vertical-align: middle;\n",
       "    }\n",
       "\n",
       "    .dataframe tbody tr th {\n",
       "        vertical-align: top;\n",
       "    }\n",
       "\n",
       "    .dataframe thead th {\n",
       "        text-align: right;\n",
       "    }\n",
       "</style>\n",
       "<table border=\"1\" class=\"dataframe\">\n",
       "  <thead>\n",
       "    <tr style=\"text-align: right;\">\n",
       "      <th></th>\n",
       "      <th>restaurant_name</th>\n",
       "      <th>similarity</th>\n",
       "      <th>business_city</th>\n",
       "      <th>postal_code</th>\n",
       "      <th>business_rating</th>\n",
       "      <th>cuisine</th>\n",
       "    </tr>\n",
       "  </thead>\n",
       "  <tbody>\n",
       "    <tr>\n",
       "      <th>265</th>\n",
       "      <td>American Restaurant</td>\n",
       "      <td>17.03%</td>\n",
       "      <td>New York</td>\n",
       "      <td>10009</td>\n",
       "      <td>4.9</td>\n",
       "      <td>Regional-American Cuisine</td>\n",
       "    </tr>\n",
       "    <tr>\n",
       "      <th>623</th>\n",
       "      <td>American Restaurant</td>\n",
       "      <td>17.03%</td>\n",
       "      <td>New York</td>\n",
       "      <td>10014</td>\n",
       "      <td>4.8</td>\n",
       "      <td>Regional-American Cuisine</td>\n",
       "    </tr>\n",
       "    <tr>\n",
       "      <th>1168</th>\n",
       "      <td>American Restaurant</td>\n",
       "      <td>17.03%</td>\n",
       "      <td>New York</td>\n",
       "      <td>10012</td>\n",
       "      <td>4.7</td>\n",
       "      <td>Regional-American Cuisine</td>\n",
       "    </tr>\n",
       "  </tbody>\n",
       "</table>\n",
       "</div>"
      ],
      "text/plain": [
       "          restaurant_name similarity business_city  postal_code  \\\n",
       "265   American Restaurant     17.03%      New York        10009   \n",
       "623   American Restaurant     17.03%      New York        10014   \n",
       "1168  American Restaurant     17.03%      New York        10012   \n",
       "\n",
       "      business_rating                    cuisine  \n",
       "265               4.9  Regional-American Cuisine  \n",
       "623               4.8  Regional-American Cuisine  \n",
       "1168              4.7  Regional-American Cuisine  "
      ]
     },
     "execution_count": 62,
     "metadata": {},
     "output_type": "execute_result"
    }
   ],
   "source": [
    "# Crear una copia del DataFrame para evitar modificaciones en el original\n",
    "df_ml_3_5 = df_ml_3_3.copy()\n",
    "\n",
    "# Dividir los datos en conjunto de entrenamiento y prueba\n",
    "train_df, test_df = train_test_split(df_ml_3_5, test_size=0.2, random_state=42)\n",
    "\n",
    "# Verificar el tamaño de los conjuntos de datos\n",
    "print(f\"Tamaño del conjunto de entrenamiento: {train_df.shape}\")\n",
    "print(f\"Tamaño del conjunto de prueba: {test_df.shape}\")\n",
    "\n",
    "# Reindexar el DataFrame de entrenamiento\n",
    "train_df = train_df.reset_index(drop=True)\n",
    "\n",
    "# Combinar 'cuisine' y 'business_name' en una nueva columna\n",
    "train_df['cuisine_restaurant'] = train_df['cuisine'] + ' ' + train_df['business_name']\n",
    "\n",
    "# Crear la matriz TF-IDF para la nueva columna combinada\n",
    "vectorizer = TfidfVectorizer()\n",
    "tfidf_matrix = vectorizer.fit_transform(train_df['cuisine_restaurant'])\n",
    "\n",
    "# Calcular la similitud coseno\n",
    "cosine_sim = cosine_similarity(tfidf_matrix)\n",
    "\n",
    "# Convertir la matriz de similitud coseno en un DataFrame\n",
    "cosine_sim_df = pd.DataFrame(cosine_sim, index=train_df.index, columns=train_df.index)\n",
    "\n",
    "# Función para obtener recomendaciones híbridas\n",
    "def get_hybrid_recommendation(id_user, df, sim_df):\n",
    "    user_interactions = df[df['id_user'] == id_user]\n",
    "    visited_restaurants = user_interactions['business_name'].tolist()\n",
    "    \n",
    "    # Filtrar restaurantes no visitados por el usuario\n",
    "    not_visited_df = df[~df['business_name'].isin(visited_restaurants)]\n",
    "    \n",
    "    # Calcular la similitud coseno y ordenar por business_rating\n",
    "    not_visited_df['similarity'] = not_visited_df.index.map(lambda idx: sim_df.loc[idx].mean() * 100)\n",
    "    top_recommendations = not_visited_df.sort_values(by=['similarity', 'business_rating'], ascending=False).head(3)\n",
    "    \n",
    "    # Formatear la columna similarity con el término %\n",
    "    top_recommendations['similarity'] = top_recommendations['similarity'].apply(lambda x: f\"{x:.2f}%\")\n",
    "    \n",
    "    # Reordenar las columnas en el DataFrame de recomendaciones\n",
    "    recommendations = top_recommendations[['business_name', 'similarity', 'business_city', 'postal_code', 'business_rating', 'cuisine']]\n",
    "    \n",
    "    return recommendations\n",
    "\n",
    "# Generar una recomendación para un usuario en el conjunto de prueba\n",
    "test_id_user = df_ml_3_5['id_user'].sample(n=1).iloc[0]  # Seleccionar un usuario al azar del subconjunto\n",
    "print(f\"Recomendaciones híbridas para el usuario: {test_id_user}\")\n",
    "hybrid_recommendation = get_hybrid_recommendation(test_id_user, train_df, cosine_sim_df)\n",
    "\n",
    "print(\"Recomendaciones híbridas:\")\n",
    "hybrid_recommendation"
   ]
  }
 ],
 "metadata": {
  "kernelspec": {
   "display_name": "venv",
   "language": "python",
   "name": "python3"
  },
  "language_info": {
   "codemirror_mode": {
    "name": "ipython",
    "version": 3
   },
   "file_extension": ".py",
   "mimetype": "text/x-python",
   "name": "python",
   "nbconvert_exporter": "python",
   "pygments_lexer": "ipython3",
   "version": "3.11.5"
  }
 },
 "nbformat": 4,
 "nbformat_minor": 2
}
