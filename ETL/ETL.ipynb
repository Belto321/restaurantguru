{
 "cells": [
  {
   "cell_type": "markdown",
   "metadata": {},
   "source": [
    "## Ejecutamos las funciones creadas para el ETL"
   ]
  },
  {
   "cell_type": "code",
   "execution_count": null,
   "metadata": {},
   "outputs": [],
   "source": [
    "import sys\n",
    "import os\n",
    "import warnings\n",
    "\n",
    "# Agregar la carpeta raíz (un nivel arriba de EDA) a sys.path\n",
    "root_path = os.path.abspath(os.path.join(\"..\"))\n",
    "if root_path not in sys.path:\n",
    "    sys.path.append(root_path)\n",
    "from clean_functions.etl_functs import DataPipeline\n",
    "warnings.filterwarnings(\"ignore\")\n",
    "\n",
    "if __name__ == \"__main__\":\n",
    "    # Definir rutas a los archivos de entrada\n",
    "    yelp_path = \"Data_cleaned/Yelp/filtered_restaurants.parquet\"\n",
    "    google_path = \"Data_cleaned/Google/metadata-sitios/filtered_top_10_states.parquet\"\n",
    "    yelp_reviews_path = \"Data_cleaned/Yelp/review_filtered.parquet\"\n",
    "    google_reviews_path = \"Data_cleaned/Google/reviews-filtered/merged_reviews_clean.parquet\"\n",
    "    \n",
    "    # Inicializar el pipeline\n",
    "    pipeline = DataPipeline(yelp_path, google_path, yelp_reviews_path, google_reviews_path)\n",
    "    \n",
    "    # Ejecutar el pipeline y guardar resultados\n",
    "    print(\"Realizando merge de datos...\")\n",
    "    result = pipeline.merge_data()\n",
    "    \n",
    "    print(\"Procesando reviews...\")\n",
    "    df_reviews = pipeline.process_reviews(result)\n",
    "    \n",
    "    print(\"Creando tablas de estados y ciudades...\")\n",
    "    states, cities = pipeline.create_states_and_cities(result)\n",
    "    \n",
    "    print(\"Generando tablas de negocio y categorías...\")\n",
    "    business, categories, business_categories = pipeline.create_business_tables(result, cities)\n",
    "    \n",
    "    print(\"Creando tabla de usuarios...\")\n",
    "    users = pipeline.create_users_table(df_reviews)\n",
    "    \n",
    "    print(\"Proceso completado. Archivos guardados en la carpeta 'output'.\")\n"
   ]
  }
 ],
 "metadata": {
  "kernelspec": {
   "display_name": ".venv",
   "language": "python",
   "name": "python3"
  },
  "language_info": {
   "codemirror_mode": {
    "name": "ipython",
    "version": 3
   },
   "file_extension": ".py",
   "mimetype": "text/x-python",
   "name": "python",
   "nbconvert_exporter": "python",
   "pygments_lexer": "ipython3",
   "version": "3.10.0"
  }
 },
 "nbformat": 4,
 "nbformat_minor": 2
}
